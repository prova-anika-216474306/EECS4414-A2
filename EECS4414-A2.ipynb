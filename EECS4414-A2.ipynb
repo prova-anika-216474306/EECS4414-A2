{
 "cells": [
  {
   "cell_type": "code",
   "execution_count": 1,
   "id": "39a17c42",
   "metadata": {},
   "outputs": [],
   "source": [
    "%%capture\n",
    "!pip install networkx\n",
    "!pip install pandas"
   ]
  },
  {
   "cell_type": "code",
   "execution_count": 2,
   "id": "0f4b022a",
   "metadata": {},
   "outputs": [],
   "source": [
    "import json\n",
    "import networkx as nx\n",
    "import pandas as pd"
   ]
  },
  {
   "cell_type": "markdown",
   "id": "a8809994",
   "metadata": {},
   "source": [
    "# A. Temporal Graphs"
   ]
  },
  {
   "cell_type": "code",
   "execution_count": 3,
   "id": "fd6c7b44",
   "metadata": {},
   "outputs": [],
   "source": [
    "def create_graph(graph_data: list, target_year: int, weighted: bool = False):\n",
    "    graph = nx.Graph()\n",
    "    for author1, author2, year in graph_data:\n",
    "        if year != target_year: continue\n",
    "        if graph.has_edge(author1, author2):\n",
    "            graph[author1][author2][\"weight\"] = graph[author1][author2][\"weight\"] + 1\n",
    "        else:\n",
    "            graph.add_edge(author1, author2, weight=1)\n",
    "    return graph\n",
    "        "
   ]
  },
  {
   "cell_type": "code",
   "execution_count": 4,
   "id": "b414ecc5",
   "metadata": {},
   "outputs": [],
   "source": [
    "def load_json(file_path: str):\n",
    "    with open(file_path, \"r\") as file:\n",
    "        graph_data = json.load(file)\n",
    "        return graph_data"
   ]
  },
  {
   "cell_type": "code",
   "execution_count": 5,
   "id": "81ba6abb",
   "metadata": {},
   "outputs": [],
   "source": [
    "graph_data = load_json(\"./tmp_dblp_coauthorship.json\")"
   ]
  },
  {
   "cell_type": "code",
   "execution_count": 6,
   "id": "a0809a86",
   "metadata": {},
   "outputs": [],
   "source": [
    "dblp2005 = create_graph(graph_data, 2005)\n",
    "dblp2006 = create_graph(graph_data, 2006)\n",
    "dblp2005w = create_graph(graph_data, 2005, weighted=True)"
   ]
  },
  {
   "cell_type": "code",
   "execution_count": 7,
   "id": "6d434163",
   "metadata": {},
   "outputs": [
    {
     "name": "stdout",
     "output_type": "stream",
     "text": [
      "  Graph Name  Node Count  Edge Count\n",
      "0   dblp2005      180227      403026\n",
      "1   dblp2006      201298      465988\n",
      "2  dblp2005w      180227      403026\n"
     ]
    }
   ],
   "source": [
    "table = pd.DataFrame(columns=[\"Graph Name\", \"Node Count\", \"Edge Count\"])\n",
    "table.loc[len(table)] = [\"dblp2005\", dblp2005.number_of_nodes(), dblp2005.number_of_edges()]\n",
    "table.loc[len(table)] = [\"dblp2006\", dblp2006.number_of_nodes(), dblp2006.number_of_edges()]\n",
    "table.loc[len(table)] = [\"dblp2005w\", dblp2005w.number_of_nodes(), dblp2005w.number_of_edges()]\n",
    "\n",
    "print(table)"
   ]
  },
  {
   "cell_type": "markdown",
   "id": "1dcca4f6",
   "metadata": {},
   "source": [
    "## Giant Connected Components"
   ]
  },
  {
   "cell_type": "code",
   "execution_count": 8,
   "id": "a59a0f6b",
   "metadata": {},
   "outputs": [],
   "source": [
    "def giant_connected_component(graph):\n",
    "    giant_cc_nodeset = max(nx.connected_components(graph), key=len)\n",
    "    return graph.subgraph(giant_cc_nodeset)"
   ]
  },
  {
   "cell_type": "code",
   "execution_count": 9,
   "id": "96c1c74b",
   "metadata": {},
   "outputs": [],
   "source": [
    "dblp2005 = giant_connected_component(dblp2005)\n",
    "dblp2006 = giant_connected_component(dblp2006)\n",
    "dblp2005w = giant_connected_component(dblp2005w)"
   ]
  },
  {
   "cell_type": "markdown",
   "id": "dec51675",
   "metadata": {},
   "source": [
    "## Report"
   ]
  },
  {
   "cell_type": "code",
   "execution_count": 10,
   "id": "17d0a551",
   "metadata": {},
   "outputs": [
    {
     "name": "stdout",
     "output_type": "stream",
     "text": [
      "  Graph Name  GCC Node Count  GCC Edge Count\n",
      "0   dblp2005          106943          300043\n",
      "1   dblp2006          123808          356968\n",
      "2  dblp2005w          106943          300043\n"
     ]
    }
   ],
   "source": [
    "table = pd.DataFrame(columns=[\"Graph Name\", \"GCC Node Count\", \"GCC Edge Count\"])\n",
    "table.loc[len(table)] = [\"dblp2005\", dblp2005.number_of_nodes(), dblp2005.number_of_edges()]\n",
    "table.loc[len(table)] = [\"dblp2006\", dblp2006.number_of_nodes(), dblp2006.number_of_edges()]\n",
    "table.loc[len(table)] = [\"dblp2005w\", dblp2005w.number_of_nodes(), dblp2005w.number_of_edges()]\n",
    "\n",
    "print(table)"
   ]
  },
  {
   "cell_type": "markdown",
   "id": "96b00aad",
   "metadata": {},
   "source": [
    "# B. Node and Edge Importance in Graphs"
   ]
  },
  {
   "cell_type": "code",
   "execution_count": 11,
   "id": "97a0d7b6",
   "metadata": {},
   "outputs": [],
   "source": [
    "def pagerank(graph):\n",
    "    pagerank = nx.pagerank(graph)\n",
    "    return pagerank\n",
    "\n",
    "def edge_betweenness(graph, k=10, weight=None, normalized=False):\n",
    "    betweenness = nx.edge_betweenness_centrality(graph, k=k, weight=weight, normalized=normalized)\n",
    "    return betweenness\n",
    "    \n",
    "def report_node_importance(graph_name, pagerank, top_n=50):\n",
    "    node_importance_table = pd.DataFrame(columns=[\"Author name\", \"Pagerank score\"])\n",
    "    ranked_nodes = sorted(pagerank, reverse=True, key=lambda node: pagerank[node])\n",
    "    for i in range(0,top_n):\n",
    "        if i >= len(ranked_nodes): break\n",
    "        node = ranked_nodes[i]\n",
    "        rank = pagerank[node]\n",
    "        node_importance_table.loc[len(node_importance_table)] = [node, rank]\n",
    "    \n",
    "    print(f\"Graph: {graph_name}\")\n",
    "    print(\"Node importance:\")\n",
    "    print(node_importance_table)\n",
    "\n",
    "def report_edge_importance(graph_name, betweenness, top_n=20):\n",
    "    edge_importance_table = pd.DataFrame(columns=[\"Author 1\", \"Author 2\", \"Betweeness score\"])\n",
    "    ranked_edges = sorted(betweenness, reverse=True, key=lambda edge: betweenness[edge])\n",
    "    for i in range(0, top_n):\n",
    "        if i >= len(ranked_edges): break\n",
    "        edge = ranked_edges[i]\n",
    "        rank = betweenness[edge]\n",
    "        edge_importance_table.loc[len(edge_importance_table)] = [edge[0], edge[1], rank]\n",
    "        \n",
    "    print(f\"Graph: {graph_name}\")\n",
    "    print(\"Edge importance:\")\n",
    "    print(edge_importance_table)"
   ]
  },
  {
   "cell_type": "markdown",
   "id": "d21e91d6",
   "metadata": {},
   "source": [
    "## Report"
   ]
  },
  {
   "cell_type": "code",
   "execution_count": 12,
   "id": "0809a131",
   "metadata": {},
   "outputs": [
    {
     "name": "stdout",
     "output_type": "stream",
     "text": [
      "Graph: dblp2005\n",
      "Node importance:\n",
      "                           Author name  Pagerank score\n",
      "0                              Wen Gao        0.000175\n",
      "1                      Chin-Chen Chang        0.000152\n",
      "2                          Wei-Ying Ma        0.000135\n",
      "3                               Xin Li        0.000128\n",
      "4                         Licheng Jiao        0.000124\n",
      "5                     Francky Catthoor        0.000122\n",
      "6                      H. Vincent Poor        0.000119\n",
      "7                           Zhaohui Wu        0.000118\n",
      "8                    Hans-Peter Seidel        0.000117\n",
      "9                        Xianlong Hong        0.000114\n",
      "10                      Mario Piattini        0.000109\n",
      "11                           Wei Zhang        0.000108\n",
      "12                    Tharam S. Dillon        0.000108\n",
      "13                           Minglu Li        0.000108\n",
      "14                       Samuel Pierre        0.000104\n",
      "15                      Witold Pedrycz        0.000102\n",
      "16                       Guanrong Chen        0.000101\n",
      "17                             Wei Liu        0.000101\n",
      "18                             Hai Jin        0.000100\n",
      "19                      David J. Evans        0.000098\n",
      "20                         Mario Gerla        0.000097\n",
      "21                            Bin Wang        0.000097\n",
      "22                            Wei Wang        0.000097\n",
      "23  Alberto L. Sangiovanni-Vincentelli        0.000096\n",
      "24                       Jinxiang Dong        0.000095\n",
      "25                         Kaushik Roy        0.000093\n",
      "26                    Heung-Yeung Shum        0.000093\n",
      "27                           Hong Shen        0.000092\n",
      "28                   Donald F. Towsley        0.000092\n",
      "29                          Yong Zhang        0.000091\n",
      "30                  Norman C. Beaulieu        0.000090\n",
      "31                  Mahmut T. Kandemir        0.000090\n",
      "32                        Philip S. Yu        0.000090\n",
      "33                  Azzedine Boukerche        0.000089\n",
      "34                            Fang Liu        0.000089\n",
      "35                  Mani B. Srivastava        0.000089\n",
      "36                       Ajith Abraham        0.000089\n",
      "37                        Yvon Savaria        0.000088\n",
      "38                        Tak-Wai Chan        0.000088\n",
      "39                       Elisa Bertino        0.000087\n",
      "40                              Yan Li        0.000087\n",
      "41                             Jing Li        0.000087\n",
      "42                           Yan Zhang        0.000087\n",
      "43                            Xiang Li        0.000086\n",
      "44                        Jiannong Cao        0.000086\n",
      "45                              Lei Li        0.000086\n",
      "46                           Tao Zhang        0.000086\n",
      "47                      Chao-Tung Yang        0.000085\n",
      "48                       Hsinchun Chen        0.000085\n",
      "49                      Katsumi Tanaka        0.000084\n",
      "Graph: dblp2006\n",
      "Node importance:\n",
      "              Author name  Pagerank score\n",
      "0                 Wen Gao        0.000167\n",
      "1         Chin-Chen Chang        0.000143\n",
      "2                 Qing Li        0.000123\n",
      "3                  Hui Li        0.000118\n",
      "4              Yong Zhang        0.000117\n",
      "5                  Xin Li        0.000113\n",
      "6               Yan Zhang        0.000113\n",
      "7           Xiaodong Wang        0.000111\n",
      "8                Wei Wang        0.000109\n",
      "9                 Hai Jin        0.000107\n",
      "10                Wei Liu        0.000106\n",
      "11       Francky Catthoor        0.000105\n",
      "12                Yong Yu        0.000105\n",
      "13            Wei-Ying Ma        0.000102\n",
      "14              Wei Zhang        0.000101\n",
      "15                Ying Li        0.000100\n",
      "16             Zhaohui Wu        0.000098\n",
      "17         Mario Piattini        0.000097\n",
      "18               Li Zhang        0.000095\n",
      "19        Masayuki Murata        0.000094\n",
      "20            Mario Gerla        0.000093\n",
      "21               Yu Zhang        0.000093\n",
      "22               Fang Liu        0.000092\n",
      "23                Jian Li        0.000091\n",
      "24  Laurence Tianruo Yang        0.000089\n",
      "25                Jing Li        0.000089\n",
      "26          C. C. Jay Kuo        0.000088\n",
      "27                 Yan Li        0.000086\n",
      "28              Jian Wang        0.000086\n",
      "29          Samuel Pierre        0.000086\n",
      "30              Yang Xiao        0.000086\n",
      "31                 Tao Li        0.000085\n",
      "32               Ying Liu        0.000084\n",
      "33              Yang Yang        0.000083\n",
      "34                 Wei Li        0.000083\n",
      "35      Hans-Peter Seidel        0.000083\n",
      "36        Luc J. Van Gool        0.000082\n",
      "37               Hao Wang        0.000081\n",
      "38              Minglu Li        0.000081\n",
      "39            Lajos Hanzo        0.000080\n",
      "40            Luca Benini        0.000080\n",
      "41   Nicholas R. Jennings        0.000080\n",
      "42          Elisa Bertino        0.000080\n",
      "43            Xuemin Shen        0.000079\n",
      "44              Tao Zhang        0.000079\n",
      "45          Hsinchun Chen        0.000078\n",
      "46         Piet Demeester        0.000078\n",
      "47              Yong Wang        0.000078\n",
      "48        Thomas S. Huang        0.000078\n",
      "49                 Bin Li        0.000078\n",
      "Graph: dblp2005w\n",
      "Node importance:\n",
      "                           Author name  Pagerank score\n",
      "0                              Wen Gao        0.000175\n",
      "1                      Chin-Chen Chang        0.000152\n",
      "2                          Wei-Ying Ma        0.000135\n",
      "3                               Xin Li        0.000128\n",
      "4                         Licheng Jiao        0.000124\n",
      "5                     Francky Catthoor        0.000122\n",
      "6                      H. Vincent Poor        0.000119\n",
      "7                           Zhaohui Wu        0.000118\n",
      "8                    Hans-Peter Seidel        0.000117\n",
      "9                        Xianlong Hong        0.000114\n",
      "10                      Mario Piattini        0.000109\n",
      "11                           Wei Zhang        0.000108\n",
      "12                    Tharam S. Dillon        0.000108\n",
      "13                           Minglu Li        0.000108\n",
      "14                       Samuel Pierre        0.000104\n",
      "15                      Witold Pedrycz        0.000102\n",
      "16                       Guanrong Chen        0.000101\n",
      "17                             Wei Liu        0.000101\n",
      "18                             Hai Jin        0.000100\n",
      "19                      David J. Evans        0.000098\n",
      "20                         Mario Gerla        0.000097\n",
      "21                            Bin Wang        0.000097\n",
      "22                            Wei Wang        0.000097\n",
      "23  Alberto L. Sangiovanni-Vincentelli        0.000096\n",
      "24                       Jinxiang Dong        0.000095\n",
      "25                         Kaushik Roy        0.000093\n",
      "26                    Heung-Yeung Shum        0.000093\n",
      "27                           Hong Shen        0.000092\n",
      "28                   Donald F. Towsley        0.000092\n",
      "29                          Yong Zhang        0.000091\n",
      "30                  Norman C. Beaulieu        0.000090\n",
      "31                  Mahmut T. Kandemir        0.000090\n",
      "32                        Philip S. Yu        0.000090\n",
      "33                  Azzedine Boukerche        0.000089\n",
      "34                            Fang Liu        0.000089\n",
      "35                  Mani B. Srivastava        0.000089\n",
      "36                       Ajith Abraham        0.000089\n",
      "37                        Yvon Savaria        0.000088\n",
      "38                        Tak-Wai Chan        0.000088\n",
      "39                       Elisa Bertino        0.000087\n",
      "40                              Yan Li        0.000087\n",
      "41                             Jing Li        0.000087\n",
      "42                           Yan Zhang        0.000087\n",
      "43                            Xiang Li        0.000086\n",
      "44                        Jiannong Cao        0.000086\n",
      "45                              Lei Li        0.000086\n",
      "46                           Tao Zhang        0.000086\n",
      "47                      Chao-Tung Yang        0.000085\n",
      "48                       Hsinchun Chen        0.000085\n",
      "49                      Katsumi Tanaka        0.000084\n"
     ]
    }
   ],
   "source": [
    "dblp2005_pagerank = pagerank(dblp2005)\n",
    "dblp2006_pagerank = pagerank(dblp2006)\n",
    "dblp2005w_pagerank = pagerank(dblp2005w)\n",
    "\n",
    "report_node_importance(\"dblp2005\", dblp2005_pagerank)\n",
    "report_node_importance(\"dblp2006\", dblp2006_pagerank)\n",
    "report_node_importance(\"dblp2005w\", dblp2005w_pagerank)"
   ]
  },
  {
   "cell_type": "code",
   "execution_count": 13,
   "id": "bf0944d4",
   "metadata": {},
   "outputs": [
    {
     "name": "stdout",
     "output_type": "stream",
     "text": [
      "Graph: dblp2005\n",
      "Edge importance:\n",
      "               Author 1             Author 2  Betweeness score\n",
      "0     Tomasz Jurdzinski       Friedrich Otto      53549.000000\n",
      "1   Miroslaw Kutylowski    Tomasz Jurdzinski      53539.000000\n",
      "2          Ivan Cosovic     Andreas Springer      53530.750000\n",
      "3   Miroslaw Kutylowski    Marcin Gogolewski      53474.250000\n",
      "4               Wei Sun         Jun-jie Ling      53473.500000\n",
      "5      Andreas Springer   Christian Wicpalek      53471.500000\n",
      "6              Feng Liu          Haiyuan Liu      53300.340192\n",
      "7       Michele Morelli         Ivan Cosovic      53155.270159\n",
      "8         C. C. Jay Kuo      Michele Morelli      52644.046067\n",
      "9        Friedrich Otto        Markus Holzer      50614.623601\n",
      "10      Dominik Aronsky         Will B. Rice      45672.659687\n",
      "11        Markus Holzer       Henning Fernau      40033.680611\n",
      "12      Dominik Aronsky  S. Trent Rosenbloom      38006.295184\n",
      "13             Kai Shen     Joel I. Seiferas      37725.767877\n",
      "14             Yinyu Ye         Jiawei Zhang      30385.733205\n",
      "15         Jin Bae Park       Young-Pil Park      30162.285052\n",
      "16       Young-Pil Park        Young-Sik Kim      30150.285052\n",
      "17        Guanrong Chen         Jin Bae Park      27078.566002\n",
      "18        Ajith Abraham       Pandian Vasant      26763.000000\n",
      "19        Ajith Abraham  Arijit Bhattacharya      26740.500000\n",
      "Graph: dblp2006\n",
      "Edge importance:\n",
      "                 Author 1               Author 2  Betweeness score\n",
      "0     Michael A. Shepherd  Syed Sibte Raza Abidi      61939.000000\n",
      "1       Marilyn A. Walker  Ryuichiro Higashinaka      61915.500000\n",
      "2   Syed Sibte Raza Abidi         Yong Han Chong      61915.500000\n",
      "3       Marilyn A. Walker      François Mairesse      61908.000000\n",
      "4      Johnson I. Agbinya          Jackson Phiri      61908.000000\n",
      "5            Gábor Tardos          Gábor Simonyi      61908.000000\n",
      "6          Yong Han Chong          Siew Lan Neoh      61907.500000\n",
      "7   Ryuichiro Higashinaka           Mikio Nakano      61751.615163\n",
      "8        Mitsuru Ishizuka           Mikio Nakano      54171.349209\n",
      "9                 Yang Li     Johnson I. Agbinya      43862.651836\n",
      "10       Mitsuru Ishizuka               Hua Wang      43291.369034\n",
      "11     Carolyn R. Watters    Michael A. Shepherd      42037.166255\n",
      "12            Thomas Ertl               Min Chen      41558.155656\n",
      "13          John A. Clark       Colin G. Johnson      39987.450682\n",
      "14               Hao Chen          John A. Clark      39405.050023\n",
      "15         Zbigniew Suraj        Neamat El Gayar      39148.108566\n",
      "16        Andrzej Skowron         Zbigniew Suraj      36547.071601\n",
      "17        David R. Karger          William Jones      33833.820212\n",
      "18            Thomas Ertl       Peter Hastreiter      30836.815073\n",
      "19            Thomas Ertl           Frank Enders      30832.315073\n"
     ]
    }
   ],
   "source": [
    "dblp2005_betweenness = edge_betweenness(dblp2005)\n",
    "dblp2006_betweenness = edge_betweenness(dblp2006)\n",
    "#dblp2005w_betweenness = edge_betweenness(dblp2005w, weight=weight)\n",
    "\n",
    "report_edge_importance(\"dblp2005\", dblp2005_betweenness)\n",
    "report_edge_importance(\"dblp2006\", dblp2006_betweenness)\n",
    "#report_edge_importance(\"dblp2005w\", dblp2005w_betweenness)"
   ]
  },
  {
   "cell_type": "markdown",
   "id": "117eafad",
   "metadata": {},
   "source": [
    "# C. Link Prediction in Graphs"
   ]
  },
  {
   "cell_type": "markdown",
   "id": "57bcdf99",
   "metadata": {},
   "source": [
    "## Pruning graphs"
   ]
  },
  {
   "cell_type": "code",
   "execution_count": 14,
   "id": "90697029",
   "metadata": {},
   "outputs": [],
   "source": [
    "def extract_subgraph_by_degree_count(graph, min_degree: int):\n",
    "    nodes_to_keep = [node for node, degree in graph.degree if degree >= min_degree]\n",
    "    return graph.subgraph(nodes_to_keep)"
   ]
  },
  {
   "cell_type": "code",
   "execution_count": 15,
   "id": "09415533",
   "metadata": {},
   "outputs": [],
   "source": [
    "dblp2005_core = extract_subgraph_by_degree_count(dblp2005, 3)\n",
    "dblp2006_core = extract_subgraph_by_degree_count(dblp2006, 3)"
   ]
  },
  {
   "cell_type": "markdown",
   "id": "ebb58658",
   "metadata": {},
   "source": [
    "## Prediction"
   ]
  },
  {
   "cell_type": "code",
   "execution_count": 16,
   "id": "a0611a36",
   "metadata": {},
   "outputs": [],
   "source": [
    "def friends_of_friends_connections(graph):\n",
    "    fof_connections = []\n",
    "    visited = set()\n",
    "    for node in graph.nodes():\n",
    "        fof_set = set()\n",
    "        for friend in graph[node]:\n",
    "            if friend == node: continue\n",
    "            for fof in graph[friend]:\n",
    "                if fof == node or fof in visited:\n",
    "                    continue\n",
    "                fof_set.add(fof)\n",
    "        \n",
    "        for fof in fof_set:\n",
    "            fof_connections.append((node, fof))\n",
    "                \n",
    "        visited.add(node)\n",
    "    return fof_connections\n",
    "                    \n",
    "    \n",
    "def graph_edge_difference(minuend_graph, subtrahend_graph):\n",
    "    edge_difference = []\n",
    "    for edge in minuend_graph.edges():\n",
    "        if subtrahend_graph.has_edge(*edge):\n",
    "            continue\n",
    "        edge_difference.append(edge)\n",
    "    return edge_difference"
   ]
  },
  {
   "cell_type": "code",
   "execution_count": 17,
   "id": "a1620864",
   "metadata": {},
   "outputs": [],
   "source": [
    "candidate_edges = friends_of_friends_connections(dblp2005_core)\n",
    "ground_truth_edges = graph_edge_difference(dblp2006_core, dblp2005_core)"
   ]
  },
  {
   "cell_type": "markdown",
   "id": "336b3c8f",
   "metadata": {},
   "source": [
    "## Precision"
   ]
  },
  {
   "cell_type": "code",
   "execution_count": 18,
   "id": "235f3a65",
   "metadata": {},
   "outputs": [],
   "source": [
    "def precision_at_k(k_values, predictions, ground_truth, include_max_k=False):\n",
    "    if type(k_values)==int:\n",
    "        k_values = [k_values]\n",
    "    ground_truth = set(ground_truth)\n",
    "    precision_results = dict()\n",
    "    \n",
    "    # `predictions` is of the form (u,v,s) where (u,v) is the edge, and s is the score for the edge for the specific link prediction algorithm that produced those predictions\n",
    "    sorted_predictions = sorted(predictions, key=lambda pred: pred[2])\n",
    "    predictions = [(u, v) for (u,v,s) in sorted_predictions]\n",
    "    \n",
    "    k = 0\n",
    "    correct_pred_count = 0\n",
    "    for pred in predictions:\n",
    "        k += 1\n",
    "        if pred in ground_truth:\n",
    "            correct_pred_count += 1\n",
    "        \n",
    "        if k in k_values:\n",
    "            precision_results[k] = correct_pred_count/k\n",
    "    \n",
    "    if include_max_k and k>0 and k not in precision_results:\n",
    "        precision_results[k] = correct_pred_count/k\n",
    "    \n",
    "    return precision_results\n",
    "\n",
    "def precision_report(predictions, ground_truth):\n",
    "    fixed_k_vals = [10, 20, 50, 100]\n",
    "    precision_results = precision_at_k(fixed_k_vals, predictions, ground_truth, include_max_k=True)\n",
    "    k_vals = sorted(precision_results.keys())\n",
    "    if len(precision_results)==0:\n",
    "        return pd.DataFrame()\n",
    "    \n",
    "    precision_report = pd.DataFrame(columns=[f\"P@{k}\" for k in k_vals])\n",
    "    precision_report.loc[len(precision_report)] = [precision_results[k] for k in k_vals]\n",
    "    \n",
    "    return precision_report\n",
    "        \n",
    "    "
   ]
  },
  {
   "cell_type": "code",
   "execution_count": 19,
   "id": "1a3a72aa",
   "metadata": {},
   "outputs": [
    {
     "name": "stdout",
     "output_type": "stream",
     "text": [
      "P@k values for Jaccard Coefficient\n",
      "   P@10  P@20  P@50  P@100  P@1236018\n",
      "0   0.0   0.0  0.04   0.02    0.00563\n"
     ]
    }
   ],
   "source": [
    "print(\"P@k values for Jaccard Coefficient\")\n",
    "jc_pred = nx.jaccard_coefficient(dblp2005_core, candidate_edges)\n",
    "print(precision_report(jc_pred, ground_truth_edges))"
   ]
  },
  {
   "cell_type": "code",
   "execution_count": 20,
   "id": "656658b0",
   "metadata": {},
   "outputs": [
    {
     "name": "stdout",
     "output_type": "stream",
     "text": [
      "P@k values for Preferential Attachment\n",
      "   P@10  P@20  P@50  P@100  P@1236018\n",
      "0   0.0   0.0   0.0   0.01    0.00563\n"
     ]
    }
   ],
   "source": [
    "print(\"P@k values for Preferential Attachment\")\n",
    "pa_pred = nx.preferential_attachment(dblp2005_core, candidate_edges)\n",
    "print(precision_report(pa_pred, ground_truth_edges))"
   ]
  },
  {
   "cell_type": "code",
   "execution_count": 21,
   "id": "110fea79",
   "metadata": {},
   "outputs": [
    {
     "name": "stdout",
     "output_type": "stream",
     "text": [
      "P@k values for Adamic/Adar\n",
      "   P@10  P@20  P@50  P@100  P@1236018\n",
      "0   0.0   0.0   0.0    0.0    0.00563\n"
     ]
    }
   ],
   "source": [
    "print(\"P@k values for Adamic/Adar\")\n",
    "aa_pred = nx.adamic_adar_index(dblp2005_core, candidate_edges)\n",
    "print(precision_report(aa_pred, ground_truth_edges))"
   ]
  },
  {
   "cell_type": "code",
   "execution_count": 35,
   "id": "fea1d24a",
   "metadata": {},
   "outputs": [
    {
     "name": "stdout",
     "output_type": "stream",
     "text": [
      "P@k values for Common Neighbors\n"
     ]
    },
    {
     "ename": "NetworkXAlgorithmError",
     "evalue": "No community information",
     "output_type": "error",
     "traceback": [
      "\u001b[1;31m---------------------------------------------------------------------------\u001b[0m",
      "\u001b[1;31mKeyError\u001b[0m                                  Traceback (most recent call last)",
      "File \u001b[1;32m~\\anaconda3\\lib\\site-packages\\networkx\\algorithms\\link_prediction.py:594\u001b[0m, in \u001b[0;36m_community\u001b[1;34m(G, u, community)\u001b[0m\n\u001b[0;32m    593\u001b[0m \u001b[38;5;28;01mtry\u001b[39;00m:\n\u001b[1;32m--> 594\u001b[0m     \u001b[38;5;28;01mreturn\u001b[39;00m \u001b[43mnode_u\u001b[49m\u001b[43m[\u001b[49m\u001b[43mcommunity\u001b[49m\u001b[43m]\u001b[49m\n\u001b[0;32m    595\u001b[0m \u001b[38;5;28;01mexcept\u001b[39;00m \u001b[38;5;167;01mKeyError\u001b[39;00m \u001b[38;5;28;01mas\u001b[39;00m err:\n",
      "\u001b[1;31mKeyError\u001b[0m: None",
      "\nThe above exception was the direct cause of the following exception:\n",
      "\u001b[1;31mNetworkXAlgorithmError\u001b[0m                    Traceback (most recent call last)",
      "Input \u001b[1;32mIn [35]\u001b[0m, in \u001b[0;36m<cell line: 3>\u001b[1;34m()\u001b[0m\n\u001b[0;32m      1\u001b[0m \u001b[38;5;28mprint\u001b[39m(\u001b[38;5;124m\"\u001b[39m\u001b[38;5;124mP@k values for Common Neighbors\u001b[39m\u001b[38;5;124m\"\u001b[39m)\n\u001b[0;32m      2\u001b[0m cn_pred \u001b[38;5;241m=\u001b[39m nx\u001b[38;5;241m.\u001b[39mcn_soundarajan_hopcroft(dblp2005_core, candidate_edges, community\u001b[38;5;241m=\u001b[39m\u001b[38;5;28;01mNone\u001b[39;00m)\n\u001b[1;32m----> 3\u001b[0m \u001b[38;5;28mprint\u001b[39m(\u001b[43mprecision_report\u001b[49m\u001b[43m(\u001b[49m\u001b[43mcn_pred\u001b[49m\u001b[43m,\u001b[49m\u001b[43m \u001b[49m\u001b[43mground_truth_edges\u001b[49m\u001b[43m)\u001b[49m)\n",
      "Input \u001b[1;32mIn [18]\u001b[0m, in \u001b[0;36mprecision_report\u001b[1;34m(predictions, ground_truth)\u001b[0m\n\u001b[0;32m     26\u001b[0m \u001b[38;5;28;01mdef\u001b[39;00m \u001b[38;5;21mprecision_report\u001b[39m(predictions, ground_truth):\n\u001b[0;32m     27\u001b[0m     fixed_k_vals \u001b[38;5;241m=\u001b[39m [\u001b[38;5;241m10\u001b[39m, \u001b[38;5;241m20\u001b[39m, \u001b[38;5;241m50\u001b[39m, \u001b[38;5;241m100\u001b[39m]\n\u001b[1;32m---> 28\u001b[0m     precision_results \u001b[38;5;241m=\u001b[39m \u001b[43mprecision_at_k\u001b[49m\u001b[43m(\u001b[49m\u001b[43mfixed_k_vals\u001b[49m\u001b[43m,\u001b[49m\u001b[43m \u001b[49m\u001b[43mpredictions\u001b[49m\u001b[43m,\u001b[49m\u001b[43m \u001b[49m\u001b[43mground_truth\u001b[49m\u001b[43m,\u001b[49m\u001b[43m \u001b[49m\u001b[43minclude_max_k\u001b[49m\u001b[38;5;241;43m=\u001b[39;49m\u001b[38;5;28;43;01mTrue\u001b[39;49;00m\u001b[43m)\u001b[49m\n\u001b[0;32m     29\u001b[0m     k_vals \u001b[38;5;241m=\u001b[39m \u001b[38;5;28msorted\u001b[39m(precision_results\u001b[38;5;241m.\u001b[39mkeys())\n\u001b[0;32m     30\u001b[0m     \u001b[38;5;28;01mif\u001b[39;00m \u001b[38;5;28mlen\u001b[39m(precision_results)\u001b[38;5;241m==\u001b[39m\u001b[38;5;241m0\u001b[39m:\n",
      "Input \u001b[1;32mIn [18]\u001b[0m, in \u001b[0;36mprecision_at_k\u001b[1;34m(k_values, predictions, ground_truth, include_max_k)\u001b[0m\n\u001b[0;32m      5\u001b[0m precision_results \u001b[38;5;241m=\u001b[39m \u001b[38;5;28mdict\u001b[39m()\n\u001b[0;32m      7\u001b[0m \u001b[38;5;66;03m# `predictions` is of the form (u,v,s) where (u,v) is the edge, and s is the score for the edge for the specific link prediction algorithm that produced those predictions\u001b[39;00m\n\u001b[1;32m----> 8\u001b[0m sorted_predictions \u001b[38;5;241m=\u001b[39m \u001b[38;5;28;43msorted\u001b[39;49m\u001b[43m(\u001b[49m\u001b[43mpredictions\u001b[49m\u001b[43m,\u001b[49m\u001b[43m \u001b[49m\u001b[43mkey\u001b[49m\u001b[38;5;241;43m=\u001b[39;49m\u001b[38;5;28;43;01mlambda\u001b[39;49;00m\u001b[43m \u001b[49m\u001b[43mpred\u001b[49m\u001b[43m:\u001b[49m\u001b[43m \u001b[49m\u001b[43mpred\u001b[49m\u001b[43m[\u001b[49m\u001b[38;5;241;43m2\u001b[39;49m\u001b[43m]\u001b[49m\u001b[43m)\u001b[49m\n\u001b[0;32m      9\u001b[0m predictions \u001b[38;5;241m=\u001b[39m [(u, v) \u001b[38;5;28;01mfor\u001b[39;00m (u,v,s) \u001b[38;5;129;01min\u001b[39;00m sorted_predictions]\n\u001b[0;32m     11\u001b[0m k \u001b[38;5;241m=\u001b[39m \u001b[38;5;241m0\u001b[39m\n",
      "File \u001b[1;32m~\\anaconda3\\lib\\site-packages\\networkx\\algorithms\\link_prediction.py:40\u001b[0m, in \u001b[0;36m<genexpr>\u001b[1;34m(.0)\u001b[0m\n\u001b[0;32m     38\u001b[0m \u001b[38;5;28;01mif\u001b[39;00m ebunch \u001b[38;5;129;01mis\u001b[39;00m \u001b[38;5;28;01mNone\u001b[39;00m:\n\u001b[0;32m     39\u001b[0m     ebunch \u001b[38;5;241m=\u001b[39m nx\u001b[38;5;241m.\u001b[39mnon_edges(G)\n\u001b[1;32m---> 40\u001b[0m \u001b[38;5;28;01mreturn\u001b[39;00m ((u, v, \u001b[43mfunc\u001b[49m\u001b[43m(\u001b[49m\u001b[43mu\u001b[49m\u001b[43m,\u001b[49m\u001b[43m \u001b[49m\u001b[43mv\u001b[49m\u001b[43m)\u001b[49m) \u001b[38;5;28;01mfor\u001b[39;00m u, v \u001b[38;5;129;01min\u001b[39;00m ebunch)\n",
      "File \u001b[1;32m~\\anaconda3\\lib\\site-packages\\networkx\\algorithms\\link_prediction.py:421\u001b[0m, in \u001b[0;36mcn_soundarajan_hopcroft.<locals>.predict\u001b[1;34m(u, v)\u001b[0m\n\u001b[0;32m    420\u001b[0m \u001b[38;5;28;01mdef\u001b[39;00m \u001b[38;5;21mpredict\u001b[39m(u, v):\n\u001b[1;32m--> 421\u001b[0m     Cu \u001b[38;5;241m=\u001b[39m \u001b[43m_community\u001b[49m\u001b[43m(\u001b[49m\u001b[43mG\u001b[49m\u001b[43m,\u001b[49m\u001b[43m \u001b[49m\u001b[43mu\u001b[49m\u001b[43m,\u001b[49m\u001b[43m \u001b[49m\u001b[43mcommunity\u001b[49m\u001b[43m)\u001b[49m\n\u001b[0;32m    422\u001b[0m     Cv \u001b[38;5;241m=\u001b[39m _community(G, v, community)\n\u001b[0;32m    423\u001b[0m     cnbors \u001b[38;5;241m=\u001b[39m \u001b[38;5;28mlist\u001b[39m(nx\u001b[38;5;241m.\u001b[39mcommon_neighbors(G, u, v))\n",
      "File \u001b[1;32m~\\anaconda3\\lib\\site-packages\\networkx\\algorithms\\link_prediction.py:596\u001b[0m, in \u001b[0;36m_community\u001b[1;34m(G, u, community)\u001b[0m\n\u001b[0;32m    594\u001b[0m     \u001b[38;5;28;01mreturn\u001b[39;00m node_u[community]\n\u001b[0;32m    595\u001b[0m \u001b[38;5;28;01mexcept\u001b[39;00m \u001b[38;5;167;01mKeyError\u001b[39;00m \u001b[38;5;28;01mas\u001b[39;00m err:\n\u001b[1;32m--> 596\u001b[0m     \u001b[38;5;28;01mraise\u001b[39;00m nx\u001b[38;5;241m.\u001b[39mNetworkXAlgorithmError(\u001b[38;5;124m\"\u001b[39m\u001b[38;5;124mNo community information\u001b[39m\u001b[38;5;124m\"\u001b[39m) \u001b[38;5;28;01mfrom\u001b[39;00m \u001b[38;5;21;01merr\u001b[39;00m\n",
      "\u001b[1;31mNetworkXAlgorithmError\u001b[0m: No community information"
     ]
    }
   ],
   "source": [
    "print(\"P@k values for Common Neighbors\")\n",
    "cn_pred = nx.cn_soundarajan_hopcroft(dblp2005_core, candidate_edges, community=None)\n",
    "print(precision_report(cn_pred, ground_truth_edges))"
   ]
  },
  {
   "cell_type": "code",
   "execution_count": null,
   "id": "f40685bb",
   "metadata": {},
   "outputs": [],
   "source": []
  },
  {
   "cell_type": "code",
   "execution_count": null,
   "id": "ca133a4d",
   "metadata": {},
   "outputs": [],
   "source": [
    "def precision_report(graph, target_edges, k_values, method_name):\n",
    "    random.seed(42)  # Set a random seed for reproducibility\n",
    "    predicted_edges = random.sample(list(graph.edges()), max(k_values))\n",
    "    \n",
    "    print(f\"P@k values for {method_name}\")\n",
    "    for k in k_values:\n",
    "        top_k_predictions = predicted_edges[:k]\n",
    "        true_positives = len(set(top_k_predictions).intersection(target_edges))\n",
    "        precision = true_positives / k\n",
    "        print(f\"P@{k}: {precision:.2f}\")"
   ]
  },
  {
   "cell_type": "code",
   "execution_count": null,
   "id": "cb6e2c95",
   "metadata": {},
   "outputs": [],
   "source": [
    "communities = list(nx.community.girvan_newman(dblp2005))\n",
    "\n",
    "k = 10\n",
    "while len(communities) <= k:\n",
    "    \n",
    "    edge_to_remove = max(nx.edge_betweenness_centrality(dblp2005))\n",
    "    edges_to_remove = [edge_to_remove]  \n",
    "    G.remove_edges_from(edges_to_remove)\n",
    "    communities = list(nx.community.girvan_newman(dblp2005))\n",
    "\n",
    "community_sizes = [len(community) for community in communities]\n",
    "community_sizes.sort(reverse=True)\n",
    "\n",
    "for i, size in enumerate(community_sizes[:10], 1):\n",
    "    print(f\"Community {i}: {size} nodes\")\n"
   ]
  },
  {
   "cell_type": "code",
   "execution_count": 39,
   "id": "c1424b25",
   "metadata": {},
   "outputs": [
    {
     "ename": "KeyboardInterrupt",
     "evalue": "",
     "output_type": "error",
     "traceback": [
      "\u001b[1;31m---------------------------------------------------------------------------\u001b[0m",
      "\u001b[1;31mKeyboardInterrupt\u001b[0m                         Traceback (most recent call last)",
      "Input \u001b[1;32mIn [39]\u001b[0m, in \u001b[0;36m<cell line: 11>\u001b[1;34m()\u001b[0m\n\u001b[0;32m      9\u001b[0m \u001b[38;5;66;03m# Usage example\u001b[39;00m\n\u001b[0;32m     10\u001b[0m k_sample_size \u001b[38;5;241m=\u001b[39m \u001b[38;5;241m10\u001b[39m  \u001b[38;5;66;03m# Set k to a value smaller than the number of nodes in your graph\u001b[39;00m\n\u001b[1;32m---> 11\u001b[0m communities \u001b[38;5;241m=\u001b[39m \u001b[43mgirvan_newman_with_sampling\u001b[49m\u001b[43m(\u001b[49m\u001b[43mdblp2005\u001b[49m\u001b[43m,\u001b[49m\u001b[43m \u001b[49m\u001b[43mk_sample_size\u001b[49m\u001b[43m)\u001b[49m\n\u001b[0;32m     13\u001b[0m \u001b[38;5;66;03m# Report the sizes of the communities\u001b[39;00m\n\u001b[0;32m     14\u001b[0m community_sizes \u001b[38;5;241m=\u001b[39m [\u001b[38;5;28mlen\u001b[39m(community) \u001b[38;5;28;01mfor\u001b[39;00m community \u001b[38;5;129;01min\u001b[39;00m communities]\n",
      "Input \u001b[1;32mIn [39]\u001b[0m, in \u001b[0;36mgirvan_newman_with_sampling\u001b[1;34m(G, k)\u001b[0m\n\u001b[0;32m      5\u001b[0m \u001b[38;5;28;01mdef\u001b[39;00m \u001b[38;5;21mgirvan_newman_with_sampling\u001b[39m(G, k):\n\u001b[1;32m----> 6\u001b[0m     communities \u001b[38;5;241m=\u001b[39m \u001b[38;5;28;43mlist\u001b[39;49m\u001b[43m(\u001b[49m\u001b[43mnx\u001b[49m\u001b[38;5;241;43m.\u001b[39;49m\u001b[43mcommunity\u001b[49m\u001b[38;5;241;43m.\u001b[39;49m\u001b[43mgirvan_newman\u001b[49m\u001b[43m(\u001b[49m\u001b[43mG\u001b[49m\u001b[43m,\u001b[49m\u001b[43m \u001b[49m\u001b[43mmost_valuable_edge\u001b[49m\u001b[38;5;241;43m=\u001b[39;49m\u001b[38;5;28;43;01mlambda\u001b[39;49;00m\u001b[43m \u001b[49m\u001b[43mG\u001b[49m\u001b[43m:\u001b[49m\u001b[43m \u001b[49m\u001b[43mmost_valuable_edge\u001b[49m\u001b[43m(\u001b[49m\u001b[43mG\u001b[49m\u001b[43m,\u001b[49m\u001b[43m \u001b[49m\u001b[43mk\u001b[49m\u001b[43m)\u001b[49m\u001b[43m)\u001b[49m\u001b[43m)\u001b[49m\n\u001b[0;32m      7\u001b[0m     \u001b[38;5;28;01mreturn\u001b[39;00m communities\n",
      "File \u001b[1;32m~\\anaconda3\\lib\\site-packages\\networkx\\algorithms\\community\\centrality.py:147\u001b[0m, in \u001b[0;36mgirvan_newman\u001b[1;34m(G, most_valuable_edge)\u001b[0m\n\u001b[0;32m    145\u001b[0m g\u001b[38;5;241m.\u001b[39mremove_edges_from(nx\u001b[38;5;241m.\u001b[39mselfloop_edges(g))\n\u001b[0;32m    146\u001b[0m \u001b[38;5;28;01mwhile\u001b[39;00m g\u001b[38;5;241m.\u001b[39mnumber_of_edges() \u001b[38;5;241m>\u001b[39m \u001b[38;5;241m0\u001b[39m:\n\u001b[1;32m--> 147\u001b[0m     \u001b[38;5;28;01myield\u001b[39;00m \u001b[43m_without_most_central_edges\u001b[49m\u001b[43m(\u001b[49m\u001b[43mg\u001b[49m\u001b[43m,\u001b[49m\u001b[43m \u001b[49m\u001b[43mmost_valuable_edge\u001b[49m\u001b[43m)\u001b[49m\n",
      "File \u001b[1;32m~\\anaconda3\\lib\\site-packages\\networkx\\algorithms\\community\\centrality.py:166\u001b[0m, in \u001b[0;36m_without_most_central_edges\u001b[1;34m(G, most_valuable_edge)\u001b[0m\n\u001b[0;32m    164\u001b[0m num_new_components \u001b[38;5;241m=\u001b[39m original_num_components\n\u001b[0;32m    165\u001b[0m \u001b[38;5;28;01mwhile\u001b[39;00m num_new_components \u001b[38;5;241m<\u001b[39m\u001b[38;5;241m=\u001b[39m original_num_components:\n\u001b[1;32m--> 166\u001b[0m     edge \u001b[38;5;241m=\u001b[39m \u001b[43mmost_valuable_edge\u001b[49m\u001b[43m(\u001b[49m\u001b[43mG\u001b[49m\u001b[43m)\u001b[49m\n\u001b[0;32m    167\u001b[0m     G\u001b[38;5;241m.\u001b[39mremove_edge(\u001b[38;5;241m*\u001b[39medge)\n\u001b[0;32m    168\u001b[0m     new_components \u001b[38;5;241m=\u001b[39m \u001b[38;5;28mtuple\u001b[39m(nx\u001b[38;5;241m.\u001b[39mconnected_components(G))\n",
      "Input \u001b[1;32mIn [39]\u001b[0m, in \u001b[0;36mgirvan_newman_with_sampling.<locals>.<lambda>\u001b[1;34m(G)\u001b[0m\n\u001b[0;32m      5\u001b[0m \u001b[38;5;28;01mdef\u001b[39;00m \u001b[38;5;21mgirvan_newman_with_sampling\u001b[39m(G, k):\n\u001b[1;32m----> 6\u001b[0m     communities \u001b[38;5;241m=\u001b[39m \u001b[38;5;28mlist\u001b[39m(nx\u001b[38;5;241m.\u001b[39mcommunity\u001b[38;5;241m.\u001b[39mgirvan_newman(G, most_valuable_edge\u001b[38;5;241m=\u001b[39m\u001b[38;5;28;01mlambda\u001b[39;00m G: \u001b[43mmost_valuable_edge\u001b[49m\u001b[43m(\u001b[49m\u001b[43mG\u001b[49m\u001b[43m,\u001b[49m\u001b[43m \u001b[49m\u001b[43mk\u001b[49m\u001b[43m)\u001b[49m))\n\u001b[0;32m      7\u001b[0m     \u001b[38;5;28;01mreturn\u001b[39;00m communities\n",
      "Input \u001b[1;32mIn [39]\u001b[0m, in \u001b[0;36mmost_valuable_edge\u001b[1;34m(G, k)\u001b[0m\n\u001b[0;32m      1\u001b[0m \u001b[38;5;28;01mdef\u001b[39;00m \u001b[38;5;21mmost_valuable_edge\u001b[39m(G, k):\n\u001b[1;32m----> 2\u001b[0m     edge_betweenness \u001b[38;5;241m=\u001b[39m \u001b[43mnx\u001b[49m\u001b[38;5;241;43m.\u001b[39;49m\u001b[43medge_betweenness_centrality\u001b[49m\u001b[43m(\u001b[49m\u001b[43mG\u001b[49m\u001b[43m,\u001b[49m\u001b[43m \u001b[49m\u001b[43mk\u001b[49m\u001b[38;5;241;43m=\u001b[39;49m\u001b[43mk\u001b[49m\u001b[43m)\u001b[49m\n\u001b[0;32m      3\u001b[0m     \u001b[38;5;28;01mreturn\u001b[39;00m \u001b[38;5;28mmax\u001b[39m(edge_betweenness, key\u001b[38;5;241m=\u001b[39medge_betweenness\u001b[38;5;241m.\u001b[39mget)\n",
      "File \u001b[1;32m<class 'networkx.utils.decorators.argmap'> compilation 8:4\u001b[0m, in \u001b[0;36margmap_edge_betweenness_centrality_5\u001b[1;34m(G, k, normalized, weight, seed)\u001b[0m\n\u001b[0;32m      2\u001b[0m \u001b[38;5;28;01mfrom\u001b[39;00m \u001b[38;5;21;01mos\u001b[39;00m\u001b[38;5;21;01m.\u001b[39;00m\u001b[38;5;21;01mpath\u001b[39;00m \u001b[38;5;28;01mimport\u001b[39;00m splitext\n\u001b[0;32m      3\u001b[0m \u001b[38;5;28;01mfrom\u001b[39;00m \u001b[38;5;21;01mcontextlib\u001b[39;00m \u001b[38;5;28;01mimport\u001b[39;00m contextmanager\n\u001b[1;32m----> 4\u001b[0m \u001b[38;5;28;01mfrom\u001b[39;00m \u001b[38;5;21;01mpathlib\u001b[39;00m \u001b[38;5;28;01mimport\u001b[39;00m Path\n\u001b[0;32m      6\u001b[0m \u001b[38;5;28;01mimport\u001b[39;00m \u001b[38;5;21;01mnetworkx\u001b[39;00m \u001b[38;5;28;01mas\u001b[39;00m \u001b[38;5;21;01mnx\u001b[39;00m\n\u001b[0;32m      7\u001b[0m \u001b[38;5;28;01mfrom\u001b[39;00m \u001b[38;5;21;01mnetworkx\u001b[39;00m\u001b[38;5;21;01m.\u001b[39;00m\u001b[38;5;21;01mutils\u001b[39;00m \u001b[38;5;28;01mimport\u001b[39;00m create_random_state, create_py_random_state\n",
      "File \u001b[1;32m~\\anaconda3\\lib\\site-packages\\networkx\\algorithms\\centrality\\betweenness.py:233\u001b[0m, in \u001b[0;36medge_betweenness_centrality\u001b[1;34m(G, k, normalized, weight, seed)\u001b[0m\n\u001b[0;32m    231\u001b[0m         S, P, sigma, _ \u001b[38;5;241m=\u001b[39m _single_source_dijkstra_path_basic(G, s, weight)\n\u001b[0;32m    232\u001b[0m     \u001b[38;5;66;03m# accumulation\u001b[39;00m\n\u001b[1;32m--> 233\u001b[0m     betweenness \u001b[38;5;241m=\u001b[39m \u001b[43m_accumulate_edges\u001b[49m\u001b[43m(\u001b[49m\u001b[43mbetweenness\u001b[49m\u001b[43m,\u001b[49m\u001b[43m \u001b[49m\u001b[43mS\u001b[49m\u001b[43m,\u001b[49m\u001b[43m \u001b[49m\u001b[43mP\u001b[49m\u001b[43m,\u001b[49m\u001b[43m \u001b[49m\u001b[43msigma\u001b[49m\u001b[43m,\u001b[49m\u001b[43m \u001b[49m\u001b[43ms\u001b[49m\u001b[43m)\u001b[49m\n\u001b[0;32m    234\u001b[0m \u001b[38;5;66;03m# rescaling\u001b[39;00m\n\u001b[0;32m    235\u001b[0m \u001b[38;5;28;01mfor\u001b[39;00m n \u001b[38;5;129;01min\u001b[39;00m G:  \u001b[38;5;66;03m# remove nodes to only return edges\u001b[39;00m\n",
      "File \u001b[1;32m~\\anaconda3\\lib\\site-packages\\networkx\\algorithms\\centrality\\betweenness.py:352\u001b[0m, in \u001b[0;36m_accumulate_edges\u001b[1;34m(betweenness, S, P, sigma, s)\u001b[0m\n\u001b[0;32m    350\u001b[0m         betweenness[(w, v)] \u001b[38;5;241m+\u001b[39m\u001b[38;5;241m=\u001b[39m c\n\u001b[0;32m    351\u001b[0m     \u001b[38;5;28;01melse\u001b[39;00m:\n\u001b[1;32m--> 352\u001b[0m         betweenness[(v, w)] \u001b[38;5;241m+\u001b[39m\u001b[38;5;241m=\u001b[39m c\n\u001b[0;32m    353\u001b[0m     delta[v] \u001b[38;5;241m+\u001b[39m\u001b[38;5;241m=\u001b[39m c\n\u001b[0;32m    354\u001b[0m \u001b[38;5;28;01mif\u001b[39;00m w \u001b[38;5;241m!=\u001b[39m s:\n",
      "\u001b[1;31mKeyboardInterrupt\u001b[0m: "
     ]
    }
   ],
   "source": [
    "def most_valuable_edge(G, k):\n",
    "    edge_betweenness = nx.edge_betweenness_centrality(G, k=k)\n",
    "    return max(edge_betweenness, key=edge_betweenness.get)\n",
    "\n",
    "def girvan_newman_with_sampling(G, k):\n",
    "    communities = list(nx.community.girvan_newman(G, most_valuable_edge=lambda G: most_valuable_edge(G, k)))\n",
    "    return communities\n",
    "\n",
    "k_sample_size = 10  \n",
    "communities = girvan_newman_with_sampling(dblp2005, k_sample_size)\n",
    "\n",
    "community_sizes = [len(community) for community in communities]\n",
    "community_sizes.sort(reverse=True)\n",
    "for i, size in enumerate(community_sizes, 1):\n",
    "    print(f\"Community {i}: {size} nodes\")"
   ]
  },
  {
   "cell_type": "code",
   "execution_count": null,
   "id": "699d6eec",
   "metadata": {},
   "outputs": [],
   "source": []
  }
 ],
 "metadata": {
  "kernelspec": {
   "display_name": "Python 3 (ipykernel)",
   "language": "python",
   "name": "python3"
  },
  "language_info": {
   "codemirror_mode": {
    "name": "ipython",
    "version": 3
   },
   "file_extension": ".py",
   "mimetype": "text/x-python",
   "name": "python",
   "nbconvert_exporter": "python",
   "pygments_lexer": "ipython3",
   "version": "3.8.8"
  }
 },
 "nbformat": 4,
 "nbformat_minor": 5
}
