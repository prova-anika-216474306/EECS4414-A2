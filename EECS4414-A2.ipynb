{
 "cells": [
  {
   "cell_type": "code",
   "execution_count": 1,
   "id": "39a17c42",
   "metadata": {},
   "outputs": [],
   "source": [
    "%%capture\n",
    "!pip install networkx\n",
    "!pip install pandas"
   ]
  },
  {
   "cell_type": "code",
   "execution_count": 2,
   "id": "0f4b022a",
   "metadata": {},
   "outputs": [],
   "source": [
    "import json\n",
    "import networkx as nx\n",
    "import pandas as pd"
   ]
  },
  {
   "cell_type": "markdown",
   "id": "a8809994",
   "metadata": {},
   "source": [
    "# A. Temporal Graphs"
   ]
  },
  {
   "cell_type": "code",
   "execution_count": 3,
   "id": "fd6c7b44",
   "metadata": {},
   "outputs": [],
   "source": [
    "def create_graph(graph_data: list, target_year: int, weighted: bool = False):\n",
    "    graph = nx.Graph()\n",
    "    for author1, author2, year in graph_data:\n",
    "        if year != target_year: continue\n",
    "        if graph.has_edge(author1, author2):\n",
    "            graph[author1][author2][\"weight\"] = graph[author1][author2][\"weight\"] + 1\n",
    "        else:\n",
    "            graph.add_edge(author1, author2, weight=1)\n",
    "    return graph\n",
    "        "
   ]
  },
  {
   "cell_type": "code",
   "execution_count": 4,
   "id": "b414ecc5",
   "metadata": {},
   "outputs": [],
   "source": [
    "def load_json(file_path: str):\n",
    "    with open(file_path, \"r\") as file:\n",
    "        graph_data = json.load(file)\n",
    "        return graph_data"
   ]
  },
  {
   "cell_type": "code",
   "execution_count": 5,
   "id": "81ba6abb",
   "metadata": {},
   "outputs": [],
   "source": [
    "graph_data = load_json(\"./tmp_dblp_coauthorship.json\")"
   ]
  },
  {
   "cell_type": "code",
   "execution_count": 6,
   "id": "a0809a86",
   "metadata": {},
   "outputs": [],
   "source": [
    "dblp2005 = create_graph(graph_data, 2005)\n",
    "dblp2006 = create_graph(graph_data, 2006)\n",
    "dblp2005w = create_graph(graph_data, 2005, weighted=True)"
   ]
  },
  {
   "cell_type": "code",
   "execution_count": 7,
   "id": "6d434163",
   "metadata": {},
   "outputs": [
    {
     "name": "stdout",
     "output_type": "stream",
     "text": [
      "  Graph Name  Node Count  Edge Count\n",
      "0   dblp2005      180227      403026\n",
      "1   dblp2006      201298      465988\n",
      "2  dblp2005w      180227      403026\n"
     ]
    }
   ],
   "source": [
    "table = pd.DataFrame(columns=[\"Graph Name\", \"Node Count\", \"Edge Count\"])\n",
    "table.loc[len(table)] = [\"dblp2005\", dblp2005.number_of_nodes(), dblp2005.number_of_edges()]\n",
    "table.loc[len(table)] = [\"dblp2006\", dblp2006.number_of_nodes(), dblp2006.number_of_edges()]\n",
    "table.loc[len(table)] = [\"dblp2005w\", dblp2005w.number_of_nodes(), dblp2005w.number_of_edges()]\n",
    "\n",
    "print(table)"
   ]
  },
  {
   "cell_type": "markdown",
   "id": "1dcca4f6",
   "metadata": {},
   "source": [
    "## Giant Connected Components"
   ]
  },
  {
   "cell_type": "code",
   "execution_count": 8,
   "id": "a59a0f6b",
   "metadata": {},
   "outputs": [],
   "source": [
    "def giant_connected_component(graph):\n",
    "    giant_cc_nodeset = max(nx.connected_components(graph), key=len)\n",
    "    return graph.subgraph(giant_cc_nodeset)"
   ]
  },
  {
   "cell_type": "code",
   "execution_count": 9,
   "id": "96c1c74b",
   "metadata": {},
   "outputs": [],
   "source": [
    "dblp2005 = giant_connected_component(dblp2005)\n",
    "dblp2006 = giant_connected_component(dblp2006)\n",
    "dblp2005w = giant_connected_component(dblp2005w)"
   ]
  },
  {
   "cell_type": "markdown",
   "id": "dec51675",
   "metadata": {},
   "source": [
    "## Report"
   ]
  },
  {
   "cell_type": "code",
   "execution_count": 10,
   "id": "17d0a551",
   "metadata": {},
   "outputs": [
    {
     "name": "stdout",
     "output_type": "stream",
     "text": [
      "  Graph Name  GCC Node Count  GCC Edge Count\n",
      "0   dblp2005          106943          300043\n",
      "1   dblp2006          123808          356968\n",
      "2  dblp2005w          106943          300043\n"
     ]
    }
   ],
   "source": [
    "table = pd.DataFrame(columns=[\"Graph Name\", \"GCC Node Count\", \"GCC Edge Count\"])\n",
    "table.loc[len(table)] = [\"dblp2005\", dblp2005.number_of_nodes(), dblp2005.number_of_edges()]\n",
    "table.loc[len(table)] = [\"dblp2006\", dblp2006.number_of_nodes(), dblp2006.number_of_edges()]\n",
    "table.loc[len(table)] = [\"dblp2005w\", dblp2005w.number_of_nodes(), dblp2005w.number_of_edges()]\n",
    "\n",
    "print(table)"
   ]
  },
  {
   "cell_type": "markdown",
   "id": "96b00aad",
   "metadata": {},
   "source": [
    "# B. Node and Edge Importance in Graphs"
   ]
  },
  {
   "cell_type": "code",
   "execution_count": 14,
   "id": "97a0d7b6",
   "metadata": {},
   "outputs": [],
   "source": [
    "def pagerank(graph):\n",
    "    pagerank = nx.pagerank(graph)\n",
    "    return pagerank\n",
    "\n",
    "def edge_betweenness(graph, k=1, weight=None, normalized=False):\n",
    "    betweenness = nx.edge_betweenness_centrality(graph, k=k, weight=weight, normalized=normalized)\n",
    "    return betweenness\n",
    "    \n",
    "def report_node_importance(graph_name, pagerank, top_n=50):\n",
    "    node_importance_table = pd.DataFrame(columns=[\"Author name\", \"Pagerank score\"])\n",
    "    ranked_nodes = sorted(pagerank, reverse=True, key=lambda node: pagerank[node])\n",
    "    for i in range(0,top_n):\n",
    "        if i >= len(ranked_nodes): break\n",
    "        node = ranked_nodes[i]\n",
    "        rank = pagerank[node]\n",
    "        node_importance_table.loc[len(node_importance_table)] = [node, rank]\n",
    "    \n",
    "    print(f\"Graph: {graph_name}\")\n",
    "    print(\"Node importance:\")\n",
    "    print(node_importance_table)\n",
    "\n",
    "def report_edge_importance(graph_name, betweenness, top_n=20):\n",
    "    edge_importance_table = pd.DataFrame(columns=[\"Author 1\", \"Author 2\", \"Betweeness score\"])\n",
    "    ranked_edges = sorted(betweenness, reverse=True, key=lambda edge: betweenness[edge])\n",
    "    for i in range(0, top_n):\n",
    "        if i >= len(ranked_edges): break\n",
    "        edge = ranked_edges[i]\n",
    "        rank = betweenness[edge]\n",
    "        edge_importance_table.loc[len(edge_importance_table)] = [edge[0], edge[1], rank]\n",
    "        \n",
    "    print(f\"Graph: {graph_name}\")\n",
    "    print(\"Edge importance:\")\n",
    "    print(edge_importance_table)"
   ]
  },
  {
   "cell_type": "markdown",
   "id": "d21e91d6",
   "metadata": {},
   "source": [
    "## Report"
   ]
  },
  {
   "cell_type": "code",
   "execution_count": 12,
   "id": "0809a131",
   "metadata": {},
   "outputs": [
    {
     "name": "stdout",
     "output_type": "stream",
     "text": [
      "Graph: dblp2005\n",
      "Node importance:\n",
      "                           Author name  Pagerank score\n",
      "0                              Wen Gao        0.000175\n",
      "1                      Chin-Chen Chang        0.000152\n",
      "2                          Wei-Ying Ma        0.000135\n",
      "3                               Xin Li        0.000128\n",
      "4                         Licheng Jiao        0.000124\n",
      "5                     Francky Catthoor        0.000122\n",
      "6                      H. Vincent Poor        0.000119\n",
      "7                           Zhaohui Wu        0.000118\n",
      "8                    Hans-Peter Seidel        0.000117\n",
      "9                        Xianlong Hong        0.000114\n",
      "10                      Mario Piattini        0.000109\n",
      "11                           Wei Zhang        0.000108\n",
      "12                    Tharam S. Dillon        0.000108\n",
      "13                           Minglu Li        0.000108\n",
      "14                       Samuel Pierre        0.000104\n",
      "15                      Witold Pedrycz        0.000102\n",
      "16                       Guanrong Chen        0.000101\n",
      "17                             Wei Liu        0.000101\n",
      "18                             Hai Jin        0.000100\n",
      "19                      David J. Evans        0.000098\n",
      "20                         Mario Gerla        0.000097\n",
      "21                            Bin Wang        0.000097\n",
      "22                            Wei Wang        0.000097\n",
      "23  Alberto L. Sangiovanni-Vincentelli        0.000096\n",
      "24                       Jinxiang Dong        0.000095\n",
      "25                         Kaushik Roy        0.000093\n",
      "26                    Heung-Yeung Shum        0.000093\n",
      "27                           Hong Shen        0.000092\n",
      "28                   Donald F. Towsley        0.000092\n",
      "29                          Yong Zhang        0.000091\n",
      "30                  Norman C. Beaulieu        0.000090\n",
      "31                  Mahmut T. Kandemir        0.000090\n",
      "32                        Philip S. Yu        0.000090\n",
      "33                  Azzedine Boukerche        0.000089\n",
      "34                            Fang Liu        0.000089\n",
      "35                  Mani B. Srivastava        0.000089\n",
      "36                       Ajith Abraham        0.000089\n",
      "37                        Yvon Savaria        0.000088\n",
      "38                        Tak-Wai Chan        0.000088\n",
      "39                       Elisa Bertino        0.000087\n",
      "40                              Yan Li        0.000087\n",
      "41                             Jing Li        0.000087\n",
      "42                           Yan Zhang        0.000087\n",
      "43                            Xiang Li        0.000086\n",
      "44                        Jiannong Cao        0.000086\n",
      "45                              Lei Li        0.000086\n",
      "46                           Tao Zhang        0.000086\n",
      "47                      Chao-Tung Yang        0.000085\n",
      "48                       Hsinchun Chen        0.000085\n",
      "49                      Katsumi Tanaka        0.000084\n",
      "Graph: dblp2006\n",
      "Node importance:\n",
      "              Author name  Pagerank score\n",
      "0                 Wen Gao        0.000167\n",
      "1         Chin-Chen Chang        0.000143\n",
      "2                 Qing Li        0.000123\n",
      "3                  Hui Li        0.000118\n",
      "4              Yong Zhang        0.000117\n",
      "5                  Xin Li        0.000113\n",
      "6               Yan Zhang        0.000113\n",
      "7           Xiaodong Wang        0.000111\n",
      "8                Wei Wang        0.000109\n",
      "9                 Hai Jin        0.000107\n",
      "10                Wei Liu        0.000106\n",
      "11       Francky Catthoor        0.000105\n",
      "12                Yong Yu        0.000105\n",
      "13            Wei-Ying Ma        0.000102\n",
      "14              Wei Zhang        0.000101\n",
      "15                Ying Li        0.000100\n",
      "16             Zhaohui Wu        0.000098\n",
      "17         Mario Piattini        0.000097\n",
      "18               Li Zhang        0.000095\n",
      "19        Masayuki Murata        0.000094\n",
      "20            Mario Gerla        0.000093\n",
      "21               Yu Zhang        0.000093\n",
      "22               Fang Liu        0.000092\n",
      "23                Jian Li        0.000091\n",
      "24  Laurence Tianruo Yang        0.000089\n",
      "25                Jing Li        0.000089\n",
      "26          C. C. Jay Kuo        0.000088\n",
      "27                 Yan Li        0.000086\n",
      "28              Jian Wang        0.000086\n",
      "29          Samuel Pierre        0.000086\n",
      "30              Yang Xiao        0.000086\n",
      "31                 Tao Li        0.000085\n",
      "32               Ying Liu        0.000084\n",
      "33              Yang Yang        0.000083\n",
      "34                 Wei Li        0.000083\n",
      "35      Hans-Peter Seidel        0.000083\n",
      "36        Luc J. Van Gool        0.000082\n",
      "37               Hao Wang        0.000081\n",
      "38              Minglu Li        0.000081\n",
      "39            Lajos Hanzo        0.000080\n",
      "40            Luca Benini        0.000080\n",
      "41   Nicholas R. Jennings        0.000080\n",
      "42          Elisa Bertino        0.000080\n",
      "43            Xuemin Shen        0.000079\n",
      "44              Tao Zhang        0.000079\n",
      "45          Hsinchun Chen        0.000078\n",
      "46         Piet Demeester        0.000078\n",
      "47              Yong Wang        0.000078\n",
      "48        Thomas S. Huang        0.000078\n",
      "49                 Bin Li        0.000078\n",
      "Graph: dblp2005w\n",
      "Node importance:\n",
      "                           Author name  Pagerank score\n",
      "0                              Wen Gao        0.000175\n",
      "1                      Chin-Chen Chang        0.000152\n",
      "2                          Wei-Ying Ma        0.000135\n",
      "3                               Xin Li        0.000128\n",
      "4                         Licheng Jiao        0.000124\n",
      "5                     Francky Catthoor        0.000122\n",
      "6                      H. Vincent Poor        0.000119\n",
      "7                           Zhaohui Wu        0.000118\n",
      "8                    Hans-Peter Seidel        0.000117\n",
      "9                        Xianlong Hong        0.000114\n",
      "10                      Mario Piattini        0.000109\n",
      "11                           Wei Zhang        0.000108\n",
      "12                    Tharam S. Dillon        0.000108\n",
      "13                           Minglu Li        0.000108\n",
      "14                       Samuel Pierre        0.000104\n",
      "15                      Witold Pedrycz        0.000102\n",
      "16                       Guanrong Chen        0.000101\n",
      "17                             Wei Liu        0.000101\n",
      "18                             Hai Jin        0.000100\n",
      "19                      David J. Evans        0.000098\n",
      "20                         Mario Gerla        0.000097\n",
      "21                            Bin Wang        0.000097\n",
      "22                            Wei Wang        0.000097\n",
      "23  Alberto L. Sangiovanni-Vincentelli        0.000096\n",
      "24                       Jinxiang Dong        0.000095\n",
      "25                         Kaushik Roy        0.000093\n",
      "26                    Heung-Yeung Shum        0.000093\n",
      "27                           Hong Shen        0.000092\n",
      "28                   Donald F. Towsley        0.000092\n",
      "29                          Yong Zhang        0.000091\n",
      "30                  Norman C. Beaulieu        0.000090\n",
      "31                  Mahmut T. Kandemir        0.000090\n",
      "32                        Philip S. Yu        0.000090\n",
      "33                  Azzedine Boukerche        0.000089\n",
      "34                            Fang Liu        0.000089\n",
      "35                  Mani B. Srivastava        0.000089\n",
      "36                       Ajith Abraham        0.000089\n",
      "37                        Yvon Savaria        0.000088\n",
      "38                        Tak-Wai Chan        0.000088\n",
      "39                       Elisa Bertino        0.000087\n",
      "40                              Yan Li        0.000087\n",
      "41                             Jing Li        0.000087\n",
      "42                           Yan Zhang        0.000087\n",
      "43                            Xiang Li        0.000086\n",
      "44                        Jiannong Cao        0.000086\n",
      "45                              Lei Li        0.000086\n",
      "46                           Tao Zhang        0.000086\n",
      "47                      Chao-Tung Yang        0.000085\n",
      "48                       Hsinchun Chen        0.000085\n",
      "49                      Katsumi Tanaka        0.000084\n"
     ]
    }
   ],
   "source": [
    "dblp2005_pagerank = pagerank(dblp2005)\n",
    "dblp2006_pagerank = pagerank(dblp2006)\n",
    "dblp2005w_pagerank = pagerank(dblp2005w)\n",
    "\n",
    "report_node_importance(\"dblp2005\", dblp2005_pagerank)\n",
    "report_node_importance(\"dblp2006\", dblp2006_pagerank)\n",
    "report_node_importance(\"dblp2005w\", dblp2005w_pagerank)"
   ]
  },
  {
   "cell_type": "code",
   "execution_count": 15,
   "id": "bf0944d4",
   "metadata": {},
   "outputs": [
    {
     "name": "stdout",
     "output_type": "stream",
     "text": [
      "Graph: dblp2005\n",
      "Edge importance:\n",
      "               Author 1             Author 2  Betweeness score\n",
      "0           Avner Magen      Toniann Pitassi      12064.060149\n",
      "1            Paul Beame      Toniann Pitassi      11367.424318\n",
      "2       Michael E. Saks      Toniann Pitassi       7977.355280\n",
      "3        Henry A. Kautz           Paul Beame       7018.517403\n",
      "4      Lisa Hellerstein      Toniann Pitassi       5777.888380\n",
      "5       Toniann Pitassi        Allan Borodin       5508.326995\n",
      "6       Michael E. Saks    Rocco A. Servedio       5201.489120\n",
      "7       Toniann Pitassi        Eric Allender       4870.444842\n",
      "8   Panayiotis Tsaparas        Allan Borodin       4652.367740\n",
      "9              Dan Roth    Rocco A. Servedio       3583.301198\n",
      "10     Lisa Hellerstein           David Page       3286.469331\n",
      "11      Toniann Pitassi        Avi Wigderson       2895.901594\n",
      "12     Cristopher Moore           Paul Beame       2462.678083\n",
      "13      Toniann Pitassi  Russell Impagliazzo       2440.486710\n",
      "14               Xin Li             Dan Roth       2404.617442\n",
      "15   Raghu Ramakrishnan           David Page       2279.121140\n",
      "16        Neil Immerman        Eric Allender       2240.406791\n",
      "17  Panayiotis Tsaparas   Christos Faloutsos       2044.988951\n",
      "18          Avner Magen        Lance Fortnow       1961.640361\n",
      "19        Lance Fortnow  Russell Impagliazzo       1961.640361\n",
      "Graph: dblp2006\n",
      "Edge importance:\n",
      "            Author 1          Author 2  Betweeness score\n",
      "0    Thomas Dandekar   Chunguang Liang      61903.500000\n",
      "1    Thomas Dandekar    Knut Schwarzer      58153.313223\n",
      "2   Alexander E. Kel    Knut Schwarzer      28815.493598\n",
      "3    Edgar Wingender    Knut Schwarzer      28813.493598\n",
      "4           Xin Chen  Alexander E. Kel      28810.475741\n",
      "5           Xin Chen   Edgar Wingender      28810.475741\n",
      "6           Ying Liu          Xin Chen       9153.451955\n",
      "7           Jin Wang          Xin Chen       8322.707798\n",
      "8           Xin Chen         Tao Jiang       5320.407977\n",
      "9           Jia Wang          Xin Chen       4987.686952\n",
      "10  Robert Giegerich   Thomas Dandekar       3734.186777\n",
      "11  Robert Giegerich         Björn Voß       3724.686777\n",
      "12          Xin Chen      Haining Wang       3166.316151\n",
      "13         Chen Wang          Xin Chen       3029.942826\n",
      "14          Xin Chen        Haifeng Li       2898.524370\n",
      "15    Ningjiang Chen          Xin Chen       2755.211665\n",
      "16     Jie Yang 0002          Xin Chen       2397.568001\n",
      "17            Xin Li        Haifeng Li       2166.355106\n",
      "18          Xin Chen        Yunhui Liu       1810.510786\n",
      "19      Luc De Raedt         Björn Voß       1732.754281\n",
      "Graph: dblp2005w\n",
      "Edge importance:\n",
      "                Author 1              Author 2  Betweeness score\n",
      "0          Jaime Delgado         Zièd Choukair      50316.863562\n",
      "1          Jaime Delgado        Abdul H. Sadka      50263.005005\n",
      "2         Abdul H. Sadka       Ahmet M. Kondoz      50261.505005\n",
      "3   Ashish Pandharipande       Ahmet M. Kondoz      41563.411758\n",
      "4            Tan F. Wong  Ashish Pandharipande      22306.764806\n",
      "5                 Xin Li           Tan F. Wong      20060.523110\n",
      "6               Yong Liu  Ashish Pandharipande      18985.016564\n",
      "7         Frederik Petré       Ahmet M. Kondoz       8697.093246\n",
      "8         Yueting Zhuang              Yong Liu       4757.268781\n",
      "9            Ahmad Bahai        Frederik Petré       3637.812265\n",
      "10                Xin Li          Philip S. Yu       2997.039063\n",
      "11          Sami Tabbane           Samir Tohmé       2688.261345\n",
      "12           Guy Pujolle           Samir Tohmé       2421.538259\n",
      "13           Hugo De Man        Frederik Petré       2382.565438\n",
      "14      Francky Catthoor           Ahmad Bahai       2221.510669\n",
      "15      Francky Catthoor           Hugo De Man       2221.510669\n",
      "16               Yang Xu                Xin Li       2101.177629\n",
      "17             Yan Huang              Yong Liu       1966.975139\n",
      "18            Geert Leus        Frederik Petré       1844.151792\n",
      "19          Vishal Misra              Yong Liu       1819.972295\n"
     ]
    }
   ],
   "source": [
    "dblp2005_betweenness = edge_betweenness(dblp2005)\n",
    "dblp2006_betweenness = edge_betweenness(dblp2006)\n",
    "dblp2005w_betweenness = edge_betweenness(dblp2005w, weight=\"weight\")\n",
    "\n",
    "report_edge_importance(\"dblp2005\", dblp2005_betweenness)\n",
    "report_edge_importance(\"dblp2006\", dblp2006_betweenness)\n",
    "report_edge_importance(\"dblp2005w\", dblp2005w_betweenness)"
   ]
  },
  {
   "cell_type": "markdown",
   "id": "117eafad",
   "metadata": {},
   "source": [
    "# C. Link Prediction in Graphs"
   ]
  },
  {
   "cell_type": "markdown",
   "id": "57bcdf99",
   "metadata": {},
   "source": [
    "## Pruning graphs"
   ]
  },
  {
   "cell_type": "code",
   "execution_count": 16,
   "id": "90697029",
   "metadata": {},
   "outputs": [],
   "source": [
    "def extract_subgraph_by_degree_count(graph, min_degree: int):\n",
    "    nodes_to_keep = [node for node, degree in graph.degree if degree >= min_degree]\n",
    "    return graph.subgraph(nodes_to_keep)"
   ]
  },
  {
   "cell_type": "code",
   "execution_count": 17,
   "id": "09415533",
   "metadata": {},
   "outputs": [],
   "source": [
    "dblp2005_core = extract_subgraph_by_degree_count(dblp2005, 3)\n",
    "dblp2006_core = extract_subgraph_by_degree_count(dblp2006, 3)"
   ]
  },
  {
   "cell_type": "markdown",
   "id": "ebb58658",
   "metadata": {},
   "source": [
    "## Prediction"
   ]
  },
  {
   "cell_type": "code",
   "execution_count": 18,
   "id": "a0611a36",
   "metadata": {},
   "outputs": [],
   "source": [
    "def friends_of_friends_connections(graph):\n",
    "    fof_connections = []\n",
    "    visited = set()\n",
    "    for node in graph.nodes():\n",
    "        fof_set = set()\n",
    "        for friend in graph[node]:\n",
    "            if friend == node: continue\n",
    "            for fof in graph[friend]:\n",
    "                if fof == node or fof in visited:\n",
    "                    continue\n",
    "                fof_set.add(fof)\n",
    "        \n",
    "        for fof in fof_set:\n",
    "            fof_connections.append((node, fof))\n",
    "                \n",
    "        visited.add(node)\n",
    "    return fof_connections\n",
    "                    \n",
    "    \n",
    "def graph_edge_difference(minuend_graph, subtrahend_graph):\n",
    "    edge_difference = []\n",
    "    for edge in minuend_graph.edges():\n",
    "        if subtrahend_graph.has_edge(*edge):\n",
    "            continue\n",
    "        edge_difference.append(edge)\n",
    "    return edge_difference"
   ]
  },
  {
   "cell_type": "code",
   "execution_count": 19,
   "id": "a1620864",
   "metadata": {},
   "outputs": [],
   "source": [
    "candidate_edges = friends_of_friends_connections(dblp2005_core)\n",
    "ground_truth_edges = graph_edge_difference(dblp2006_core, dblp2005_core)"
   ]
  },
  {
   "cell_type": "markdown",
   "id": "336b3c8f",
   "metadata": {},
   "source": [
    "## Precision"
   ]
  },
  {
   "cell_type": "code",
   "execution_count": 20,
   "id": "235f3a65",
   "metadata": {},
   "outputs": [],
   "source": [
    "def precision_at_k(k_values, predictions, ground_truth, include_max_k=False):\n",
    "    if type(k_values)==int:\n",
    "        k_values = [k_values]\n",
    "    ground_truth = set(ground_truth)\n",
    "    precision_results = dict()\n",
    "    \n",
    "    # `predictions` is of the form (u,v,s) where (u,v) is the edge, and s is the score for the edge for the specific link prediction algorithm that produced those predictions\n",
    "    sorted_predictions = sorted(predictions, key=lambda pred: pred[2])\n",
    "    predictions = [(u, v) for (u,v,s) in sorted_predictions]\n",
    "    \n",
    "    k = 0\n",
    "    correct_pred_count = 0\n",
    "    for pred in predictions:\n",
    "        k += 1\n",
    "        if pred in ground_truth:\n",
    "            correct_pred_count += 1\n",
    "        \n",
    "        if k in k_values:\n",
    "            precision_results[k] = correct_pred_count/k\n",
    "    \n",
    "    if include_max_k and k>0 and k not in precision_results:\n",
    "        precision_results[k] = correct_pred_count/k\n",
    "    \n",
    "    return precision_results\n",
    "\n",
    "def precision_report(predictions, ground_truth):\n",
    "    fixed_k_vals = [10, 20, 50, 100]\n",
    "    precision_results = precision_at_k(fixed_k_vals, predictions, ground_truth, include_max_k=True)\n",
    "    k_vals = sorted(precision_results.keys())\n",
    "    if len(precision_results)==0:\n",
    "        return pd.DataFrame()\n",
    "    \n",
    "    precision_report = pd.DataFrame(columns=[f\"P@{k}\" for k in k_vals])\n",
    "    precision_report.loc[len(precision_report)] = [precision_results[k] for k in k_vals]\n",
    "    \n",
    "    return precision_report\n",
    "        \n",
    "    "
   ]
  },
  {
   "cell_type": "code",
   "execution_count": null,
   "id": "1a3a72aa",
   "metadata": {},
   "outputs": [],
   "source": [
    "print(\"P@k values for Jaccard Coefficient\")\n",
    "jc_pred = nx.jaccard_coefficient(dblp2005_core, candidate_edges)\n",
    "print(precision_report(jc_pred, ground_truth_edges))"
   ]
  },
  {
   "cell_type": "code",
   "execution_count": null,
   "id": "656658b0",
   "metadata": {},
   "outputs": [],
   "source": [
    "print(\"P@k values for Preferential Attachment\")\n",
    "pa_pred = nx.preferential_attachment(dblp2005_core, candidate_edges)\n",
    "print(precision_report(pa_pred, ground_truth_edges))"
   ]
  },
  {
   "cell_type": "code",
   "execution_count": null,
   "id": "110fea79",
   "metadata": {},
   "outputs": [],
   "source": [
    "print(\"P@k values for Adamic/Adar\")\n",
    "aa_pred = nx.adamic_adar_index(dblp2005_core, candidate_edges)\n",
    "print(precision_report(aa_pred, ground_truth_edges))"
   ]
  },
  {
   "cell_type": "code",
   "execution_count": null,
   "id": "fea1d24a",
   "metadata": {},
   "outputs": [],
   "source": [
    "print(\"P@k values for Common Neighbors\")\n",
    "cn_pred = nx.cn_soundarajan_hopcroft(dblp2005_core, candidate_edges, community=None)\n",
    "print(precision_report(cn_pred, ground_truth_edges))"
   ]
  },
  {
   "cell_type": "code",
   "execution_count": null,
   "id": "f3ccb11f",
   "metadata": {},
   "outputs": [],
   "source": []
  },
  {
   "cell_type": "code",
   "execution_count": null,
   "id": "ca133a4d",
   "metadata": {},
   "outputs": [],
   "source": [
    "def precision_report(graph, target_edges, k_values, method_name):\n",
    "    random.seed(42)  # Set a random seed for reproducibility\n",
    "    predicted_edges = random.sample(list(graph.edges()), max(k_values))\n",
    "    \n",
    "    print(f\"P@k values for {method_name}\")\n",
    "    for k in k_values:\n",
    "        top_k_predictions = predicted_edges[:k]\n",
    "        true_positives = len(set(top_k_predictions).intersection(target_edges))\n",
    "        precision = true_positives / k\n",
    "        print(f\"P@{k}: {precision:.2f}\")"
   ]
  },
  {
   "cell_type": "code",
   "execution_count": 2,
   "id": "20c7a286",
   "metadata": {},
   "outputs": [
    {
     "ename": "NameError",
     "evalue": "name 'dblp2005' is not defined",
     "output_type": "error",
     "traceback": [
      "\u001b[1;31m---------------------------------------------------------------------------\u001b[0m",
      "\u001b[1;31mNameError\u001b[0m                                 Traceback (most recent call last)",
      "Input \u001b[1;32mIn [2]\u001b[0m, in \u001b[0;36m<cell line: 32>\u001b[1;34m()\u001b[0m\n\u001b[0;32m     28\u001b[0m     \u001b[38;5;28;01mreturn\u001b[39;00m communities\n\u001b[0;32m     31\u001b[0m k \u001b[38;5;241m=\u001b[39m \u001b[38;5;241m10\u001b[39m  \u001b[38;5;66;03m# Number of nodes on which to perform Girvan-Newman\u001b[39;00m\n\u001b[1;32m---> 32\u001b[0m resulting_communities \u001b[38;5;241m=\u001b[39m optimized_girvan_newman(\u001b[43mdblp2005\u001b[49m, k)\n\u001b[0;32m     33\u001b[0m \u001b[38;5;28mprint\u001b[39m(resulting_communities)\n",
      "\u001b[1;31mNameError\u001b[0m: name 'dblp2005' is not defined"
     ]
    }
   ],
   "source": [
    "import networkx as nx\n",
    "import random\n",
    "\n",
    "def optimized_girvan_newman(graph, k):\n",
    "    G = graph\n",
    "    communities = []\n",
    "    \n",
    "    while G.number_of_nodes() >= k and G.number_of_edges() > 0:\n",
    "        sample_nodes = random.sample(G.nodes(), k)\n",
    "        subgraph = G.subgraph(sample_nodes)\n",
    "        \n",
    "        if subgraph.number_of_edges() == 0:\n",
    "            continue\n",
    "        \n",
    "        edge_betweenness = nx.edge_betweenness_centrality(subgraph, k=k)\n",
    "        \n",
    "        if not edge_betweenness:\n",
    "            break\n",
    "        \n",
    "        most_valuable_edge = max(edge_betweenness, key=edge_betweenness.get)\n",
    "        G.remove_edge(*most_valuable_edge)\n",
    "        \n",
    "        current_communities = list(nx.connected_components(G))\n",
    "        \n",
    "        if len(current_communities) > len(communities):\n",
    "            communities = current_communities\n",
    "    \n",
    "    return communities\n",
    "\n",
    "\n",
    "k = 10  # Number of nodes on which to perform Girvan-Newman\n",
    "resulting_communities = optimized_girvan_newman(dblp2005, k)\n",
    "print(resulting_communities)"
   ]
  },
  {
   "cell_type": "code",
   "execution_count": 1,
   "id": "3c03b9dc",
   "metadata": {},
   "outputs": [
    {
     "ename": "NameError",
     "evalue": "name 'dblp2005' is not defined",
     "output_type": "error",
     "traceback": [
      "\u001b[1;31m---------------------------------------------------------------------------\u001b[0m",
      "\u001b[1;31mNameError\u001b[0m                                 Traceback (most recent call last)",
      "Input \u001b[1;32mIn [1]\u001b[0m, in \u001b[0;36m<cell line: 28>\u001b[1;34m()\u001b[0m\n\u001b[0;32m     26\u001b[0m k \u001b[38;5;241m=\u001b[39m \u001b[38;5;241m2\u001b[39m\n\u001b[0;32m     27\u001b[0m sample_size \u001b[38;5;241m=\u001b[39m \u001b[38;5;241m100\u001b[39m  \n\u001b[1;32m---> 28\u001b[0m result \u001b[38;5;241m=\u001b[39m girvan_newman_sampled(\u001b[43mdblp2005\u001b[49m, k, sample_size)\n\u001b[0;32m     30\u001b[0m \u001b[38;5;28;01mfor\u001b[39;00m i, communities \u001b[38;5;129;01min\u001b[39;00m \u001b[38;5;28menumerate\u001b[39m(result, \u001b[38;5;241m1\u001b[39m):\n\u001b[0;32m     31\u001b[0m     \u001b[38;5;28mprint\u001b[39m(\u001b[38;5;124mf\u001b[39m\u001b[38;5;124m\"\u001b[39m\u001b[38;5;124mCommunity \u001b[39m\u001b[38;5;132;01m{\u001b[39;00mi\u001b[38;5;132;01m}\u001b[39;00m\u001b[38;5;124m: \u001b[39m\u001b[38;5;132;01m{\u001b[39;00mcommunities\u001b[38;5;132;01m}\u001b[39;00m\u001b[38;5;124m\"\u001b[39m)\n",
      "\u001b[1;31mNameError\u001b[0m: name 'dblp2005' is not defined"
     ]
    }
   ],
   "source": [
    "import networkx as nx\n",
    "import random\n",
    "\n",
    "def girvan_newman_sampled(G, k, sample_size):\n",
    "    \n",
    "    g = G.copy()\n",
    "    communities = []\n",
    "\n",
    "    while k > 0:\n",
    "        current_components = list(nx.connected_components(g))\n",
    "\n",
    "        edge_betweenness = nx.edge_betweenness_centrality(g, k=sample_size, seed=random.seed())\n",
    "        most_valuable_edge = max(edge_betweenness, key=edge_betweenness.get)\n",
    "        g.remove_edge(*most_valuable_edge)\n",
    "\n",
    "        new_components = list(nx.connected_components(g))\n",
    "\n",
    "        #number of components increased,community found\n",
    "        if len(new_components) > len(current_components):\n",
    "            communities.append(new_components)\n",
    "            k -= 1\n",
    "\n",
    "    return communities\n",
    "\n",
    "# Usage example\n",
    "k = 2\n",
    "sample_size = 100  \n",
    "result = girvan_newman_sampled(dblp2005, k, sample_size)\n",
    "\n",
    "for i, communities in enumerate(result, 1):\n",
    "    print(f\"Community {i}: {communities}\")\n"
   ]
  },
  {
   "cell_type": "code",
   "execution_count": null,
   "id": "baa90d1b",
   "metadata": {},
   "outputs": [],
   "source": []
  }
 ],
 "metadata": {
  "kernelspec": {
   "display_name": "Python 3 (ipykernel)",
   "language": "python",
   "name": "python3"
  },
  "language_info": {
   "codemirror_mode": {
    "name": "ipython",
    "version": 3
   },
   "file_extension": ".py",
   "mimetype": "text/x-python",
   "name": "python",
   "nbconvert_exporter": "python",
   "pygments_lexer": "ipython3",
   "version": "3.8.8"
  }
 },
 "nbformat": 4,
 "nbformat_minor": 5
}
