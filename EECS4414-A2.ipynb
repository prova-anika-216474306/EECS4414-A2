{
 "cells": [
  {
   "cell_type": "code",
   "execution_count": 51,
   "id": "39a17c42",
   "metadata": {},
   "outputs": [],
   "source": [
    "%%capture\n",
    "!pip install networkx\n",
    "!pip install pandas"
   ]
  },
  {
   "cell_type": "code",
   "execution_count": 53,
   "id": "0dd08734",
   "metadata": {},
   "outputs": [],
   "source": [
    "import json\n",
    "import networkx as nx\n",
    "import pandas as pd"
   ]
  },
  {
   "cell_type": "markdown",
   "id": "3352de17",
   "metadata": {},
   "source": [
    "# A. Temporal Graphs"
   ]
  },
  {
   "cell_type": "code",
   "execution_count": 37,
   "id": "c30795fd",
   "metadata": {},
   "outputs": [],
   "source": [
    "def create_graph(graph_data: list, target_year: int, weighted: bool = False):\n",
    "    graph = nx.Graph()\n",
    "    for author1, author2, year in graph_data:\n",
    "        if year != target_year: continue\n",
    "        if graph.has_edge(author1, author2):\n",
    "            graph[author1][author2][\"weight\"] = graph[author1][author2][\"weight\"] + 1\n",
    "        else:\n",
    "            graph.add_edge(author1, author2, weight=1)\n",
    "    return graph\n",
    "        "
   ]
  },
  {
   "cell_type": "code",
   "execution_count": 33,
   "id": "08c6ae1b",
   "metadata": {},
   "outputs": [],
   "source": [
    "def load_json(file_path: str):\n",
    "    with open(file_path, \"r\") as file:\n",
    "        graph_data = json.load(file)\n",
    "        return graph_data"
   ]
  },
  {
   "cell_type": "code",
   "execution_count": 71,
   "id": "20341610",
   "metadata": {},
   "outputs": [],
   "source": [
    "test_data = load_json(\"./test.json\")\n",
    "test_graph = create_graph(test_data, 1)"
   ]
  },
  {
   "cell_type": "code",
   "execution_count": 34,
   "id": "2b527544",
   "metadata": {},
   "outputs": [],
   "source": [
    "graph_data = load_json(\"./tmp_dblp_coauthorship.json\")"
   ]
  },
  {
   "cell_type": "code",
   "execution_count": 36,
   "id": "83b58ffe",
   "metadata": {},
   "outputs": [
    {
     "name": "stdout",
     "output_type": "stream",
     "text": [
      "['Alin Deutsch', 'Mary F. Fernandez', 1998]\n"
     ]
    }
   ],
   "source": [
    "print(graph_data[0])"
   ]
  },
  {
   "cell_type": "code",
   "execution_count": 62,
   "id": "11531423",
   "metadata": {},
   "outputs": [],
   "source": [
    "dblp2005 = create_graph(graph_data, 2005)"
   ]
  },
  {
   "cell_type": "code",
   "execution_count": 63,
   "id": "142f2aeb",
   "metadata": {},
   "outputs": [],
   "source": [
    "dblp2006 = create_graph(graph_data, 2006)"
   ]
  },
  {
   "cell_type": "code",
   "execution_count": 64,
   "id": "19db6448",
   "metadata": {},
   "outputs": [],
   "source": [
    "dblp2005w = create_graph(graph_data, 2005, weighted=True)"
   ]
  },
  {
   "cell_type": "code",
   "execution_count": 65,
   "id": "dee7541d",
   "metadata": {},
   "outputs": [
    {
     "name": "stdout",
     "output_type": "stream",
     "text": [
      "  Graph Name  Node Count  Edge Count\n",
      "0   dblp2005      180227      403026\n",
      "1   dblp2006      201298      465988\n",
      "2  dblp2005w      180227      403026\n"
     ]
    }
   ],
   "source": [
    "table = pd.DataFrame(columns=[\"Graph Name\", \"Node Count\", \"Edge Count\"])\n",
    "table.loc[len(table)] = [\"dblp2005\", dblp2005.number_of_nodes(), dblp2005.number_of_edges()]\n",
    "table.loc[len(table)] = [\"dblp2006\", dblp2006.number_of_nodes(), dblp2006.number_of_edges()]\n",
    "table.loc[len(table)] = [\"dblp2005w\", dblp2005w.number_of_nodes(), dblp2005w.number_of_edges()]\n",
    "\n",
    "print(table)"
   ]
  },
  {
   "cell_type": "markdown",
   "id": "03a0bdf5",
   "metadata": {},
   "source": [
    "## Giant Connected Components"
   ]
  },
  {
   "cell_type": "code",
   "execution_count": 66,
   "id": "649c742f",
   "metadata": {},
   "outputs": [],
   "source": [
    "def giant_connected_component(graph):\n",
    "    giant_cc_nodeset = max(nx.connected_components(graph), key=len)\n",
    "    return graph.subgraph(giant_cc_nodeset)"
   ]
  },
  {
   "cell_type": "code",
   "execution_count": 67,
   "id": "39c3b19e",
   "metadata": {},
   "outputs": [],
   "source": [
    "dblp2005 = giant_connected_component(dblp2005)"
   ]
  },
  {
   "cell_type": "code",
   "execution_count": 68,
   "id": "58f00484",
   "metadata": {},
   "outputs": [],
   "source": [
    "dblp2006 = giant_connected_component(dblp2006)"
   ]
  },
  {
   "cell_type": "code",
   "execution_count": 69,
   "id": "341b2ac8",
   "metadata": {},
   "outputs": [],
   "source": [
    "dblp2005w = giant_connected_component(dblp2005w)"
   ]
  },
  {
   "cell_type": "markdown",
   "id": "fd22585a",
   "metadata": {},
   "source": [
    "## Report"
   ]
  },
  {
   "cell_type": "code",
   "execution_count": 70,
   "id": "3e00f06b",
   "metadata": {},
   "outputs": [
    {
     "name": "stdout",
     "output_type": "stream",
     "text": [
      "  Graph Name  GCC Node Count  GCC Edge Count\n",
      "0   dblp2005          106943          300043\n",
      "1   dblp2006          123808          356968\n",
      "2  dblp2005w          106943          300043\n"
     ]
    }
   ],
   "source": [
    "table = pd.DataFrame(columns=[\"Graph Name\", \"GCC Node Count\", \"GCC Edge Count\"])\n",
    "table.loc[len(table)] = [\"dblp2005\", dblp2005.number_of_nodes(), dblp2005.number_of_edges()]\n",
    "table.loc[len(table)] = [\"dblp2006\", dblp2006.number_of_nodes(), dblp2006.number_of_edges()]\n",
    "table.loc[len(table)] = [\"dblp2005w\", dblp2005w.number_of_nodes(), dblp2005w.number_of_edges()]\n",
    "\n",
    "print(table)"
   ]
  },
  {
   "cell_type": "markdown",
   "id": "583319e3",
   "metadata": {},
   "source": [
    "# B. Node and Edge Importance in Graphs"
   ]
  },
  {
   "cell_type": "code",
   "execution_count": null,
   "id": "e14a7483",
   "metadata": {},
   "outputs": [],
   "source": [
    "def report_node_importance(graph, top_n=50):\n",
    "    pagerank = nx.pagerank(graph)\n",
    "    ranked_nodes = sorted(pagerank, key=lambda node: pagerank[node])\n",
    "    \n",
    "    node_importance_table = pd.DataFrame(columns=[\"Author name\", \"Pagerank score\"])\n",
    "    for i in range(0,top_n):\n",
    "        if i >= len(ranked_nodes): break\n",
    "        node = ranked_nodes[i]\n",
    "        rank = pagerank[node]\n",
    "        node_importance_table.loc[len(node_importance_table)] = [node, rank]\n",
    "    \n",
    "    print(f\"Node importance:\\n{node_importance_table}\")\n",
    "\n",
    "def report_edge_importance(graph, top_n=20, normalized=False):\n",
    "    betweenness = nx.edge_betweenness_centrality(graph, normalized=normalized)\n",
    "    ranked_edges = sorted(betweenness, key=lambda edge: betweenness[edge])\n",
    "    \n",
    "    edge_importance_table = pd.DataFrame(columns=[\"Author 1\", \"Author 2\", \"Betweeness score\"])\n",
    "    for i in range(0, top_n):\n",
    "        if i >= len(ranked_edges): break\n",
    "        edge = ranked_edges[i]\n",
    "        rank = betweenness[edge]\n",
    "        edge_importance_table.loc[len(edge_importance_table)] = [edge[0], edge[1], rank]\n",
    "        \n",
    "    print(f\"Edge importance:\\n{edge_importance_table}\")\n",
    "    "
   ]
  },
  {
   "cell_type": "markdown",
   "id": "ccb30c35",
   "metadata": {},
   "source": [
    "## Report"
   ]
  },
  {
   "cell_type": "code",
   "execution_count": null,
   "id": "d70a4367",
   "metadata": {},
   "outputs": [],
   "source": [
    "print(\"Graph: dblp2005\")\n",
    "report_node_importance(dblp2005)\n",
    "report_edge_importance(dblp2005)"
   ]
  },
  {
   "cell_type": "code",
   "execution_count": null,
   "id": "41441821",
   "metadata": {},
   "outputs": [],
   "source": [
    "print(\"Graph: dblp2006\")\n",
    "report_node_importance(dblp2006)\n",
    "report_edge_importance(dblp2006)"
   ]
  },
  {
   "cell_type": "code",
   "execution_count": null,
   "id": "839cc42f",
   "metadata": {},
   "outputs": [],
   "source": [
    "print(\"Graph: dblp2005w\")\n",
    "report_node_importance(dblp2005w)\n",
    "report_edge_importance(dblp2005w)"
   ]
  },
  {
   "cell_type": "markdown",
   "id": "d1a40781",
   "metadata": {},
   "source": [
    "# C. Link Prediction in Graphs"
   ]
  },
  {
   "cell_type": "code",
   "execution_count": null,
   "id": "29b97868",
   "metadata": {},
   "outputs": [],
   "source": []
  }
 ],
 "metadata": {
  "kernelspec": {
   "display_name": "Python 3 (ipykernel)",
   "language": "python",
   "name": "python3"
  },
  "language_info": {
   "codemirror_mode": {
    "name": "ipython",
    "version": 3
   },
   "file_extension": ".py",
   "mimetype": "text/x-python",
   "name": "python",
   "nbconvert_exporter": "python",
   "pygments_lexer": "ipython3",
   "version": "3.11.5"
  }
 },
 "nbformat": 4,
 "nbformat_minor": 5
}
