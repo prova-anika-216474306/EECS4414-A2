{
 "cells": [
  {
   "cell_type": "code",
   "execution_count": 51,
   "id": "39a17c42",
   "metadata": {},
   "outputs": [],
   "source": [
    "%%capture\n",
    "!pip install networkx\n",
    "!pip install pandas"
   ]
  },
  {
   "cell_type": "code",
   "execution_count": 53,
   "id": "bd28abf9",
   "metadata": {},
   "outputs": [],
   "source": [
    "import json\n",
    "import networkx as nx\n",
    "import pandas as pd"
   ]
  },
  {
   "cell_type": "markdown",
   "id": "31deef99",
   "metadata": {},
   "source": [
    "# A. Temporal Graphs"
   ]
  },
  {
   "cell_type": "code",
   "execution_count": 37,
   "id": "bcd01721",
   "metadata": {},
   "outputs": [],
   "source": [
    "def create_graph(graph_data: list, target_year: int, weighted: bool = False):\n",
    "    graph = nx.Graph()\n",
    "    for author1, author2, year in graph_data:\n",
    "        if year != target_year: continue\n",
    "        if graph.has_edge(author1, author2):\n",
    "            graph[author1][author2][\"weight\"] = graph[author1][author2][\"weight\"] + 1\n",
    "        else:\n",
    "            graph.add_edge(author1, author2, weight=1)\n",
    "    return graph\n",
    "        "
   ]
  },
  {
   "cell_type": "code",
   "execution_count": 33,
   "id": "b34748fe",
   "metadata": {},
   "outputs": [],
   "source": [
    "def load_json(file_path: str):\n",
    "    with open(file_path, \"r\") as file:\n",
    "        graph_data = json.load(file)\n",
    "        return graph_data"
   ]
  },
  {
   "cell_type": "code",
   "execution_count": 71,
   "id": "3f3134ff",
   "metadata": {},
   "outputs": [],
   "source": [
    "test_data = load_json(\"./test.json\")\n",
    "test_graph = create_graph(test_data, 1)"
   ]
  },
  {
   "cell_type": "code",
   "execution_count": 34,
   "id": "0e62b0bc",
   "metadata": {},
   "outputs": [],
   "source": [
    "graph_data = load_json(\"./tmp_dblp_coauthorship.json\")"
   ]
  },
  {
   "cell_type": "code",
   "execution_count": 36,
   "id": "83f936ce",
   "metadata": {},
   "outputs": [
    {
     "name": "stdout",
     "output_type": "stream",
     "text": [
      "['Alin Deutsch', 'Mary F. Fernandez', 1998]\n"
     ]
    }
   ],
   "source": [
    "print(graph_data[0])"
   ]
  },
  {
   "cell_type": "code",
   "execution_count": 62,
   "id": "98928d71",
   "metadata": {},
   "outputs": [],
   "source": [
    "dblp2005 = create_graph(graph_data, 2005)"
   ]
  },
  {
   "cell_type": "code",
   "execution_count": 63,
   "id": "20b731c0",
   "metadata": {},
   "outputs": [],
   "source": [
    "dblp2006 = create_graph(graph_data, 2006)"
   ]
  },
  {
   "cell_type": "code",
   "execution_count": 64,
   "id": "acc86a65",
   "metadata": {},
   "outputs": [],
   "source": [
    "dblp2005w = create_graph(graph_data, 2005, weighted=True)"
   ]
  },
  {
   "cell_type": "code",
   "execution_count": 65,
   "id": "e32020cb",
   "metadata": {},
   "outputs": [
    {
     "name": "stdout",
     "output_type": "stream",
     "text": [
      "  Graph Name  Node Count  Edge Count\n",
      "0   dblp2005      180227      403026\n",
      "1   dblp2006      201298      465988\n",
      "2  dblp2005w      180227      403026\n"
     ]
    }
   ],
   "source": [
    "table = pd.DataFrame(columns=[\"Graph Name\", \"Node Count\", \"Edge Count\"])\n",
    "table.loc[len(table)] = [\"dblp2005\", dblp2005.number_of_nodes(), dblp2005.number_of_edges()]\n",
    "table.loc[len(table)] = [\"dblp2006\", dblp2006.number_of_nodes(), dblp2006.number_of_edges()]\n",
    "table.loc[len(table)] = [\"dblp2005w\", dblp2005w.number_of_nodes(), dblp2005w.number_of_edges()]\n",
    "\n",
    "print(table)"
   ]
  },
  {
   "cell_type": "markdown",
   "id": "70e65e96",
   "metadata": {},
   "source": [
    "## Giant Connected Components"
   ]
  },
  {
   "cell_type": "code",
   "execution_count": 66,
   "id": "188f0829",
   "metadata": {},
   "outputs": [],
   "source": [
    "def giant_connected_component(graph):\n",
    "    giant_cc_nodeset = max(nx.connected_components(graph), key=len)\n",
    "    return graph.subgraph(giant_cc_nodeset)"
   ]
  },
  {
   "cell_type": "code",
   "execution_count": 67,
   "id": "e96a3c4f",
   "metadata": {},
   "outputs": [],
   "source": [
    "dblp2005 = giant_connected_component(dblp2005)"
   ]
  },
  {
   "cell_type": "code",
   "execution_count": 68,
   "id": "4e9aeff5",
   "metadata": {},
   "outputs": [],
   "source": [
    "dblp2006 = giant_connected_component(dblp2006)"
   ]
  },
  {
   "cell_type": "code",
   "execution_count": 69,
   "id": "63a73d78",
   "metadata": {},
   "outputs": [],
   "source": [
    "dblp2005w = giant_connected_component(dblp2005w)"
   ]
  },
  {
   "cell_type": "markdown",
   "id": "73a25ba6",
   "metadata": {},
   "source": [
    "## Report"
   ]
  },
  {
   "cell_type": "code",
   "execution_count": 70,
   "id": "32aad7dd",
   "metadata": {},
   "outputs": [
    {
     "name": "stdout",
     "output_type": "stream",
     "text": [
      "  Graph Name  GCC Node Count  GCC Edge Count\n",
      "0   dblp2005          106943          300043\n",
      "1   dblp2006          123808          356968\n",
      "2  dblp2005w          106943          300043\n"
     ]
    }
   ],
   "source": [
    "table = pd.DataFrame(columns=[\"Graph Name\", \"GCC Node Count\", \"GCC Edge Count\"])\n",
    "table.loc[len(table)] = [\"dblp2005\", dblp2005.number_of_nodes(), dblp2005.number_of_edges()]\n",
    "table.loc[len(table)] = [\"dblp2006\", dblp2006.number_of_nodes(), dblp2006.number_of_edges()]\n",
    "table.loc[len(table)] = [\"dblp2005w\", dblp2005w.number_of_nodes(), dblp2005w.number_of_edges()]\n",
    "\n",
    "print(table)"
   ]
  },
  {
   "cell_type": "markdown",
   "id": "d5109ec2",
   "metadata": {},
   "source": [
    "# B. Node and Edge Importance in Graphs"
   ]
  },
  {
   "cell_type": "code",
   "execution_count": 108,
   "id": "bec0a22d",
   "metadata": {},
   "outputs": [],
   "source": [
    "def report_node_importance(graph, graph_name, top_n=50):\n",
    "    pagerank = nx.pagerank(graph)\n",
    "    ranked_nodes = sorted(pagerank, reverse=True, key=lambda node: pagerank[node])\n",
    "    \n",
    "    node_importance_table = pd.DataFrame(columns=[\"Author name\", \"Pagerank score\"])\n",
    "    for i in range(0,top_n):\n",
    "        if i >= len(ranked_nodes): break\n",
    "        node = ranked_nodes[i]\n",
    "        rank = pagerank[node]\n",
    "        node_importance_table.loc[len(node_importance_table)] = [node, rank]\n",
    "    \n",
    "    print(f\"Graph: {graph_name}\")\n",
    "    print(\"Node importance:\")\n",
    "    print(node_importance_table)\n",
    "\n",
    "def report_edge_importance(graph, graph_name, top_n=20, weight=None, normalized=False):\n",
    "    betweenness = nx.edge_betweenness_centrality(graph, normalized=normalized, weight=weight)\n",
    "    ranked_edges = sorted(betweenness, reverse=True, key=lambda edge: betweenness[edge])\n",
    "    \n",
    "    edge_importance_table = pd.DataFrame(columns=[\"Author 1\", \"Author 2\", \"Betweeness score\"])\n",
    "    for i in range(0, top_n):\n",
    "        if i >= len(ranked_edges): break\n",
    "        edge = ranked_edges[i]\n",
    "        rank = betweenness[edge]\n",
    "        edge_importance_table.loc[len(edge_importance_table)] = [edge[0], edge[1], rank]\n",
    "        \n",
    "    print(f\"Graph: {graph_name}\")\n",
    "    print(\"Edge importance:\")\n",
    "    print(edge_importance_table)\n",
    "    "
   ]
  },
  {
   "cell_type": "markdown",
   "id": "67394758",
   "metadata": {},
   "source": [
    "## Report"
   ]
  },
  {
   "cell_type": "code",
   "execution_count": 93,
   "id": "d35388cd",
   "metadata": {},
   "outputs": [
    {
     "name": "stdout",
     "output_type": "stream",
     "text": [
      "Graph: dblp2005\n",
      "Node importance:\n",
      "                           Author name  Pagerank score\n",
      "0                              Wen Gao        0.000175\n",
      "1                      Chin-Chen Chang        0.000152\n",
      "2                          Wei-Ying Ma        0.000135\n",
      "3                               Xin Li        0.000128\n",
      "4                         Licheng Jiao        0.000124\n",
      "5                     Francky Catthoor        0.000122\n",
      "6                      H. Vincent Poor        0.000119\n",
      "7                           Zhaohui Wu        0.000118\n",
      "8                    Hans-Peter Seidel        0.000117\n",
      "9                        Xianlong Hong        0.000114\n",
      "10                      Mario Piattini        0.000109\n",
      "11                           Wei Zhang        0.000108\n",
      "12                    Tharam S. Dillon        0.000108\n",
      "13                           Minglu Li        0.000108\n",
      "14                       Samuel Pierre        0.000104\n",
      "15                      Witold Pedrycz        0.000102\n",
      "16                       Guanrong Chen        0.000101\n",
      "17                             Wei Liu        0.000101\n",
      "18                             Hai Jin        0.000100\n",
      "19                      David J. Evans        0.000098\n",
      "20                         Mario Gerla        0.000097\n",
      "21                            Bin Wang        0.000097\n",
      "22                            Wei Wang        0.000097\n",
      "23  Alberto L. Sangiovanni-Vincentelli        0.000096\n",
      "24                       Jinxiang Dong        0.000095\n",
      "25                         Kaushik Roy        0.000093\n",
      "26                    Heung-Yeung Shum        0.000093\n",
      "27                           Hong Shen        0.000092\n",
      "28                   Donald F. Towsley        0.000092\n",
      "29                          Yong Zhang        0.000091\n",
      "30                  Norman C. Beaulieu        0.000090\n",
      "31                  Mahmut T. Kandemir        0.000090\n",
      "32                        Philip S. Yu        0.000090\n",
      "33                  Azzedine Boukerche        0.000089\n",
      "34                            Fang Liu        0.000089\n",
      "35                  Mani B. Srivastava        0.000089\n",
      "36                       Ajith Abraham        0.000089\n",
      "37                        Yvon Savaria        0.000088\n",
      "38                        Tak-Wai Chan        0.000088\n",
      "39                       Elisa Bertino        0.000087\n",
      "40                              Yan Li        0.000087\n",
      "41                             Jing Li        0.000087\n",
      "42                           Yan Zhang        0.000087\n",
      "43                            Xiang Li        0.000086\n",
      "44                        Jiannong Cao        0.000086\n",
      "45                              Lei Li        0.000086\n",
      "46                           Tao Zhang        0.000086\n",
      "47                      Chao-Tung Yang        0.000085\n",
      "48                       Hsinchun Chen        0.000085\n",
      "49                      Katsumi Tanaka        0.000084\n",
      "Graph: dblp2006\n",
      "Node importance:\n",
      "              Author name  Pagerank score\n",
      "0                 Wen Gao        0.000167\n",
      "1         Chin-Chen Chang        0.000143\n",
      "2                 Qing Li        0.000123\n",
      "3                  Hui Li        0.000118\n",
      "4              Yong Zhang        0.000117\n",
      "5                  Xin Li        0.000113\n",
      "6               Yan Zhang        0.000113\n",
      "7           Xiaodong Wang        0.000111\n",
      "8                Wei Wang        0.000109\n",
      "9                 Hai Jin        0.000107\n",
      "10                Wei Liu        0.000106\n",
      "11       Francky Catthoor        0.000105\n",
      "12                Yong Yu        0.000105\n",
      "13            Wei-Ying Ma        0.000102\n",
      "14              Wei Zhang        0.000101\n",
      "15                Ying Li        0.000100\n",
      "16             Zhaohui Wu        0.000098\n",
      "17         Mario Piattini        0.000097\n",
      "18               Li Zhang        0.000095\n",
      "19        Masayuki Murata        0.000094\n",
      "20            Mario Gerla        0.000093\n",
      "21               Yu Zhang        0.000093\n",
      "22               Fang Liu        0.000092\n",
      "23                Jian Li        0.000091\n",
      "24  Laurence Tianruo Yang        0.000089\n",
      "25                Jing Li        0.000089\n",
      "26          C. C. Jay Kuo        0.000088\n",
      "27                 Yan Li        0.000086\n",
      "28              Jian Wang        0.000086\n",
      "29          Samuel Pierre        0.000086\n",
      "30              Yang Xiao        0.000086\n",
      "31                 Tao Li        0.000085\n",
      "32               Ying Liu        0.000084\n",
      "33              Yang Yang        0.000083\n",
      "34                 Wei Li        0.000083\n",
      "35      Hans-Peter Seidel        0.000083\n",
      "36        Luc J. Van Gool        0.000082\n",
      "37               Hao Wang        0.000081\n",
      "38              Minglu Li        0.000081\n",
      "39            Lajos Hanzo        0.000080\n",
      "40            Luca Benini        0.000080\n",
      "41   Nicholas R. Jennings        0.000080\n",
      "42          Elisa Bertino        0.000080\n",
      "43            Xuemin Shen        0.000079\n",
      "44              Tao Zhang        0.000079\n",
      "45          Hsinchun Chen        0.000078\n",
      "46         Piet Demeester        0.000078\n",
      "47              Yong Wang        0.000078\n",
      "48        Thomas S. Huang        0.000078\n",
      "49                 Bin Li        0.000078\n",
      "Graph: dblp2005w\n",
      "Node importance:\n",
      "                           Author name  Pagerank score\n",
      "0                              Wen Gao        0.000175\n",
      "1                      Chin-Chen Chang        0.000152\n",
      "2                          Wei-Ying Ma        0.000135\n",
      "3                               Xin Li        0.000128\n",
      "4                         Licheng Jiao        0.000124\n",
      "5                     Francky Catthoor        0.000122\n",
      "6                      H. Vincent Poor        0.000119\n",
      "7                           Zhaohui Wu        0.000118\n",
      "8                    Hans-Peter Seidel        0.000117\n",
      "9                        Xianlong Hong        0.000114\n",
      "10                      Mario Piattini        0.000109\n",
      "11                           Wei Zhang        0.000108\n",
      "12                    Tharam S. Dillon        0.000108\n",
      "13                           Minglu Li        0.000108\n",
      "14                       Samuel Pierre        0.000104\n",
      "15                      Witold Pedrycz        0.000102\n",
      "16                       Guanrong Chen        0.000101\n",
      "17                             Wei Liu        0.000101\n",
      "18                             Hai Jin        0.000100\n",
      "19                      David J. Evans        0.000098\n",
      "20                         Mario Gerla        0.000097\n",
      "21                            Bin Wang        0.000097\n",
      "22                            Wei Wang        0.000097\n",
      "23  Alberto L. Sangiovanni-Vincentelli        0.000096\n",
      "24                       Jinxiang Dong        0.000095\n",
      "25                         Kaushik Roy        0.000093\n",
      "26                    Heung-Yeung Shum        0.000093\n",
      "27                           Hong Shen        0.000092\n",
      "28                   Donald F. Towsley        0.000092\n",
      "29                          Yong Zhang        0.000091\n",
      "30                  Norman C. Beaulieu        0.000090\n",
      "31                  Mahmut T. Kandemir        0.000090\n",
      "32                        Philip S. Yu        0.000090\n",
      "33                  Azzedine Boukerche        0.000089\n",
      "34                            Fang Liu        0.000089\n",
      "35                  Mani B. Srivastava        0.000089\n",
      "36                       Ajith Abraham        0.000089\n",
      "37                        Yvon Savaria        0.000088\n",
      "38                        Tak-Wai Chan        0.000088\n",
      "39                       Elisa Bertino        0.000087\n",
      "40                              Yan Li        0.000087\n",
      "41                             Jing Li        0.000087\n",
      "42                           Yan Zhang        0.000087\n",
      "43                            Xiang Li        0.000086\n",
      "44                        Jiannong Cao        0.000086\n",
      "45                              Lei Li        0.000086\n",
      "46                           Tao Zhang        0.000086\n",
      "47                      Chao-Tung Yang        0.000085\n",
      "48                       Hsinchun Chen        0.000085\n",
      "49                      Katsumi Tanaka        0.000084\n"
     ]
    }
   ],
   "source": [
    "report_node_importance(dblp2005, \"dblp2005\")\n",
    "report_node_importance(dblp2006, \"dblp2006\")\n",
    "report_node_importance(dblp2005w, \"dblp2005w\")"
   ]
  },
  {
   "cell_type": "code",
   "execution_count": null,
   "id": "10c462f4",
   "metadata": {},
   "outputs": [],
   "source": [
    "report_edge_importance(dblp2005, \"dblp2005\")\n",
    "report_edge_importance(dblp2006, \"dblp2006\")\n",
    "report_edge_importance(dblp2005w, \"dblp2005w\", weight=\"weight\")"
   ]
  },
  {
   "cell_type": "markdown",
   "id": "90354fac",
   "metadata": {},
   "source": [
    "# C. Link Prediction in Graphs"
   ]
  },
  {
   "cell_type": "markdown",
   "id": "7cb45c42",
   "metadata": {},
   "source": [
    "## Pruning graphs"
   ]
  },
  {
   "cell_type": "code",
   "execution_count": 110,
   "id": "2dc9dd2f",
   "metadata": {},
   "outputs": [],
   "source": [
    "def extract_subgraph_by_degree_count(graph, min_degree: int):\n",
    "    nodes_to_remove = [node for node, degree in graph.degree if degree >= min_degree]\n",
    "    return graph.subgraph(nodes_to_remove)"
   ]
  },
  {
   "cell_type": "code",
   "execution_count": 111,
   "id": "2c6c6efb",
   "metadata": {},
   "outputs": [],
   "source": [
    "dblp2005_core = extract_subgraph_by_degree_count(dblp2005, 3)\n",
    "dblp2006_core = extract_subgraph_by_degree_count(dblp2006, 3)"
   ]
  },
  {
   "cell_type": "markdown",
   "id": "0b259e61",
   "metadata": {},
   "source": [
    "## Prediction"
   ]
  },
  {
   "cell_type": "code",
   "execution_count": 115,
   "id": "6fe00442",
   "metadata": {},
   "outputs": [],
   "source": [
    "def friends_of_friends_connections(graph):\n",
    "    fof_connections = []\n",
    "    visited = set()\n",
    "    for node in graph.nodes():\n",
    "        fof_set = set()\n",
    "        for friend in graph[node]:\n",
    "            if friend == node: continue\n",
    "            for fof in graph[friend]:\n",
    "                if friend in visited:\n",
    "                    continue\n",
    "                fof_set.add(fof)\n",
    "        \n",
    "        for fof in fof_set:\n",
    "            fof_connections.append((node, fof))\n",
    "                \n",
    "        visited.add(node)\n",
    "                    \n",
    "    \n",
    "def graph_edge_difference(minuend_graph, subtrahend_graph):\n",
    "    edge_difference = []\n",
    "    for edge in minuend_graph.edges():\n",
    "        if subtrahend_graph.has_edge(*edge):\n",
    "            continue\n",
    "        edge_difference.append(edge)"
   ]
  },
  {
   "cell_type": "code",
   "execution_count": 116,
   "id": "9cfa4afd",
   "metadata": {},
   "outputs": [],
   "source": [
    "candidate_edges = friends_of_friends_connections(dblp2005_core)"
   ]
  },
  {
   "cell_type": "code",
   "execution_count": 118,
   "id": "a9658e0c",
   "metadata": {},
   "outputs": [],
   "source": [
    "ground_truth_edges = graph_edge_difference(dblp2006_core, dblp2005_core)"
   ]
  },
  {
   "cell_type": "code",
   "execution_count": null,
   "id": "6bba62e5",
   "metadata": {},
   "outputs": [],
   "source": [
    "rd_pred = "
   ]
  }
 ],
 "metadata": {
  "kernelspec": {
   "display_name": "Python 3 (ipykernel)",
   "language": "python",
   "name": "python3"
  },
  "language_info": {
   "codemirror_mode": {
    "name": "ipython",
    "version": 3
   },
   "file_extension": ".py",
   "mimetype": "text/x-python",
   "name": "python",
   "nbconvert_exporter": "python",
   "pygments_lexer": "ipython3",
   "version": "3.11.5"
  }
 },
 "nbformat": 4,
 "nbformat_minor": 5
}
