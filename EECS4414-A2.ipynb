{
 "cells": [
  {
   "cell_type": "code",
   "execution_count": 51,
   "id": "39a17c42",
   "metadata": {},
   "outputs": [],
   "source": [
    "%%capture\n",
    "!pip install networkx\n",
    "!pip install pandas"
   ]
  },
  {
   "cell_type": "code",
   "execution_count": 53,
   "id": "b098e717",
   "metadata": {},
   "outputs": [],
   "source": [
    "import json\n",
    "import networkx as nx\n",
    "import pandas as pd"
   ]
  },
  {
   "cell_type": "markdown",
   "id": "8c1b730f",
   "metadata": {},
   "source": [
    "# A. Temporal Graphs"
   ]
  },
  {
   "cell_type": "code",
   "execution_count": 37,
   "id": "cf3c3d27",
   "metadata": {},
   "outputs": [],
   "source": [
    "def create_graph(graph_data: list, target_year: int, weighted: bool = False):\n",
    "    graph = nx.Graph()\n",
    "    for author1, author2, year in graph_data:\n",
    "        if year != target_year: continue\n",
    "        if graph.has_edge(author1, author2):\n",
    "            graph[author1][author2][\"weight\"] = graph[author1][author2][\"weight\"] + 1\n",
    "        else:\n",
    "            graph.add_edge(author1, author2, weight=1)\n",
    "    return graph\n",
    "        "
   ]
  },
  {
   "cell_type": "code",
   "execution_count": 33,
   "id": "fe08d8c3",
   "metadata": {},
   "outputs": [],
   "source": [
    "def load_json(file_path: str):\n",
    "    with open(file_path, \"r\") as file:\n",
    "        graph_data = json.load(file)\n",
    "        return graph_data"
   ]
  },
  {
   "cell_type": "code",
   "execution_count": 71,
   "id": "abe181cd",
   "metadata": {},
   "outputs": [],
   "source": [
    "test_data = load_json(\"./test.json\")\n",
    "test_graph = create_graph(test_data, 1)"
   ]
  },
  {
   "cell_type": "code",
   "execution_count": 34,
   "id": "18890df1",
   "metadata": {},
   "outputs": [],
   "source": [
    "graph_data = load_json(\"./tmp_dblp_coauthorship.json\")"
   ]
  },
  {
   "cell_type": "code",
   "execution_count": 36,
   "id": "ae85947c",
   "metadata": {},
   "outputs": [
    {
     "name": "stdout",
     "output_type": "stream",
     "text": [
      "['Alin Deutsch', 'Mary F. Fernandez', 1998]\n"
     ]
    }
   ],
   "source": [
    "print(graph_data[0])"
   ]
  },
  {
   "cell_type": "code",
   "execution_count": 62,
   "id": "f9c84ed2",
   "metadata": {},
   "outputs": [],
   "source": [
    "dblp2005 = create_graph(graph_data, 2005)"
   ]
  },
  {
   "cell_type": "code",
   "execution_count": 63,
   "id": "c884df48",
   "metadata": {},
   "outputs": [],
   "source": [
    "dblp2006 = create_graph(graph_data, 2006)"
   ]
  },
  {
   "cell_type": "code",
   "execution_count": 64,
   "id": "860a0141",
   "metadata": {},
   "outputs": [],
   "source": [
    "dblp2005w = create_graph(graph_data, 2005, weighted=True)"
   ]
  },
  {
   "cell_type": "code",
   "execution_count": 65,
   "id": "c008c642",
   "metadata": {},
   "outputs": [
    {
     "name": "stdout",
     "output_type": "stream",
     "text": [
      "  Graph Name  Node Count  Edge Count\n",
      "0   dblp2005      180227      403026\n",
      "1   dblp2006      201298      465988\n",
      "2  dblp2005w      180227      403026\n"
     ]
    }
   ],
   "source": [
    "table = pd.DataFrame(columns=[\"Graph Name\", \"Node Count\", \"Edge Count\"])\n",
    "table.loc[len(table)] = [\"dblp2005\", dblp2005.number_of_nodes(), dblp2005.number_of_edges()]\n",
    "table.loc[len(table)] = [\"dblp2006\", dblp2006.number_of_nodes(), dblp2006.number_of_edges()]\n",
    "table.loc[len(table)] = [\"dblp2005w\", dblp2005w.number_of_nodes(), dblp2005w.number_of_edges()]\n",
    "\n",
    "print(table)"
   ]
  },
  {
   "cell_type": "markdown",
   "id": "2633fde2",
   "metadata": {},
   "source": [
    "## Giant Connected Components"
   ]
  },
  {
   "cell_type": "code",
   "execution_count": 66,
   "id": "59f24902",
   "metadata": {},
   "outputs": [],
   "source": [
    "def giant_connected_component(graph):\n",
    "    giant_cc_nodeset = max(nx.connected_components(graph), key=len)\n",
    "    return graph.subgraph(giant_cc_nodeset)"
   ]
  },
  {
   "cell_type": "code",
   "execution_count": 67,
   "id": "d2ef036e",
   "metadata": {},
   "outputs": [],
   "source": [
    "dblp2005 = giant_connected_component(dblp2005)"
   ]
  },
  {
   "cell_type": "code",
   "execution_count": 68,
   "id": "88e08dcd",
   "metadata": {},
   "outputs": [],
   "source": [
    "dblp2006 = giant_connected_component(dblp2006)"
   ]
  },
  {
   "cell_type": "code",
   "execution_count": 69,
   "id": "df4c77be",
   "metadata": {},
   "outputs": [],
   "source": [
    "dblp2005w = giant_connected_component(dblp2005w)"
   ]
  },
  {
   "cell_type": "markdown",
   "id": "af535a18",
   "metadata": {},
   "source": [
    "## Report"
   ]
  },
  {
   "cell_type": "code",
   "execution_count": 70,
   "id": "4f91d612",
   "metadata": {},
   "outputs": [
    {
     "name": "stdout",
     "output_type": "stream",
     "text": [
      "  Graph Name  GCC Node Count  GCC Edge Count\n",
      "0   dblp2005          106943          300043\n",
      "1   dblp2006          123808          356968\n",
      "2  dblp2005w          106943          300043\n"
     ]
    }
   ],
   "source": [
    "table = pd.DataFrame(columns=[\"Graph Name\", \"GCC Node Count\", \"GCC Edge Count\"])\n",
    "table.loc[len(table)] = [\"dblp2005\", dblp2005.number_of_nodes(), dblp2005.number_of_edges()]\n",
    "table.loc[len(table)] = [\"dblp2006\", dblp2006.number_of_nodes(), dblp2006.number_of_edges()]\n",
    "table.loc[len(table)] = [\"dblp2005w\", dblp2005w.number_of_nodes(), dblp2005w.number_of_edges()]\n",
    "\n",
    "print(table)"
   ]
  },
  {
   "cell_type": "markdown",
   "id": "98ce3f17",
   "metadata": {},
   "source": [
    "# B. Node and Edge Importance in Graphs"
   ]
  },
  {
   "cell_type": "code",
   "execution_count": 87,
   "id": "e00d1dcf",
   "metadata": {},
   "outputs": [],
   "source": [
    "def report_node_importance(graph, top_n=50):\n",
    "    pagerank = nx.pagerank(graph)\n",
    "    ranked_nodes = sorted(pagerank, reverse=True, key=lambda node: pagerank[node])\n",
    "    \n",
    "    node_importance_table = pd.DataFrame(columns=[\"Author name\", \"Pagerank score\"])\n",
    "    for i in range(0,top_n):\n",
    "        if i >= len(ranked_nodes): break\n",
    "        node = ranked_nodes[i]\n",
    "        rank = pagerank[node]\n",
    "        node_importance_table.loc[len(node_importance_table)] = [node, rank]\n",
    "    \n",
    "    print(f\"Node importance:\\n{node_importance_table}\")\n",
    "\n",
    "def report_edge_importance(graph, top_n=20, normalized=False):\n",
    "    betweenness = nx.edge_betweenness_centrality(graph, normalized=normalized)\n",
    "    ranked_edges = sorted(betweenness, reverse=True, key=lambda edge: betweenness[edge])\n",
    "    \n",
    "    edge_importance_table = pd.DataFrame(columns=[\"Author 1\", \"Author 2\", \"Betweeness score\"])\n",
    "    for i in range(0, top_n):\n",
    "        if i >= len(ranked_edges): break\n",
    "        edge = ranked_edges[i]\n",
    "        rank = betweenness[edge]\n",
    "        edge_importance_table.loc[len(edge_importance_table)] = [edge[0], edge[1], rank]\n",
    "        \n",
    "    print(f\"Edge importance:\\n{edge_importance_table}\")\n",
    "    "
   ]
  },
  {
   "cell_type": "markdown",
   "id": "b8c76b95",
   "metadata": {},
   "source": [
    "## Report"
   ]
  },
  {
   "cell_type": "code",
   "execution_count": null,
   "id": "c79670ac",
   "metadata": {},
   "outputs": [
    {
     "name": "stdout",
     "output_type": "stream",
     "text": [
      "Graph: dblp2005\n",
      "Node importance:\n",
      "                  Author name  Pagerank score\n",
      "0                     R. Wong        0.000002\n",
      "1              Marvin Theimer        0.000002\n",
      "2           David Landsbergen        0.000002\n",
      "3          Sindhu Karthikeyan        0.000002\n",
      "4              Michael Manzke        0.000002\n",
      "5              Colette Johnen        0.000002\n",
      "6                Guido Vetere        0.000002\n",
      "7           Guy St. C. Slater        0.000002\n",
      "8             Barbara A. Rapp        0.000002\n",
      "9             Mahesh Arumugam        0.000002\n",
      "10            Karun N. Biyani        0.000002\n",
      "11                   Ravikant        0.000002\n",
      "12           Edouard Yeramian        0.000002\n",
      "13                   Tim Hohm        0.000002\n",
      "14         Roberto Santinelli        0.000002\n",
      "15            Fabrizio Furano        0.000002\n",
      "16                 Bill Weeks        0.000002\n",
      "17           Misty K. Blowers        0.000002\n",
      "18                 Ian Taylor        0.000002\n",
      "19                 Arnd Rösch        0.000002\n",
      "20                Eunjin Jung        0.000002\n",
      "21           Tommy M. McGuire        0.000002\n",
      "22             Markus Svensén        0.000002\n",
      "23                Xiaosong Li        0.000002\n",
      "24      Kurt D. Fenstermacher        0.000002\n",
      "25               Matti Aksela        0.000002\n",
      "26               Mats Sjöberg        0.000002\n",
      "27                   C. K. Ng        0.000002\n",
      "28            Karen H. L. Tso        0.000002\n",
      "29        Joan Manuel Marquès        0.000002\n",
      "30               David Mercer        0.000002\n",
      "31           Daniel Hostetler        0.000002\n",
      "32        Florian Michahelles        0.000002\n",
      "33                 Xiaoli Zhi        0.000002\n",
      "34                Tom Barclay        0.000002\n",
      "35               Mark Compton        0.000002\n",
      "36  Vinodkrishnan Kulathumani        0.000002\n",
      "37          Andrey A. Ptitsyn        0.000002\n",
      "38              Thomas J. Lee        0.000002\n",
      "39              Paul Shotbolt        0.000002\n",
      "40           James Carmichael        0.000002\n",
      "41             Adam Kowalczyk        0.000002\n",
      "42      Martin J. Kollingbaum        0.000002\n",
      "43         S. K. Michael Wong        0.000002\n",
      "44            Sanaz Mostaghim        0.000002\n",
      "45                 Guy Bisson        0.000002\n",
      "46              Kami Rousseau        0.000002\n",
      "47                 Jörg Meier        0.000002\n",
      "48              Matthew Denny        0.000002\n",
      "49             Michelle Lyman        0.000002\n"
     ]
    }
   ],
   "source": [
    "print(\"Graph: dblp2005\")\n",
    "report_node_importance(dblp2005)\n",
    "report_edge_importance(dblp2005)"
   ]
  },
  {
   "cell_type": "code",
   "execution_count": null,
   "id": "0849952e",
   "metadata": {},
   "outputs": [],
   "source": [
    "print(\"Graph: dblp2006\")\n",
    "report_node_importance(dblp2006)\n",
    "report_edge_importance(dblp2006)"
   ]
  },
  {
   "cell_type": "code",
   "execution_count": null,
   "id": "5b1ff80a",
   "metadata": {},
   "outputs": [],
   "source": [
    "print(\"Graph: dblp2005w\")\n",
    "report_node_importance(dblp2005w)\n",
    "report_edge_importance(dblp2005w)"
   ]
  },
  {
   "cell_type": "markdown",
   "id": "4c1d78fa",
   "metadata": {},
   "source": [
    "# C. Link Prediction in Graphs"
   ]
  },
  {
   "cell_type": "code",
   "execution_count": null,
   "id": "298ce7f9",
   "metadata": {},
   "outputs": [],
   "source": []
  }
 ],
 "metadata": {
  "kernelspec": {
   "display_name": "Python 3 (ipykernel)",
   "language": "python",
   "name": "python3"
  },
  "language_info": {
   "codemirror_mode": {
    "name": "ipython",
    "version": 3
   },
   "file_extension": ".py",
   "mimetype": "text/x-python",
   "name": "python",
   "nbconvert_exporter": "python",
   "pygments_lexer": "ipython3",
   "version": "3.11.5"
  }
 },
 "nbformat": 4,
 "nbformat_minor": 5
}
