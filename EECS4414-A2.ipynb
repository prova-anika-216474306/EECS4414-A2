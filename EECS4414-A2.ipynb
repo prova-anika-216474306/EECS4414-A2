{
 "cells": [
  {
   "cell_type": "code",
   "execution_count": 51,
   "id": "39a17c42",
   "metadata": {},
   "outputs": [],
   "source": [
    "%%capture\n",
    "!pip install networkx\n",
    "!pip install pandas"
   ]
  },
  {
   "cell_type": "code",
   "execution_count": 53,
   "id": "1b4c8d3a",
   "metadata": {},
   "outputs": [],
   "source": [
    "import json\n",
    "import networkx as nx\n",
    "import pandas as pd"
   ]
  },
  {
   "cell_type": "markdown",
   "id": "aa58d919",
   "metadata": {},
   "source": [
    "# A. Temporal Graphs"
   ]
  },
  {
   "cell_type": "code",
   "execution_count": 37,
   "id": "e23e6ee0",
   "metadata": {},
   "outputs": [],
   "source": [
    "def create_graph(graph_data: list, target_year: int, weighted: bool = False):\n",
    "    graph = nx.Graph()\n",
    "    for author1, author2, year in graph_data:\n",
    "        if year != target_year: continue\n",
    "        if graph.has_edge(author1, author2):\n",
    "            graph[author1][author2][\"weight\"] = graph[author1][author2][\"weight\"] + 1\n",
    "        else:\n",
    "            graph.add_edge(author1, author2, weight=1)\n",
    "    return graph\n",
    "        "
   ]
  },
  {
   "cell_type": "code",
   "execution_count": 33,
   "id": "a1e01e52",
   "metadata": {},
   "outputs": [],
   "source": [
    "def load_json(file_path: str):\n",
    "    with open(file_path, \"r\") as file:\n",
    "        graph_data = json.load(file)\n",
    "        return graph_data"
   ]
  },
  {
   "cell_type": "code",
   "execution_count": 71,
   "id": "dce734ab",
   "metadata": {},
   "outputs": [],
   "source": [
    "test_data = load_json(\"./test.json\")\n",
    "test_graph = create_graph(test_data, 1)"
   ]
  },
  {
   "cell_type": "code",
   "execution_count": 34,
   "id": "b77781e3",
   "metadata": {},
   "outputs": [],
   "source": [
    "graph_data = load_json(\"./tmp_dblp_coauthorship.json\")"
   ]
  },
  {
   "cell_type": "code",
   "execution_count": 36,
   "id": "cfb9549b",
   "metadata": {},
   "outputs": [
    {
     "name": "stdout",
     "output_type": "stream",
     "text": [
      "['Alin Deutsch', 'Mary F. Fernandez', 1998]\n"
     ]
    }
   ],
   "source": [
    "print(graph_data[0])"
   ]
  },
  {
   "cell_type": "code",
   "execution_count": 62,
   "id": "73981f6e",
   "metadata": {},
   "outputs": [],
   "source": [
    "dblp2005 = create_graph(graph_data, 2005)"
   ]
  },
  {
   "cell_type": "code",
   "execution_count": 63,
   "id": "b9b2742a",
   "metadata": {},
   "outputs": [],
   "source": [
    "dblp2006 = create_graph(graph_data, 2006)"
   ]
  },
  {
   "cell_type": "code",
   "execution_count": 64,
   "id": "8c5ac258",
   "metadata": {},
   "outputs": [],
   "source": [
    "dblp2005w = create_graph(graph_data, 2005, weighted=True)"
   ]
  },
  {
   "cell_type": "code",
   "execution_count": 65,
   "id": "80cdc491",
   "metadata": {},
   "outputs": [
    {
     "name": "stdout",
     "output_type": "stream",
     "text": [
      "  Graph Name  Node Count  Edge Count\n",
      "0   dblp2005      180227      403026\n",
      "1   dblp2006      201298      465988\n",
      "2  dblp2005w      180227      403026\n"
     ]
    }
   ],
   "source": [
    "table = pd.DataFrame(columns=[\"Graph Name\", \"Node Count\", \"Edge Count\"])\n",
    "table.loc[len(table)] = [\"dblp2005\", dblp2005.number_of_nodes(), dblp2005.number_of_edges()]\n",
    "table.loc[len(table)] = [\"dblp2006\", dblp2006.number_of_nodes(), dblp2006.number_of_edges()]\n",
    "table.loc[len(table)] = [\"dblp2005w\", dblp2005w.number_of_nodes(), dblp2005w.number_of_edges()]\n",
    "\n",
    "print(table)"
   ]
  },
  {
   "cell_type": "markdown",
   "id": "a44c584a",
   "metadata": {},
   "source": [
    "## Giant Connected Components"
   ]
  },
  {
   "cell_type": "code",
   "execution_count": 66,
   "id": "bf21195f",
   "metadata": {},
   "outputs": [],
   "source": [
    "def giant_connected_component(graph):\n",
    "    giant_cc_nodeset = max(nx.connected_components(graph), key=len)\n",
    "    return graph.subgraph(giant_cc_nodeset)"
   ]
  },
  {
   "cell_type": "code",
   "execution_count": 67,
   "id": "89f41951",
   "metadata": {},
   "outputs": [],
   "source": [
    "dblp2005 = giant_connected_component(dblp2005)"
   ]
  },
  {
   "cell_type": "code",
   "execution_count": 68,
   "id": "dac42f62",
   "metadata": {},
   "outputs": [],
   "source": [
    "dblp2006 = giant_connected_component(dblp2006)"
   ]
  },
  {
   "cell_type": "code",
   "execution_count": 69,
   "id": "1a6969e1",
   "metadata": {},
   "outputs": [],
   "source": [
    "dblp2005w = giant_connected_component(dblp2005w)"
   ]
  },
  {
   "cell_type": "markdown",
   "id": "55bb0d64",
   "metadata": {},
   "source": [
    "## Report"
   ]
  },
  {
   "cell_type": "code",
   "execution_count": 70,
   "id": "ac1d4f36",
   "metadata": {},
   "outputs": [
    {
     "name": "stdout",
     "output_type": "stream",
     "text": [
      "  Graph Name  GCC Node Count  GCC Edge Count\n",
      "0   dblp2005          106943          300043\n",
      "1   dblp2006          123808          356968\n",
      "2  dblp2005w          106943          300043\n"
     ]
    }
   ],
   "source": [
    "table = pd.DataFrame(columns=[\"Graph Name\", \"GCC Node Count\", \"GCC Edge Count\"])\n",
    "table.loc[len(table)] = [\"dblp2005\", dblp2005.number_of_nodes(), dblp2005.number_of_edges()]\n",
    "table.loc[len(table)] = [\"dblp2006\", dblp2006.number_of_nodes(), dblp2006.number_of_edges()]\n",
    "table.loc[len(table)] = [\"dblp2005w\", dblp2005w.number_of_nodes(), dblp2005w.number_of_edges()]\n",
    "\n",
    "print(table)"
   ]
  },
  {
   "cell_type": "markdown",
   "id": "e46cfb55",
   "metadata": {},
   "source": [
    "# B. Node and Edge Importance in Graphs"
   ]
  },
  {
   "cell_type": "code",
   "execution_count": 108,
   "id": "83925ed9",
   "metadata": {},
   "outputs": [],
   "source": [
    "def pagerank(graph):\n",
    "    pagerank = nx.pagerank(graph)\n",
    "    ranked_nodes = sorted(pagerank, reverse=True, key=lambda node: pagerank[node])\n",
    "    return ranked_nodes\n",
    "\n",
    "def edge_betweenness(graph, weight=None, normalized=False):\n",
    "    betweenness = nx.edge_betweenness_centrality(graph, weight=weight, normalized=normalized)\n",
    "    ranked_edges = sorted(betweenness, reverse=True, key=lambda edge: betweenness[edge])\n",
    "    return ranked_edges\n",
    "    \n",
    "def report_node_importance(graph_name, ranked_nodes, top_n=50):\n",
    "    node_importance_table = pd.DataFrame(columns=[\"Author name\", \"Pagerank score\"])\n",
    "    for i in range(0,top_n):\n",
    "        if i >= len(ranked_nodes): break\n",
    "        node = ranked_nodes[i]\n",
    "        rank = pagerank[node]\n",
    "        node_importance_table.loc[len(node_importance_table)] = [node, rank]\n",
    "    \n",
    "    print(f\"Graph: {graph_name}\")\n",
    "    print(\"Node importance:\")\n",
    "    print(node_importance_table)\n",
    "\n",
    "def report_edge_importance(graph_name, ranked_edges, top_n=20):\n",
    "    edge_importance_table = pd.DataFrame(columns=[\"Author 1\", \"Author 2\", \"Betweeness score\"])\n",
    "    for i in range(0, top_n):\n",
    "        if i >= len(ranked_edges): break\n",
    "        edge = ranked_edges[i]\n",
    "        rank = betweenness[edge]\n",
    "        edge_importance_table.loc[len(edge_importance_table)] = [edge[0], edge[1], rank]\n",
    "        \n",
    "    print(f\"Graph: {graph_name}\")\n",
    "    print(\"Edge importance:\")\n",
    "    print(edge_importance_table)\n",
    "    "
   ]
  },
  {
   "cell_type": "markdown",
   "id": "a4971309",
   "metadata": {},
   "source": [
    "## Report"
   ]
  },
  {
   "cell_type": "code",
   "execution_count": 93,
   "id": "4a7baf26",
   "metadata": {},
   "outputs": [
    {
     "name": "stdout",
     "output_type": "stream",
     "text": [
      "Graph: dblp2005\n",
      "Node importance:\n",
      "                           Author name  Pagerank score\n",
      "0                              Wen Gao        0.000175\n",
      "1                      Chin-Chen Chang        0.000152\n",
      "2                          Wei-Ying Ma        0.000135\n",
      "3                               Xin Li        0.000128\n",
      "4                         Licheng Jiao        0.000124\n",
      "5                     Francky Catthoor        0.000122\n",
      "6                      H. Vincent Poor        0.000119\n",
      "7                           Zhaohui Wu        0.000118\n",
      "8                    Hans-Peter Seidel        0.000117\n",
      "9                        Xianlong Hong        0.000114\n",
      "10                      Mario Piattini        0.000109\n",
      "11                           Wei Zhang        0.000108\n",
      "12                    Tharam S. Dillon        0.000108\n",
      "13                           Minglu Li        0.000108\n",
      "14                       Samuel Pierre        0.000104\n",
      "15                      Witold Pedrycz        0.000102\n",
      "16                       Guanrong Chen        0.000101\n",
      "17                             Wei Liu        0.000101\n",
      "18                             Hai Jin        0.000100\n",
      "19                      David J. Evans        0.000098\n",
      "20                         Mario Gerla        0.000097\n",
      "21                            Bin Wang        0.000097\n",
      "22                            Wei Wang        0.000097\n",
      "23  Alberto L. Sangiovanni-Vincentelli        0.000096\n",
      "24                       Jinxiang Dong        0.000095\n",
      "25                         Kaushik Roy        0.000093\n",
      "26                    Heung-Yeung Shum        0.000093\n",
      "27                           Hong Shen        0.000092\n",
      "28                   Donald F. Towsley        0.000092\n",
      "29                          Yong Zhang        0.000091\n",
      "30                  Norman C. Beaulieu        0.000090\n",
      "31                  Mahmut T. Kandemir        0.000090\n",
      "32                        Philip S. Yu        0.000090\n",
      "33                  Azzedine Boukerche        0.000089\n",
      "34                            Fang Liu        0.000089\n",
      "35                  Mani B. Srivastava        0.000089\n",
      "36                       Ajith Abraham        0.000089\n",
      "37                        Yvon Savaria        0.000088\n",
      "38                        Tak-Wai Chan        0.000088\n",
      "39                       Elisa Bertino        0.000087\n",
      "40                              Yan Li        0.000087\n",
      "41                             Jing Li        0.000087\n",
      "42                           Yan Zhang        0.000087\n",
      "43                            Xiang Li        0.000086\n",
      "44                        Jiannong Cao        0.000086\n",
      "45                              Lei Li        0.000086\n",
      "46                           Tao Zhang        0.000086\n",
      "47                      Chao-Tung Yang        0.000085\n",
      "48                       Hsinchun Chen        0.000085\n",
      "49                      Katsumi Tanaka        0.000084\n",
      "Graph: dblp2006\n",
      "Node importance:\n",
      "              Author name  Pagerank score\n",
      "0                 Wen Gao        0.000167\n",
      "1         Chin-Chen Chang        0.000143\n",
      "2                 Qing Li        0.000123\n",
      "3                  Hui Li        0.000118\n",
      "4              Yong Zhang        0.000117\n",
      "5                  Xin Li        0.000113\n",
      "6               Yan Zhang        0.000113\n",
      "7           Xiaodong Wang        0.000111\n",
      "8                Wei Wang        0.000109\n",
      "9                 Hai Jin        0.000107\n",
      "10                Wei Liu        0.000106\n",
      "11       Francky Catthoor        0.000105\n",
      "12                Yong Yu        0.000105\n",
      "13            Wei-Ying Ma        0.000102\n",
      "14              Wei Zhang        0.000101\n",
      "15                Ying Li        0.000100\n",
      "16             Zhaohui Wu        0.000098\n",
      "17         Mario Piattini        0.000097\n",
      "18               Li Zhang        0.000095\n",
      "19        Masayuki Murata        0.000094\n",
      "20            Mario Gerla        0.000093\n",
      "21               Yu Zhang        0.000093\n",
      "22               Fang Liu        0.000092\n",
      "23                Jian Li        0.000091\n",
      "24  Laurence Tianruo Yang        0.000089\n",
      "25                Jing Li        0.000089\n",
      "26          C. C. Jay Kuo        0.000088\n",
      "27                 Yan Li        0.000086\n",
      "28              Jian Wang        0.000086\n",
      "29          Samuel Pierre        0.000086\n",
      "30              Yang Xiao        0.000086\n",
      "31                 Tao Li        0.000085\n",
      "32               Ying Liu        0.000084\n",
      "33              Yang Yang        0.000083\n",
      "34                 Wei Li        0.000083\n",
      "35      Hans-Peter Seidel        0.000083\n",
      "36        Luc J. Van Gool        0.000082\n",
      "37               Hao Wang        0.000081\n",
      "38              Minglu Li        0.000081\n",
      "39            Lajos Hanzo        0.000080\n",
      "40            Luca Benini        0.000080\n",
      "41   Nicholas R. Jennings        0.000080\n",
      "42          Elisa Bertino        0.000080\n",
      "43            Xuemin Shen        0.000079\n",
      "44              Tao Zhang        0.000079\n",
      "45          Hsinchun Chen        0.000078\n",
      "46         Piet Demeester        0.000078\n",
      "47              Yong Wang        0.000078\n",
      "48        Thomas S. Huang        0.000078\n",
      "49                 Bin Li        0.000078\n",
      "Graph: dblp2005w\n",
      "Node importance:\n",
      "                           Author name  Pagerank score\n",
      "0                              Wen Gao        0.000175\n",
      "1                      Chin-Chen Chang        0.000152\n",
      "2                          Wei-Ying Ma        0.000135\n",
      "3                               Xin Li        0.000128\n",
      "4                         Licheng Jiao        0.000124\n",
      "5                     Francky Catthoor        0.000122\n",
      "6                      H. Vincent Poor        0.000119\n",
      "7                           Zhaohui Wu        0.000118\n",
      "8                    Hans-Peter Seidel        0.000117\n",
      "9                        Xianlong Hong        0.000114\n",
      "10                      Mario Piattini        0.000109\n",
      "11                           Wei Zhang        0.000108\n",
      "12                    Tharam S. Dillon        0.000108\n",
      "13                           Minglu Li        0.000108\n",
      "14                       Samuel Pierre        0.000104\n",
      "15                      Witold Pedrycz        0.000102\n",
      "16                       Guanrong Chen        0.000101\n",
      "17                             Wei Liu        0.000101\n",
      "18                             Hai Jin        0.000100\n",
      "19                      David J. Evans        0.000098\n",
      "20                         Mario Gerla        0.000097\n",
      "21                            Bin Wang        0.000097\n",
      "22                            Wei Wang        0.000097\n",
      "23  Alberto L. Sangiovanni-Vincentelli        0.000096\n",
      "24                       Jinxiang Dong        0.000095\n",
      "25                         Kaushik Roy        0.000093\n",
      "26                    Heung-Yeung Shum        0.000093\n",
      "27                           Hong Shen        0.000092\n",
      "28                   Donald F. Towsley        0.000092\n",
      "29                          Yong Zhang        0.000091\n",
      "30                  Norman C. Beaulieu        0.000090\n",
      "31                  Mahmut T. Kandemir        0.000090\n",
      "32                        Philip S. Yu        0.000090\n",
      "33                  Azzedine Boukerche        0.000089\n",
      "34                            Fang Liu        0.000089\n",
      "35                  Mani B. Srivastava        0.000089\n",
      "36                       Ajith Abraham        0.000089\n",
      "37                        Yvon Savaria        0.000088\n",
      "38                        Tak-Wai Chan        0.000088\n",
      "39                       Elisa Bertino        0.000087\n",
      "40                              Yan Li        0.000087\n",
      "41                             Jing Li        0.000087\n",
      "42                           Yan Zhang        0.000087\n",
      "43                            Xiang Li        0.000086\n",
      "44                        Jiannong Cao        0.000086\n",
      "45                              Lei Li        0.000086\n",
      "46                           Tao Zhang        0.000086\n",
      "47                      Chao-Tung Yang        0.000085\n",
      "48                       Hsinchun Chen        0.000085\n",
      "49                      Katsumi Tanaka        0.000084\n"
     ]
    }
   ],
   "source": [
    "dblp2005_pagerank = pagerank(dblp2005)\n",
    "dblp2006_pagerank = pagerank(dblp2006)\n",
    "dblp2005w_pagerank = pagerank(dblp2005w)\n",
    "\n",
    "report_node_importance(\"dblp2005\", dblp2005_pagerank)\n",
    "report_node_importance(\"dblp2006\", dblp2006_pagerank)\n",
    "report_node_importance(\"dblp2005w\", dblp2005w_pagerank)"
   ]
  },
  {
   "cell_type": "code",
   "execution_count": 154,
   "id": "955a6fc2",
   "metadata": {},
   "outputs": [
    {
     "ename": "KeyboardInterrupt",
     "evalue": "",
     "output_type": "error",
     "traceback": [
      "\u001b[0;31m---------------------------------------------------------------------------\u001b[0m",
      "\u001b[0;31mKeyboardInterrupt\u001b[0m                         Traceback (most recent call last)",
      "Cell \u001b[0;32mIn[154], line 1\u001b[0m\n\u001b[0;32m----> 1\u001b[0m report_edge_importance(dblp2005, \u001b[38;5;124m\"\u001b[39m\u001b[38;5;124mdblp2005\u001b[39m\u001b[38;5;124m\"\u001b[39m)\n\u001b[1;32m      2\u001b[0m report_edge_importance(dblp2006, \u001b[38;5;124m\"\u001b[39m\u001b[38;5;124mdblp2006\u001b[39m\u001b[38;5;124m\"\u001b[39m)\n\u001b[1;32m      3\u001b[0m report_edge_importance(dblp2005w, \u001b[38;5;124m\"\u001b[39m\u001b[38;5;124mdblp2005w\u001b[39m\u001b[38;5;124m\"\u001b[39m, weight\u001b[38;5;241m=\u001b[39m\u001b[38;5;124m\"\u001b[39m\u001b[38;5;124mweight\u001b[39m\u001b[38;5;124m\"\u001b[39m)\n",
      "Cell \u001b[0;32mIn[108], line 17\u001b[0m, in \u001b[0;36mreport_edge_importance\u001b[0;34m(graph, graph_name, top_n, weight, normalized)\u001b[0m\n\u001b[1;32m     16\u001b[0m \u001b[38;5;28;01mdef\u001b[39;00m \u001b[38;5;21mreport_edge_importance\u001b[39m(graph, graph_name, top_n\u001b[38;5;241m=\u001b[39m\u001b[38;5;241m20\u001b[39m, weight\u001b[38;5;241m=\u001b[39m\u001b[38;5;28;01mNone\u001b[39;00m, normalized\u001b[38;5;241m=\u001b[39m\u001b[38;5;28;01mFalse\u001b[39;00m):\n\u001b[0;32m---> 17\u001b[0m     betweenness \u001b[38;5;241m=\u001b[39m nx\u001b[38;5;241m.\u001b[39medge_betweenness_centrality(graph, normalized\u001b[38;5;241m=\u001b[39mnormalized, weight\u001b[38;5;241m=\u001b[39mweight)\n\u001b[1;32m     18\u001b[0m     ranked_edges \u001b[38;5;241m=\u001b[39m \u001b[38;5;28msorted\u001b[39m(betweenness, reverse\u001b[38;5;241m=\u001b[39m\u001b[38;5;28;01mTrue\u001b[39;00m, key\u001b[38;5;241m=\u001b[39m\u001b[38;5;28;01mlambda\u001b[39;00m edge: betweenness[edge])\n\u001b[1;32m     20\u001b[0m     edge_importance_table \u001b[38;5;241m=\u001b[39m pd\u001b[38;5;241m.\u001b[39mDataFrame(columns\u001b[38;5;241m=\u001b[39m[\u001b[38;5;124m\"\u001b[39m\u001b[38;5;124mAuthor 1\u001b[39m\u001b[38;5;124m\"\u001b[39m, \u001b[38;5;124m\"\u001b[39m\u001b[38;5;124mAuthor 2\u001b[39m\u001b[38;5;124m\"\u001b[39m, \u001b[38;5;124m\"\u001b[39m\u001b[38;5;124mBetweeness score\u001b[39m\u001b[38;5;124m\"\u001b[39m])\n",
      "File \u001b[0;32m~/anaconda3/lib/python3.11/site-packages/networkx/classes/backends.py:148\u001b[0m, in \u001b[0;36m_dispatch.<locals>.wrapper\u001b[0;34m(*args, **kwds)\u001b[0m\n\u001b[1;32m    144\u001b[0m         \u001b[38;5;28;01melse\u001b[39;00m:\n\u001b[1;32m    145\u001b[0m             \u001b[38;5;28;01mraise\u001b[39;00m NetworkXNotImplemented(\n\u001b[1;32m    146\u001b[0m                 \u001b[38;5;124mf\u001b[39m\u001b[38;5;124m\"\u001b[39m\u001b[38;5;124m'\u001b[39m\u001b[38;5;132;01m{\u001b[39;00mname\u001b[38;5;132;01m}\u001b[39;00m\u001b[38;5;124m'\u001b[39m\u001b[38;5;124m not implemented by \u001b[39m\u001b[38;5;132;01m{\u001b[39;00mplugin_name\u001b[38;5;132;01m}\u001b[39;00m\u001b[38;5;124m\"\u001b[39m\n\u001b[1;32m    147\u001b[0m             )\n\u001b[0;32m--> 148\u001b[0m \u001b[38;5;28;01mreturn\u001b[39;00m func(\u001b[38;5;241m*\u001b[39margs, \u001b[38;5;241m*\u001b[39m\u001b[38;5;241m*\u001b[39mkwds)\n",
      "File \u001b[0;32m<class 'networkx.utils.decorators.argmap'> compilation 8:4\u001b[0m, in \u001b[0;36margmap_edge_betweenness_centrality_5\u001b[0;34m(G, k, normalized, weight, seed)\u001b[0m\n\u001b[1;32m      2\u001b[0m \u001b[38;5;28;01mimport\u001b[39;00m \u001b[38;5;21;01mcollections\u001b[39;00m\n\u001b[1;32m      3\u001b[0m \u001b[38;5;28;01mimport\u001b[39;00m \u001b[38;5;21;01mgzip\u001b[39;00m\n\u001b[0;32m----> 4\u001b[0m \u001b[38;5;28;01mimport\u001b[39;00m \u001b[38;5;21;01minspect\u001b[39;00m\n\u001b[1;32m      5\u001b[0m \u001b[38;5;28;01mimport\u001b[39;00m \u001b[38;5;21;01mitertools\u001b[39;00m\n\u001b[1;32m      6\u001b[0m \u001b[38;5;28;01mimport\u001b[39;00m \u001b[38;5;21;01mre\u001b[39;00m\n",
      "File \u001b[0;32m~/anaconda3/lib/python3.11/site-packages/networkx/algorithms/centrality/betweenness.py:231\u001b[0m, in \u001b[0;36medge_betweenness_centrality\u001b[0;34m(G, k, normalized, weight, seed)\u001b[0m\n\u001b[1;32m    228\u001b[0m \u001b[38;5;28;01mfor\u001b[39;00m s \u001b[38;5;129;01min\u001b[39;00m nodes:\n\u001b[1;32m    229\u001b[0m     \u001b[38;5;66;03m# single source shortest paths\u001b[39;00m\n\u001b[1;32m    230\u001b[0m     \u001b[38;5;28;01mif\u001b[39;00m weight \u001b[38;5;129;01mis\u001b[39;00m \u001b[38;5;28;01mNone\u001b[39;00m:  \u001b[38;5;66;03m# use BFS\u001b[39;00m\n\u001b[0;32m--> 231\u001b[0m         S, P, sigma, _ \u001b[38;5;241m=\u001b[39m _single_source_shortest_path_basic(G, s)\n\u001b[1;32m    232\u001b[0m     \u001b[38;5;28;01melse\u001b[39;00m:  \u001b[38;5;66;03m# use Dijkstra's algorithm\u001b[39;00m\n\u001b[1;32m    233\u001b[0m         S, P, sigma, _ \u001b[38;5;241m=\u001b[39m _single_source_dijkstra_path_basic(G, s, weight)\n",
      "File \u001b[0;32m~/anaconda3/lib/python3.11/site-packages/networkx/algorithms/centrality/betweenness.py:265\u001b[0m, in \u001b[0;36m_single_source_shortest_path_basic\u001b[0;34m(G, s)\u001b[0m\n\u001b[1;32m    263\u001b[0m Dv \u001b[38;5;241m=\u001b[39m D[v]\n\u001b[1;32m    264\u001b[0m sigmav \u001b[38;5;241m=\u001b[39m sigma[v]\n\u001b[0;32m--> 265\u001b[0m \u001b[38;5;28;01mfor\u001b[39;00m w \u001b[38;5;129;01min\u001b[39;00m G[v]:\n\u001b[1;32m    266\u001b[0m     \u001b[38;5;28;01mif\u001b[39;00m w \u001b[38;5;129;01mnot\u001b[39;00m \u001b[38;5;129;01min\u001b[39;00m D:\n\u001b[1;32m    267\u001b[0m         Q\u001b[38;5;241m.\u001b[39mappend(w)\n",
      "File \u001b[0;32m~/anaconda3/lib/python3.11/site-packages/networkx/classes/graph.py:513\u001b[0m, in \u001b[0;36mGraph.__getitem__\u001b[0;34m(self, n)\u001b[0m\n\u001b[1;32m    489\u001b[0m \u001b[38;5;28;01mdef\u001b[39;00m \u001b[38;5;21m__getitem__\u001b[39m(\u001b[38;5;28mself\u001b[39m, n):\n\u001b[1;32m    490\u001b[0m \u001b[38;5;250m    \u001b[39m\u001b[38;5;124;03m\"\"\"Returns a dict of neighbors of node n.  Use: 'G[n]'.\u001b[39;00m\n\u001b[1;32m    491\u001b[0m \n\u001b[1;32m    492\u001b[0m \u001b[38;5;124;03m    Parameters\u001b[39;00m\n\u001b[0;32m   (...)\u001b[0m\n\u001b[1;32m    511\u001b[0m \u001b[38;5;124;03m    AtlasView({1: {}})\u001b[39;00m\n\u001b[1;32m    512\u001b[0m \u001b[38;5;124;03m    \"\"\"\u001b[39;00m\n\u001b[0;32m--> 513\u001b[0m     \u001b[38;5;28;01mreturn\u001b[39;00m \u001b[38;5;28mself\u001b[39m\u001b[38;5;241m.\u001b[39madj[n]\n",
      "File \u001b[0;32m~/anaconda3/lib/python3.11/site-packages/networkx/classes/coreviews.py:81\u001b[0m, in \u001b[0;36mAdjacencyView.__getitem__\u001b[0;34m(self, name)\u001b[0m\n\u001b[1;32m     80\u001b[0m \u001b[38;5;28;01mdef\u001b[39;00m \u001b[38;5;21m__getitem__\u001b[39m(\u001b[38;5;28mself\u001b[39m, name):\n\u001b[0;32m---> 81\u001b[0m     \u001b[38;5;28;01mreturn\u001b[39;00m AtlasView(\u001b[38;5;28mself\u001b[39m\u001b[38;5;241m.\u001b[39m_atlas[name])\n",
      "File \u001b[0;32m~/anaconda3/lib/python3.11/site-packages/networkx/classes/coreviews.py:314\u001b[0m, in \u001b[0;36mFilterAdjacency.__getitem__\u001b[0;34m(self, node)\u001b[0m\n\u001b[1;32m    313\u001b[0m \u001b[38;5;28;01mdef\u001b[39;00m \u001b[38;5;21m__getitem__\u001b[39m(\u001b[38;5;28mself\u001b[39m, node):\n\u001b[0;32m--> 314\u001b[0m     \u001b[38;5;28;01mif\u001b[39;00m node \u001b[38;5;129;01min\u001b[39;00m \u001b[38;5;28mself\u001b[39m\u001b[38;5;241m.\u001b[39m_atlas \u001b[38;5;129;01mand\u001b[39;00m \u001b[38;5;28mself\u001b[39m\u001b[38;5;241m.\u001b[39mNODE_OK(node):\n\u001b[1;32m    316\u001b[0m         \u001b[38;5;28;01mdef\u001b[39;00m \u001b[38;5;21mnew_node_ok\u001b[39m(nbr):\n\u001b[1;32m    317\u001b[0m             \u001b[38;5;28;01mreturn\u001b[39;00m \u001b[38;5;28mself\u001b[39m\u001b[38;5;241m.\u001b[39mNODE_OK(nbr) \u001b[38;5;129;01mand\u001b[39;00m \u001b[38;5;28mself\u001b[39m\u001b[38;5;241m.\u001b[39mEDGE_OK(node, nbr)\n",
      "File \u001b[0;32m~/anaconda3/lib/python3.11/site-packages/networkx/classes/filters.py:54\u001b[0m, in \u001b[0;36mshow_nodes.__call__\u001b[0;34m(self, node)\u001b[0m\n\u001b[1;32m     51\u001b[0m \u001b[38;5;28;01mdef\u001b[39;00m \u001b[38;5;21m__init__\u001b[39m(\u001b[38;5;28mself\u001b[39m, nodes):\n\u001b[1;32m     52\u001b[0m     \u001b[38;5;28mself\u001b[39m\u001b[38;5;241m.\u001b[39mnodes \u001b[38;5;241m=\u001b[39m \u001b[38;5;28mset\u001b[39m(nodes)\n\u001b[0;32m---> 54\u001b[0m \u001b[38;5;28;01mdef\u001b[39;00m \u001b[38;5;21m__call__\u001b[39m(\u001b[38;5;28mself\u001b[39m, node):\n\u001b[1;32m     55\u001b[0m     \u001b[38;5;28;01mreturn\u001b[39;00m node \u001b[38;5;129;01min\u001b[39;00m \u001b[38;5;28mself\u001b[39m\u001b[38;5;241m.\u001b[39mnodes\n",
      "\u001b[0;31mKeyboardInterrupt\u001b[0m: "
     ]
    }
   ],
   "source": [
    "dblp2005_betweenness = edge_betweenness(dblp2005)\n",
    "dblp2006_betweenness = edge_betweenness(dblp2006)\n",
    "dblp2005w_betweenness = edge_betweenness(dblp2005w, weight=weight)\n",
    "\n",
    "report_node_importance(\"dblp2005\", dblp2005_betweenness)\n",
    "report_node_importance(\"dblp2006\", dblp2006_betweenness)\n",
    "report_node_importance(\"dblp2005w\", dblp2005w_betweenness)"
   ]
  },
  {
   "cell_type": "markdown",
   "id": "7f1c143f",
   "metadata": {},
   "source": [
    "# C. Link Prediction in Graphs"
   ]
  },
  {
   "cell_type": "markdown",
   "id": "5057ea55",
   "metadata": {},
   "source": [
    "## Pruning graphs"
   ]
  },
  {
   "cell_type": "code",
   "execution_count": 166,
   "id": "bb370bb3",
   "metadata": {},
   "outputs": [],
   "source": [
    "def extract_subgraph_by_degree_count(graph, min_degree: int):\n",
    "    nodes_to_keep = [node for node, degree in graph.degree if degree >= min_degree]\n",
    "    return graph.subgraph(nodes_to_keep)"
   ]
  },
  {
   "cell_type": "code",
   "execution_count": 167,
   "id": "dec2064a",
   "metadata": {},
   "outputs": [],
   "source": [
    "dblp2005_core = extract_subgraph_by_degree_count(dblp2005, 3)\n",
    "dblp2006_core = extract_subgraph_by_degree_count(dblp2006, 3)"
   ]
  },
  {
   "cell_type": "markdown",
   "id": "7dda55a9",
   "metadata": {},
   "source": [
    "## Prediction"
   ]
  },
  {
   "cell_type": "code",
   "execution_count": 157,
   "id": "e283a1c3",
   "metadata": {},
   "outputs": [],
   "source": [
    "def friends_of_friends_connections(graph):\n",
    "    fof_connections = []\n",
    "    visited = set()\n",
    "    for node in graph.nodes():\n",
    "        fof_set = set()\n",
    "        for friend in graph[node]:\n",
    "            if friend == node: continue\n",
    "            for fof in graph[friend]:\n",
    "                if fof == node or fof in visited:\n",
    "                    continue\n",
    "                fof_set.add(fof)\n",
    "        \n",
    "        for fof in fof_set:\n",
    "            fof_connections.append((node, fof))\n",
    "                \n",
    "        visited.add(node)\n",
    "    return fof_connections\n",
    "                    \n",
    "    \n",
    "def graph_edge_difference(minuend_graph, subtrahend_graph):\n",
    "    edge_difference = []\n",
    "    for edge in minuend_graph.edges():\n",
    "        if subtrahend_graph.has_edge(*edge):\n",
    "            continue\n",
    "        edge_difference.append(edge)\n",
    "    return edge_difference"
   ]
  },
  {
   "cell_type": "code",
   "execution_count": 164,
   "id": "0b42a2cb",
   "metadata": {},
   "outputs": [],
   "source": [
    "candidate_edges = friends_of_friends_connections(dblp2005_core)\n",
    "ground_truth_edges = graph_edge_difference(dblp2006_core, dblp2005_core)"
   ]
  },
  {
   "cell_type": "code",
   "execution_count": 165,
   "id": "ff5ff43e",
   "metadata": {},
   "outputs": [],
   "source": [
    "cn_pred = nx.cn_soundarajan_hopcroft(dblp2005_core, candidate_edges)\n",
    "jc_pred = nx.jaccard_coefficient(dblp2005_core, candidate_edges)\n",
    "pa_pred = nx.preferential_attachment(dblp2005_core, candidate_edges)\n",
    "aa_pred = nx.adamic_adar_index(dblp2005_core, candidate_edges)"
   ]
  },
  {
   "cell_type": "markdown",
   "id": "c7df1770",
   "metadata": {},
   "source": [
    "## Precision"
   ]
  },
  {
   "cell_type": "code",
   "execution_count": null,
   "id": "20f030eb",
   "metadata": {},
   "outputs": [],
   "source": [
    "def precision_report(prediction, ground_truth):\n",
    "    \n",
    "    "
   ]
  },
  {
   "cell_type": "code",
   "execution_count": null,
   "id": "133535aa",
   "metadata": {},
   "outputs": [],
   "source": []
  }
 ],
 "metadata": {
  "kernelspec": {
   "display_name": "Python 3 (ipykernel)",
   "language": "python",
   "name": "python3"
  },
  "language_info": {
   "codemirror_mode": {
    "name": "ipython",
    "version": 3
   },
   "file_extension": ".py",
   "mimetype": "text/x-python",
   "name": "python",
   "nbconvert_exporter": "python",
   "pygments_lexer": "ipython3",
   "version": "3.11.5"
  }
 },
 "nbformat": 4,
 "nbformat_minor": 5
}
