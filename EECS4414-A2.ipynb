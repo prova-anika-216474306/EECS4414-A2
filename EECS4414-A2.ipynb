{
 "cells": [
  {
   "cell_type": "code",
   "execution_count": 1,
   "id": "39a17c42",
   "metadata": {},
   "outputs": [],
   "source": [
    "%%capture\n",
    "!pip install networkx\n",
    "!pip install pandas"
   ]
  },
  {
   "cell_type": "code",
   "execution_count": 2,
   "id": "0f4b022a",
   "metadata": {},
   "outputs": [],
   "source": [
    "import json\n",
    "import networkx as nx\n",
    "import pandas as pd"
   ]
  },
  {
   "cell_type": "markdown",
   "id": "a8809994",
   "metadata": {},
   "source": [
    "# A. Temporal Graphs"
   ]
  },
  {
   "cell_type": "code",
   "execution_count": 3,
   "id": "fd6c7b44",
   "metadata": {},
   "outputs": [],
   "source": [
    "def create_graph(graph_data: list, target_year: int, weighted: bool = False):\n",
    "    graph = nx.Graph()\n",
    "    for author1, author2, year in graph_data:\n",
    "        if year != target_year: continue\n",
    "        if graph.has_edge(author1, author2):\n",
    "            graph[author1][author2][\"weight\"] = graph[author1][author2][\"weight\"] + 1\n",
    "        else:\n",
    "            graph.add_edge(author1, author2, weight=1)\n",
    "    return graph\n",
    "        "
   ]
  },
  {
   "cell_type": "code",
   "execution_count": 4,
   "id": "b414ecc5",
   "metadata": {},
   "outputs": [],
   "source": [
    "def load_json(file_path: str):\n",
    "    with open(file_path, \"r\") as file:\n",
    "        graph_data = json.load(file)\n",
    "        return graph_data"
   ]
  },
  {
   "cell_type": "code",
   "execution_count": 5,
   "id": "81ba6abb",
   "metadata": {},
   "outputs": [],
   "source": [
    "graph_data = load_json(\"./tmp_dblp_coauthorship.json\")"
   ]
  },
  {
   "cell_type": "code",
   "execution_count": 6,
   "id": "a0809a86",
   "metadata": {},
   "outputs": [],
   "source": [
    "dblp2005 = create_graph(graph_data, 2005)\n",
    "dblp2006 = create_graph(graph_data, 2006)\n",
    "dblp2005w = create_graph(graph_data, 2005, weighted=True)"
   ]
  },
  {
   "cell_type": "code",
   "execution_count": 7,
   "id": "6d434163",
   "metadata": {},
   "outputs": [
    {
     "name": "stdout",
     "output_type": "stream",
     "text": [
      "  Graph Name  Node Count  Edge Count\n",
      "0   dblp2005      180227      403026\n",
      "1   dblp2006      201298      465988\n",
      "2  dblp2005w      180227      403026\n"
     ]
    }
   ],
   "source": [
    "table = pd.DataFrame(columns=[\"Graph Name\", \"Node Count\", \"Edge Count\"])\n",
    "table.loc[len(table)] = [\"dblp2005\", dblp2005.number_of_nodes(), dblp2005.number_of_edges()]\n",
    "table.loc[len(table)] = [\"dblp2006\", dblp2006.number_of_nodes(), dblp2006.number_of_edges()]\n",
    "table.loc[len(table)] = [\"dblp2005w\", dblp2005w.number_of_nodes(), dblp2005w.number_of_edges()]\n",
    "\n",
    "print(table)"
   ]
  },
  {
   "cell_type": "markdown",
   "id": "1dcca4f6",
   "metadata": {},
   "source": [
    "## Giant Connected Components"
   ]
  },
  {
   "cell_type": "code",
   "execution_count": 8,
   "id": "a59a0f6b",
   "metadata": {},
   "outputs": [],
   "source": [
    "def giant_connected_component(graph):\n",
    "    giant_cc_nodeset = max(nx.connected_components(graph), key=len)\n",
    "    return graph.subgraph(giant_cc_nodeset)"
   ]
  },
  {
   "cell_type": "code",
   "execution_count": 9,
   "id": "96c1c74b",
   "metadata": {},
   "outputs": [],
   "source": [
    "dblp2005 = giant_connected_component(dblp2005)\n",
    "dblp2006 = giant_connected_component(dblp2006)\n",
    "dblp2005w = giant_connected_component(dblp2005w)"
   ]
  },
  {
   "cell_type": "markdown",
   "id": "dec51675",
   "metadata": {},
   "source": [
    "## Report"
   ]
  },
  {
   "cell_type": "code",
   "execution_count": 10,
   "id": "17d0a551",
   "metadata": {},
   "outputs": [
    {
     "name": "stdout",
     "output_type": "stream",
     "text": [
      "  Graph Name  GCC Node Count  GCC Edge Count\n",
      "0   dblp2005          106943          300043\n",
      "1   dblp2006          123808          356968\n",
      "2  dblp2005w          106943          300043\n"
     ]
    }
   ],
   "source": [
    "table = pd.DataFrame(columns=[\"Graph Name\", \"GCC Node Count\", \"GCC Edge Count\"])\n",
    "table.loc[len(table)] = [\"dblp2005\", dblp2005.number_of_nodes(), dblp2005.number_of_edges()]\n",
    "table.loc[len(table)] = [\"dblp2006\", dblp2006.number_of_nodes(), dblp2006.number_of_edges()]\n",
    "table.loc[len(table)] = [\"dblp2005w\", dblp2005w.number_of_nodes(), dblp2005w.number_of_edges()]\n",
    "\n",
    "print(table)"
   ]
  },
  {
   "cell_type": "markdown",
   "id": "96b00aad",
   "metadata": {},
   "source": [
    "# B. Node and Edge Importance in Graphs"
   ]
  },
  {
   "cell_type": "code",
   "execution_count": 46,
   "id": "97a0d7b6",
   "metadata": {},
   "outputs": [],
   "source": [
    "def pagerank(graph):\n",
    "    pagerank = nx.pagerank(graph)\n",
    "    return pagerank\n",
    "\n",
    "def edge_betweenness(graph, k=10, weight=None, normalized=False):\n",
    "    betweenness = nx.edge_betweenness_centrality(graph, k=k, weight=weight, normalized=normalized)\n",
    "    return betweenness\n",
    "    \n",
    "def report_node_importance(graph_name, pagerank, top_n=50):\n",
    "    node_importance_table = pd.DataFrame(columns=[\"Author name\", \"Pagerank score\"])\n",
    "    ranked_nodes = sorted(pagerank, reverse=True, key=lambda node: pagerank[node])\n",
    "    for i in range(0,top_n):\n",
    "        if i >= len(ranked_nodes): break\n",
    "        node = ranked_nodes[i]\n",
    "        rank = pagerank[node]\n",
    "        node_importance_table.loc[len(node_importance_table)] = [node, rank]\n",
    "    \n",
    "    print(f\"Graph: {graph_name}\")\n",
    "    print(\"Node importance:\")\n",
    "    print(node_importance_table)\n",
    "\n",
    "def report_edge_importance(graph_name, betweenness, top_n=20):\n",
    "    edge_importance_table = pd.DataFrame(columns=[\"Author 1\", \"Author 2\", \"Betweeness score\"])\n",
    "    ranked_edges = sorted(betweenness, reverse=True, key=lambda edge: betweenness[edge])\n",
    "    for i in range(0, top_n):\n",
    "        if i >= len(ranked_edges): break\n",
    "        edge = ranked_edges[i]\n",
    "        rank = betweenness[edge]\n",
    "        edge_importance_table.loc[len(edge_importance_table)] = [edge[0], edge[1], rank]\n",
    "        \n",
    "    print(f\"Graph: {graph_name}\")\n",
    "    print(\"Edge importance:\")\n",
    "    print(edge_importance_table)"
   ]
  },
  {
   "cell_type": "markdown",
   "id": "d21e91d6",
   "metadata": {},
   "source": [
    "## Report"
   ]
  },
  {
   "cell_type": "code",
   "execution_count": 29,
   "id": "0809a131",
   "metadata": {},
   "outputs": [
    {
     "name": "stdout",
     "output_type": "stream",
     "text": [
      "Graph: dblp2005\n",
      "Node importance:\n",
      "          Author name  Pagerank score\n",
      "0             Wen Gao        0.000175\n",
      "1     Chin-Chen Chang        0.000152\n",
      "2         Wei-Ying Ma        0.000135\n",
      "3              Xin Li        0.000128\n",
      "4        Licheng Jiao        0.000124\n",
      "5    Francky Catthoor        0.000122\n",
      "6     H. Vincent Poor        0.000119\n",
      "7          Zhaohui Wu        0.000118\n",
      "8   Hans-Peter Seidel        0.000117\n",
      "9       Xianlong Hong        0.000114\n",
      "10     Mario Piattini        0.000109\n",
      "11          Wei Zhang        0.000108\n",
      "12   Tharam S. Dillon        0.000108\n",
      "13          Minglu Li        0.000108\n",
      "14      Samuel Pierre        0.000104\n",
      "15     Witold Pedrycz        0.000102\n",
      "16      Guanrong Chen        0.000101\n",
      "17            Wei Liu        0.000101\n",
      "18            Hai Jin        0.000100\n",
      "19     David J. Evans        0.000098\n",
      "Graph: dblp2006\n",
      "Node importance:\n",
      "         Author name  Pagerank score\n",
      "0            Wen Gao        0.000167\n",
      "1    Chin-Chen Chang        0.000143\n",
      "2            Qing Li        0.000123\n",
      "3             Hui Li        0.000118\n",
      "4         Yong Zhang        0.000117\n",
      "5             Xin Li        0.000113\n",
      "6          Yan Zhang        0.000113\n",
      "7      Xiaodong Wang        0.000111\n",
      "8           Wei Wang        0.000109\n",
      "9            Hai Jin        0.000107\n",
      "10           Wei Liu        0.000106\n",
      "11  Francky Catthoor        0.000105\n",
      "12           Yong Yu        0.000105\n",
      "13       Wei-Ying Ma        0.000102\n",
      "14         Wei Zhang        0.000101\n",
      "15           Ying Li        0.000100\n",
      "16        Zhaohui Wu        0.000098\n",
      "17    Mario Piattini        0.000097\n",
      "18          Li Zhang        0.000095\n",
      "19   Masayuki Murata        0.000094\n",
      "Graph: dblp2005w\n",
      "Node importance:\n",
      "          Author name  Pagerank score\n",
      "0             Wen Gao        0.000175\n",
      "1     Chin-Chen Chang        0.000152\n",
      "2         Wei-Ying Ma        0.000135\n",
      "3              Xin Li        0.000128\n",
      "4        Licheng Jiao        0.000124\n",
      "5    Francky Catthoor        0.000122\n",
      "6     H. Vincent Poor        0.000119\n",
      "7          Zhaohui Wu        0.000118\n",
      "8   Hans-Peter Seidel        0.000117\n",
      "9       Xianlong Hong        0.000114\n",
      "10     Mario Piattini        0.000109\n",
      "11          Wei Zhang        0.000108\n",
      "12   Tharam S. Dillon        0.000108\n",
      "13          Minglu Li        0.000108\n",
      "14      Samuel Pierre        0.000104\n",
      "15     Witold Pedrycz        0.000102\n",
      "16      Guanrong Chen        0.000101\n",
      "17            Wei Liu        0.000101\n",
      "18            Hai Jin        0.000100\n",
      "19     David J. Evans        0.000098\n"
     ]
    }
   ],
   "source": [
    "dblp2005_pagerank = pagerank(dblp2005)\n",
    "dblp2006_pagerank = pagerank(dblp2006)\n",
    "dblp2005w_pagerank = pagerank(dblp2005w)\n",
    "\n",
    "report_node_importance(\"dblp2005\", dblp2005_pagerank)\n",
    "report_node_importance(\"dblp2006\", dblp2006_pagerank)\n",
    "report_node_importance(\"dblp2005w\", dblp2005w_pagerank)"
   ]
  },
  {
   "cell_type": "code",
   "execution_count": null,
   "id": "bf0944d4",
   "metadata": {},
   "outputs": [],
   "source": [
    "dblp2005_betweenness = edge_betweenness(dblp2005)\n",
    "dblp2006_betweenness = edge_betweenness(dblp2006)\n",
    "#dblp2005w_betweenness = edge_betweenness(dblp2005w, weight=weight)\n",
    "\n",
    "report_edge_importance(\"dblp2005\", dblp2005_betweenness)\n",
    "report_edge_importance(\"dblp2006\", dblp2006_betweenness)\n",
    "#report_edge_importance(\"dblp2005w\", dblp2005w_betweenness)"
   ]
  },
  {
   "cell_type": "markdown",
   "id": "117eafad",
   "metadata": {},
   "source": [
    "# C. Link Prediction in Graphs"
   ]
  },
  {
   "cell_type": "markdown",
   "id": "57bcdf99",
   "metadata": {},
   "source": [
    "## Pruning graphs"
   ]
  },
  {
   "cell_type": "code",
   "execution_count": null,
   "id": "90697029",
   "metadata": {},
   "outputs": [],
   "source": [
    "def extract_subgraph_by_degree_count(graph, min_degree: int):\n",
    "    nodes_to_keep = [node for node, degree in graph.degree if degree >= min_degree]\n",
    "    return graph.subgraph(nodes_to_keep)"
   ]
  },
  {
   "cell_type": "code",
   "execution_count": null,
   "id": "09415533",
   "metadata": {},
   "outputs": [],
   "source": [
    "dblp2005_core = extract_subgraph_by_degree_count(dblp2005, 3)\n",
    "dblp2006_core = extract_subgraph_by_degree_count(dblp2006, 3)"
   ]
  },
  {
   "cell_type": "markdown",
   "id": "ebb58658",
   "metadata": {},
   "source": [
    "## Prediction"
   ]
  },
  {
   "cell_type": "code",
   "execution_count": null,
   "id": "a0611a36",
   "metadata": {},
   "outputs": [],
   "source": [
    "def friends_of_friends_connections(graph):\n",
    "    fof_connections = []\n",
    "    visited = set()\n",
    "    for node in graph.nodes():\n",
    "        fof_set = set()\n",
    "        for friend in graph[node]:\n",
    "            if friend == node: continue\n",
    "            for fof in graph[friend]:\n",
    "                if fof == node or fof in visited:\n",
    "                    continue\n",
    "                fof_set.add(fof)\n",
    "        \n",
    "        for fof in fof_set:\n",
    "            fof_connections.append((node, fof))\n",
    "                \n",
    "        visited.add(node)\n",
    "    return fof_connections\n",
    "                    \n",
    "    \n",
    "def graph_edge_difference(minuend_graph, subtrahend_graph):\n",
    "    edge_difference = []\n",
    "    for edge in minuend_graph.edges():\n",
    "        if subtrahend_graph.has_edge(*edge):\n",
    "            continue\n",
    "        edge_difference.append(edge)\n",
    "    return edge_difference"
   ]
  },
  {
   "cell_type": "code",
   "execution_count": null,
   "id": "a1620864",
   "metadata": {},
   "outputs": [],
   "source": [
    "candidate_edges = friends_of_friends_connections(dblp2005_core)\n",
    "ground_truth_edges = graph_edge_difference(dblp2006_core, dblp2005_core)"
   ]
  },
  {
   "cell_type": "markdown",
   "id": "336b3c8f",
   "metadata": {},
   "source": [
    "## Precision"
   ]
  },
  {
   "cell_type": "code",
   "execution_count": null,
   "id": "235f3a65",
   "metadata": {},
   "outputs": [],
   "source": [
    "def precision_at_k(k_values, predictions, ground_truth, include_max_k=False):\n",
    "    if type(k_values)==int:\n",
    "        k_values = [k_values]\n",
    "    ground_truth = set(ground_truth)\n",
    "    precision_results = dict()\n",
    "    \n",
    "    # `predictions` is of the form (u,v,s) where (u,v) is the edge, and s is the score for the edge for the specific link prediction algorithm that produced those predictions\n",
    "    sorted_predictions = sorted(predictions, key=lambda pred: pred[2])\n",
    "    predictions = [(u, v) for (u,v,s) in sorted_predictions]\n",
    "    \n",
    "    k = 0\n",
    "    correct_pred_count = 0\n",
    "    for pred in predictions:\n",
    "        k += 1\n",
    "        if pred in ground_truth:\n",
    "            correct_pred_count += 1\n",
    "        \n",
    "        if k in k_values:\n",
    "            precision_results[k] = correct_pred_count/k\n",
    "    \n",
    "    if include_max_k and k>0 and k not in precision_results:\n",
    "        precision_results[k] = correct_pred_count/k\n",
    "    \n",
    "    return precision_results\n",
    "\n",
    "def precision_report(predictions, ground_truth):\n",
    "    fixed_k_vals = [10, 20, 50, 100]\n",
    "    precision_results = precision_at_k(fixed_k_vals, predictions, ground_truth, include_max_k=True)\n",
    "    k_vals = sorted(precision_results.keys())\n",
    "    if len(precision_results)==0:\n",
    "        return pd.DataFrame()\n",
    "    \n",
    "    precision_report = pd.DataFrame(columns=[f\"P@{k}\" for k in k_vals])\n",
    "    precision_report.loc[len(precision_report)] = [precision_results[k] for k in k_vals]\n",
    "    \n",
    "    return precision_report\n",
    "        \n",
    "    "
   ]
  },
  {
   "cell_type": "code",
   "execution_count": null,
   "id": "1a3a72aa",
   "metadata": {},
   "outputs": [],
   "source": [
    "print(\"P@k values for Jaccard Coefficient\")\n",
    "jc_pred = nx.jaccard_coefficient(dblp2005_core, candidate_edges)\n",
    "print(precision_report(jc_pred, ground_truth_edges))"
   ]
  },
  {
   "cell_type": "code",
   "execution_count": null,
   "id": "656658b0",
   "metadata": {},
   "outputs": [],
   "source": [
    "print(\"P@k values for Preferential Attachment\")\n",
    "pa_pred = nx.preferential_attachment(dblp2005_core, candidate_edges)\n",
    "print(precision_report(pa_pred, ground_truth_edges))"
   ]
  },
  {
   "cell_type": "code",
   "execution_count": null,
   "id": "110fea79",
   "metadata": {},
   "outputs": [],
   "source": [
    "print(\"P@k values for Adamic/Adar\")\n",
    "aa_pred = nx.adamic_adar_index(dblp2005_core, candidate_edges)\n",
    "print(precision_report(aa_pred, ground_truth_edges))"
   ]
  },
  {
   "cell_type": "code",
   "execution_count": null,
   "id": "fea1d24a",
   "metadata": {},
   "outputs": [],
   "source": [
    "print(\"P@k values for Common Neighbors\")\n",
    "cn_pred = nx.cn_soundarajan_hopcroft(dblp2005_core, candidate_edges, community=None)\n",
    "print(precision_report(\"Common Neighbors\", cn_pred, ground_truth_edges))"
   ]
  },
  {
   "cell_type": "code",
   "execution_count": null,
   "id": "ca133a4d",
   "metadata": {},
   "outputs": [],
   "source": []
  }
 ],
 "metadata": {
  "kernelspec": {
   "display_name": "Python 3 (ipykernel)",
   "language": "python",
   "name": "python3"
  },
  "language_info": {
   "codemirror_mode": {
    "name": "ipython",
    "version": 3
   },
   "file_extension": ".py",
   "mimetype": "text/x-python",
   "name": "python",
   "nbconvert_exporter": "python",
   "pygments_lexer": "ipython3",
   "version": "3.8.8"
  }
 },
 "nbformat": 4,
 "nbformat_minor": 5
}
