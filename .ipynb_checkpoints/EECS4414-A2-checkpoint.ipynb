{
 "cells": [
  {
   "cell_type": "code",
   "execution_count": 1,
   "id": "39a17c42",
   "metadata": {},
   "outputs": [],
   "source": [
    "%%capture\n",
    "!pip install networkx\n",
    "!pip install pandas"
   ]
  },
  {
   "cell_type": "code",
   "execution_count": 2,
   "id": "0f4b022a",
   "metadata": {},
   "outputs": [],
   "source": [
    "import json\n",
    "import networkx as nx\n",
    "import pandas as pd"
   ]
  },
  {
   "cell_type": "markdown",
   "id": "a8809994",
   "metadata": {},
   "source": [
    "# A. Temporal Graphs"
   ]
  },
  {
   "cell_type": "code",
   "execution_count": 3,
   "id": "fd6c7b44",
   "metadata": {},
   "outputs": [],
   "source": [
    "def create_graph(graph_data: list, target_year: int, weighted: bool = False):\n",
    "    graph = nx.Graph()\n",
    "    for author1, author2, year in graph_data:\n",
    "        if year != target_year: continue\n",
    "        if graph.has_edge(author1, author2):\n",
    "            graph[author1][author2][\"weight\"] = graph[author1][author2][\"weight\"] + 1\n",
    "        else:\n",
    "            graph.add_edge(author1, author2, weight=1)\n",
    "    return graph\n",
    "        "
   ]
  },
  {
   "cell_type": "code",
   "execution_count": 4,
   "id": "b414ecc5",
   "metadata": {},
   "outputs": [],
   "source": [
    "def load_json(file_path: str):\n",
    "    with open(file_path, \"r\") as file:\n",
    "        graph_data = json.load(file)\n",
    "        return graph_data"
   ]
  },
  {
   "cell_type": "code",
   "execution_count": 5,
   "id": "81ba6abb",
   "metadata": {},
   "outputs": [],
   "source": [
    "graph_data = load_json(\"./tmp_dblp_coauthorship.json\")"
   ]
  },
  {
   "cell_type": "code",
   "execution_count": 6,
   "id": "a0809a86",
   "metadata": {},
   "outputs": [],
   "source": [
    "dblp2005 = create_graph(graph_data, 2005)\n",
    "dblp2006 = create_graph(graph_data, 2006)\n",
    "dblp2005w = create_graph(graph_data, 2005, weighted=True)"
   ]
  },
  {
   "cell_type": "code",
   "execution_count": 7,
   "id": "6d434163",
   "metadata": {},
   "outputs": [
    {
     "name": "stdout",
     "output_type": "stream",
     "text": [
      "  Graph Name  Node Count  Edge Count\n",
      "0   dblp2005      180227      403026\n",
      "1   dblp2006      201298      465988\n",
      "2  dblp2005w      180227      403026\n"
     ]
    }
   ],
   "source": [
    "table = pd.DataFrame(columns=[\"Graph Name\", \"Node Count\", \"Edge Count\"])\n",
    "table.loc[len(table)] = [\"dblp2005\", dblp2005.number_of_nodes(), dblp2005.number_of_edges()]\n",
    "table.loc[len(table)] = [\"dblp2006\", dblp2006.number_of_nodes(), dblp2006.number_of_edges()]\n",
    "table.loc[len(table)] = [\"dblp2005w\", dblp2005w.number_of_nodes(), dblp2005w.number_of_edges()]\n",
    "\n",
    "print(table)"
   ]
  },
  {
   "cell_type": "markdown",
   "id": "1dcca4f6",
   "metadata": {},
   "source": [
    "## Giant Connected Components"
   ]
  },
  {
   "cell_type": "code",
   "execution_count": 8,
   "id": "a59a0f6b",
   "metadata": {},
   "outputs": [],
   "source": [
    "def giant_connected_component(graph):\n",
    "    giant_cc_nodeset = max(nx.connected_components(graph), key=len)\n",
    "    return graph.subgraph(giant_cc_nodeset)"
   ]
  },
  {
   "cell_type": "code",
   "execution_count": 9,
   "id": "96c1c74b",
   "metadata": {},
   "outputs": [],
   "source": [
    "dblp2005 = giant_connected_component(dblp2005)\n",
    "dblp2006 = giant_connected_component(dblp2006)\n",
    "dblp2005w = giant_connected_component(dblp2005w)"
   ]
  },
  {
   "cell_type": "markdown",
   "id": "dec51675",
   "metadata": {},
   "source": [
    "## Report"
   ]
  },
  {
   "cell_type": "code",
   "execution_count": 10,
   "id": "17d0a551",
   "metadata": {},
   "outputs": [
    {
     "name": "stdout",
     "output_type": "stream",
     "text": [
      "  Graph Name  GCC Node Count  GCC Edge Count\n",
      "0   dblp2005          106943          300043\n",
      "1   dblp2006          123808          356968\n",
      "2  dblp2005w          106943          300043\n"
     ]
    }
   ],
   "source": [
    "table = pd.DataFrame(columns=[\"Graph Name\", \"GCC Node Count\", \"GCC Edge Count\"])\n",
    "table.loc[len(table)] = [\"dblp2005\", dblp2005.number_of_nodes(), dblp2005.number_of_edges()]\n",
    "table.loc[len(table)] = [\"dblp2006\", dblp2006.number_of_nodes(), dblp2006.number_of_edges()]\n",
    "table.loc[len(table)] = [\"dblp2005w\", dblp2005w.number_of_nodes(), dblp2005w.number_of_edges()]\n",
    "\n",
    "print(table)"
   ]
  },
  {
   "cell_type": "markdown",
   "id": "96b00aad",
   "metadata": {},
   "source": [
    "# B. Node and Edge Importance in Graphs"
   ]
  },
  {
   "cell_type": "code",
   "execution_count": 11,
   "id": "97a0d7b6",
   "metadata": {},
   "outputs": [],
   "source": [
    "def pagerank(graph):\n",
    "    pagerank = nx.pagerank(graph)\n",
    "    return pagerank\n",
    "\n",
    "def edge_betweenness(graph, k=10, weight=None, normalized=False):\n",
    "    betweenness = nx.edge_betweenness_centrality(graph, k=k, weight=weight, normalized=normalized)\n",
    "    return betweenness\n",
    "    \n",
    "def report_node_importance(graph_name, pagerank, top_n=50):\n",
    "    node_importance_table = pd.DataFrame(columns=[\"Author name\", \"Pagerank score\"])\n",
    "    ranked_nodes = sorted(pagerank, reverse=True, key=lambda node: pagerank[node])\n",
    "    for i in range(0,top_n):\n",
    "        if i >= len(ranked_nodes): break\n",
    "        node = ranked_nodes[i]\n",
    "        rank = pagerank[node]\n",
    "        node_importance_table.loc[len(node_importance_table)] = [node, rank]\n",
    "    \n",
    "    print(f\"Graph: {graph_name}\")\n",
    "    print(\"Node importance:\")\n",
    "    print(node_importance_table)\n",
    "\n",
    "def report_edge_importance(graph_name, betweenness, top_n=20):\n",
    "    edge_importance_table = pd.DataFrame(columns=[\"Author 1\", \"Author 2\", \"Betweeness score\"])\n",
    "    ranked_edges = sorted(betweenness, reverse=True, key=lambda edge: betweenness[edge])\n",
    "    for i in range(0, top_n):\n",
    "        if i >= len(ranked_edges): break\n",
    "        edge = ranked_edges[i]\n",
    "        rank = betweenness[edge]\n",
    "        edge_importance_table.loc[len(edge_importance_table)] = [edge[0], edge[1], rank]\n",
    "        \n",
    "    print(f\"Graph: {graph_name}\")\n",
    "    print(\"Edge importance:\")\n",
    "    print(edge_importance_table)"
   ]
  },
  {
   "cell_type": "markdown",
   "id": "d21e91d6",
   "metadata": {},
   "source": [
    "## Report"
   ]
  },
  {
   "cell_type": "code",
   "execution_count": 12,
   "id": "0809a131",
   "metadata": {},
   "outputs": [
    {
     "name": "stdout",
     "output_type": "stream",
     "text": [
      "Graph: dblp2005\n",
      "Node importance:\n",
      "                           Author name  Pagerank score\n",
      "0                              Wen Gao        0.000175\n",
      "1                      Chin-Chen Chang        0.000152\n",
      "2                          Wei-Ying Ma        0.000135\n",
      "3                               Xin Li        0.000128\n",
      "4                         Licheng Jiao        0.000124\n",
      "5                     Francky Catthoor        0.000122\n",
      "6                      H. Vincent Poor        0.000119\n",
      "7                           Zhaohui Wu        0.000118\n",
      "8                    Hans-Peter Seidel        0.000117\n",
      "9                        Xianlong Hong        0.000114\n",
      "10                      Mario Piattini        0.000109\n",
      "11                           Wei Zhang        0.000108\n",
      "12                    Tharam S. Dillon        0.000108\n",
      "13                           Minglu Li        0.000108\n",
      "14                       Samuel Pierre        0.000104\n",
      "15                      Witold Pedrycz        0.000102\n",
      "16                       Guanrong Chen        0.000101\n",
      "17                             Wei Liu        0.000101\n",
      "18                             Hai Jin        0.000100\n",
      "19                      David J. Evans        0.000098\n",
      "20                         Mario Gerla        0.000097\n",
      "21                            Bin Wang        0.000097\n",
      "22                            Wei Wang        0.000097\n",
      "23  Alberto L. Sangiovanni-Vincentelli        0.000096\n",
      "24                       Jinxiang Dong        0.000095\n",
      "25                         Kaushik Roy        0.000093\n",
      "26                    Heung-Yeung Shum        0.000093\n",
      "27                           Hong Shen        0.000092\n",
      "28                   Donald F. Towsley        0.000092\n",
      "29                          Yong Zhang        0.000091\n",
      "30                  Norman C. Beaulieu        0.000090\n",
      "31                  Mahmut T. Kandemir        0.000090\n",
      "32                        Philip S. Yu        0.000090\n",
      "33                  Azzedine Boukerche        0.000089\n",
      "34                            Fang Liu        0.000089\n",
      "35                  Mani B. Srivastava        0.000089\n",
      "36                       Ajith Abraham        0.000089\n",
      "37                        Yvon Savaria        0.000088\n",
      "38                        Tak-Wai Chan        0.000088\n",
      "39                       Elisa Bertino        0.000087\n",
      "40                              Yan Li        0.000087\n",
      "41                             Jing Li        0.000087\n",
      "42                           Yan Zhang        0.000087\n",
      "43                            Xiang Li        0.000086\n",
      "44                        Jiannong Cao        0.000086\n",
      "45                              Lei Li        0.000086\n",
      "46                           Tao Zhang        0.000086\n",
      "47                      Chao-Tung Yang        0.000085\n",
      "48                       Hsinchun Chen        0.000085\n",
      "49                      Katsumi Tanaka        0.000084\n",
      "Graph: dblp2006\n",
      "Node importance:\n",
      "              Author name  Pagerank score\n",
      "0                 Wen Gao        0.000167\n",
      "1         Chin-Chen Chang        0.000143\n",
      "2                 Qing Li        0.000123\n",
      "3                  Hui Li        0.000118\n",
      "4              Yong Zhang        0.000117\n",
      "5                  Xin Li        0.000113\n",
      "6               Yan Zhang        0.000113\n",
      "7           Xiaodong Wang        0.000111\n",
      "8                Wei Wang        0.000109\n",
      "9                 Hai Jin        0.000107\n",
      "10                Wei Liu        0.000106\n",
      "11       Francky Catthoor        0.000105\n",
      "12                Yong Yu        0.000105\n",
      "13            Wei-Ying Ma        0.000102\n",
      "14              Wei Zhang        0.000101\n",
      "15                Ying Li        0.000100\n",
      "16             Zhaohui Wu        0.000098\n",
      "17         Mario Piattini        0.000097\n",
      "18               Li Zhang        0.000095\n",
      "19        Masayuki Murata        0.000094\n",
      "20            Mario Gerla        0.000093\n",
      "21               Yu Zhang        0.000093\n",
      "22               Fang Liu        0.000092\n",
      "23                Jian Li        0.000091\n",
      "24  Laurence Tianruo Yang        0.000089\n",
      "25                Jing Li        0.000089\n",
      "26          C. C. Jay Kuo        0.000088\n",
      "27                 Yan Li        0.000086\n",
      "28              Jian Wang        0.000086\n",
      "29          Samuel Pierre        0.000086\n",
      "30              Yang Xiao        0.000086\n",
      "31                 Tao Li        0.000085\n",
      "32               Ying Liu        0.000084\n",
      "33              Yang Yang        0.000083\n",
      "34                 Wei Li        0.000083\n",
      "35      Hans-Peter Seidel        0.000083\n",
      "36        Luc J. Van Gool        0.000082\n",
      "37               Hao Wang        0.000081\n",
      "38              Minglu Li        0.000081\n",
      "39            Lajos Hanzo        0.000080\n",
      "40            Luca Benini        0.000080\n",
      "41   Nicholas R. Jennings        0.000080\n",
      "42          Elisa Bertino        0.000080\n",
      "43            Xuemin Shen        0.000079\n",
      "44              Tao Zhang        0.000079\n",
      "45          Hsinchun Chen        0.000078\n",
      "46         Piet Demeester        0.000078\n",
      "47              Yong Wang        0.000078\n",
      "48        Thomas S. Huang        0.000078\n",
      "49                 Bin Li        0.000078\n",
      "Graph: dblp2005w\n",
      "Node importance:\n",
      "                           Author name  Pagerank score\n",
      "0                              Wen Gao        0.000175\n",
      "1                      Chin-Chen Chang        0.000152\n",
      "2                          Wei-Ying Ma        0.000135\n",
      "3                               Xin Li        0.000128\n",
      "4                         Licheng Jiao        0.000124\n",
      "5                     Francky Catthoor        0.000122\n",
      "6                      H. Vincent Poor        0.000119\n",
      "7                           Zhaohui Wu        0.000118\n",
      "8                    Hans-Peter Seidel        0.000117\n",
      "9                        Xianlong Hong        0.000114\n",
      "10                      Mario Piattini        0.000109\n",
      "11                           Wei Zhang        0.000108\n",
      "12                    Tharam S. Dillon        0.000108\n",
      "13                           Minglu Li        0.000108\n",
      "14                       Samuel Pierre        0.000104\n",
      "15                      Witold Pedrycz        0.000102\n",
      "16                       Guanrong Chen        0.000101\n",
      "17                             Wei Liu        0.000101\n",
      "18                             Hai Jin        0.000100\n",
      "19                      David J. Evans        0.000098\n",
      "20                         Mario Gerla        0.000097\n",
      "21                            Bin Wang        0.000097\n",
      "22                            Wei Wang        0.000097\n",
      "23  Alberto L. Sangiovanni-Vincentelli        0.000096\n",
      "24                       Jinxiang Dong        0.000095\n",
      "25                         Kaushik Roy        0.000093\n",
      "26                    Heung-Yeung Shum        0.000093\n",
      "27                           Hong Shen        0.000092\n",
      "28                   Donald F. Towsley        0.000092\n",
      "29                          Yong Zhang        0.000091\n",
      "30                  Norman C. Beaulieu        0.000090\n",
      "31                  Mahmut T. Kandemir        0.000090\n",
      "32                        Philip S. Yu        0.000090\n",
      "33                  Azzedine Boukerche        0.000089\n",
      "34                            Fang Liu        0.000089\n",
      "35                  Mani B. Srivastava        0.000089\n",
      "36                       Ajith Abraham        0.000089\n",
      "37                        Yvon Savaria        0.000088\n",
      "38                        Tak-Wai Chan        0.000088\n",
      "39                       Elisa Bertino        0.000087\n",
      "40                              Yan Li        0.000087\n",
      "41                             Jing Li        0.000087\n",
      "42                           Yan Zhang        0.000087\n",
      "43                            Xiang Li        0.000086\n",
      "44                        Jiannong Cao        0.000086\n",
      "45                              Lei Li        0.000086\n",
      "46                           Tao Zhang        0.000086\n",
      "47                      Chao-Tung Yang        0.000085\n",
      "48                       Hsinchun Chen        0.000085\n",
      "49                      Katsumi Tanaka        0.000084\n"
     ]
    }
   ],
   "source": [
    "dblp2005_pagerank = pagerank(dblp2005)\n",
    "dblp2006_pagerank = pagerank(dblp2006)\n",
    "dblp2005w_pagerank = pagerank(dblp2005w)\n",
    "\n",
    "report_node_importance(\"dblp2005\", dblp2005_pagerank)\n",
    "report_node_importance(\"dblp2006\", dblp2006_pagerank)\n",
    "report_node_importance(\"dblp2005w\", dblp2005w_pagerank)"
   ]
  },
  {
   "cell_type": "code",
   "execution_count": 13,
   "id": "bf0944d4",
   "metadata": {},
   "outputs": [
    {
     "name": "stdout",
     "output_type": "stream",
     "text": [
      "Graph: dblp2005\n",
      "Edge importance:\n",
      "                Author 1                Author 2  Betweeness score\n",
      "0           Arye Nehorai               Jian Wang      53557.500000\n",
      "1             Hasan Ural            Nejib Zaguia      53508.039904\n",
      "2           Nejib Zaguia          Maurice Pouzet      53503.500000\n",
      "3        Peter C. Gibson          Maurice Pouzet      53495.000000\n",
      "4              Nicu Sebe  Dionysius P. Huijsmans      53475.500000\n",
      "5     Casey G. Cegielski          Carl M. Rebman      53475.000000\n",
      "6                 Yi Guo                  Wei Ma      52400.543970\n",
      "7                 Yi Guo      Casey G. Cegielski      52265.240369\n",
      "8            Peter Kabal                Wei Chen      50689.066655\n",
      "9     Patrick C. K. Hung             Guijun Wang      44710.863657\n",
      "10             Peng Zhao      José Nelson Amaral      38779.735783\n",
      "11    José Nelson Amaral             Paul Berube      38648.669014\n",
      "12     Benjamin F. Hobbs      William R. Stewart      37299.356984\n",
      "13           Hongbin Zha                  Wei Ma      35655.324897\n",
      "14            Hasan Ural       Robert M. Hierons      33215.468358\n",
      "15          Kah Chan Teh                Wei Chen      32754.877795\n",
      "16  Alexandros Kaloxylos         Nikos I. Passas      31519.931697\n",
      "17             Tao Zhang               Peng Zhao      30225.249045\n",
      "18          Wai-Yip Chan             Qingfeng Xu      27857.956214\n",
      "19          Rainer Böhme           Ralf Reussner      26368.587862\n",
      "Graph: dblp2006\n",
      "Edge importance:\n",
      "                  Author 1                Author 2  Betweeness score\n",
      "0          Lori L. Pollock        K. Vijay-Shanker      61987.000000\n",
      "1         Fernando Pereira       Riccardo Leonardi      61955.500000\n",
      "2             Ming Li 0002             Maiga Chang      61948.250000\n",
      "3              Ray J. Paul  Lampros K. Stergioulas      61947.500000\n",
      "4         Tommy W. S. Chow                D. Huang      61940.000000\n",
      "5        Riccardo Leonardi             Mauro Barni      61923.500000\n",
      "6              Mauro Barni     Francesco Filippini      61907.500000\n",
      "7            András Kocsor          Richárd Farkas      61907.500000\n",
      "8                 D. Huang              W. I. Notz      61906.000000\n",
      "9          Lori L. Pollock             L. Fishgold      61903.500000\n",
      "10           James T. Kwok           András Kocsor      59978.473067\n",
      "11                Wei Zhao            Ming Li 0002      59678.120256\n",
      "12               Yong Fang        Tommy W. S. Chow      57460.057197\n",
      "13        Daniel G. Aliaga           Robert Insley      44754.330899\n",
      "14  Lampros K. Stergioulas           Ambjörn Naeve      40260.323890\n",
      "15            Kay Chen Tan            Hanyang Quek      38734.678752\n",
      "16                Hui Yang             Yongjian Hu      38173.210136\n",
      "17           Shouyang Wang               Yong Fang      32063.374626\n",
      "18                  Hui Li             Jianjun Hao      31403.744515\n",
      "19              Huiping Li             Jianjun Hao      31390.144515\n",
      "Graph: dblp2005w\n",
      "Edge importance:\n",
      "                     Author 1                       Author 2  Betweeness score\n",
      "0              Bertil Schmidt                       Tong Liu      53571.500000\n",
      "1           Catherine Meadows              Christopher Lynch      53515.500000\n",
      "2        Ryszard Tadeusiewicz                  Adrian Horzyk      53483.500000\n",
      "3           Christopher Lynch                    Hani Hagras      53483.200000\n",
      "4            Ewa Dudek-Dyduch                  Adrian Horzyk      53479.500000\n",
      "5         Sébastien Konieczny               Ramón Pino Pérez      53475.500000\n",
      "6              Tadeusz Dyduch               Ewa Dudek-Dyduch      53475.500000\n",
      "7                 James J. Lu                  Sonali Renjen      53475.500000\n",
      "8               Magdy Bayoumi                   Soumik Ghosh      53475.000000\n",
      "9        Arulsaravana Jeyaraj                 Magda El Zarki      53475.000000\n",
      "10  Jeannette Shiaw-Yuan Chin                    Hani Hagras      53473.400000\n",
      "11             Bertil Schmidt               Menaka Rajapakse      53468.666667\n",
      "12                   Yijun Li                  Magdy Bayoumi      52894.752442\n",
      "13       Ryszard Tadeusiewicz              Krzysztof J. Cios      46894.116245\n",
      "14                   Yijun Li                  Xiaofang Zhou      45522.556126\n",
      "15        Sébastien Konieczny                 Anthony Hunter      38031.455311\n",
      "16                   Jie Yang              Krzysztof J. Cios      37670.177236\n",
      "17             Barry G. Evans  Harry Sam Harrison Gombachika      35458.791031\n",
      "18              Reiner Hähnle                 Neil V. Murray      26751.750000\n",
      "19              Reiner Hähnle                 Erik Rosenthal      26751.750000\n"
     ]
    }
   ],
   "source": [
    "dblp2005_betweenness = edge_betweenness(dblp2005)\n",
    "dblp2006_betweenness = edge_betweenness(dblp2006)\n",
    "dblp2005w_betweenness = edge_betweenness(dblp2005w, weight=\"weight\")\n",
    "\n",
    "report_edge_importance(\"dblp2005\", dblp2005_betweenness)\n",
    "report_edge_importance(\"dblp2006\", dblp2006_betweenness)\n",
    "report_edge_importance(\"dblp2005w\", dblp2005w_betweenness)"
   ]
  },
  {
   "cell_type": "markdown",
   "id": "117eafad",
   "metadata": {},
   "source": [
    "# C. Link Prediction in Graphs"
   ]
  },
  {
   "cell_type": "markdown",
   "id": "57bcdf99",
   "metadata": {},
   "source": [
    "## Pruning graphs"
   ]
  },
  {
   "cell_type": "code",
   "execution_count": 14,
   "id": "90697029",
   "metadata": {},
   "outputs": [],
   "source": [
    "def extract_subgraph_by_degree_count(graph, min_degree: int):\n",
    "    nodes_to_keep = [node for node, degree in graph.degree if degree >= min_degree]\n",
    "    return graph.subgraph(nodes_to_keep)"
   ]
  },
  {
   "cell_type": "code",
   "execution_count": 15,
   "id": "09415533",
   "metadata": {},
   "outputs": [],
   "source": [
    "dblp2005_core = extract_subgraph_by_degree_count(dblp2005, 3)\n",
    "dblp2006_core = extract_subgraph_by_degree_count(dblp2006, 3)"
   ]
  },
  {
   "cell_type": "markdown",
   "id": "ebb58658",
   "metadata": {},
   "source": [
    "## Prediction"
   ]
  },
  {
   "cell_type": "code",
   "execution_count": 16,
   "id": "a0611a36",
   "metadata": {},
   "outputs": [],
   "source": [
    "def friends_of_friends_connections(graph):\n",
    "    fof_connections = []\n",
    "    visited = set()\n",
    "    for node in graph.nodes():\n",
    "        fof_set = set()\n",
    "        for friend in graph[node]:\n",
    "            if friend == node: continue\n",
    "            for fof in graph[friend]:\n",
    "                if fof == node or fof in visited:\n",
    "                    continue\n",
    "                fof_set.add(fof)\n",
    "        \n",
    "        for fof in fof_set:\n",
    "            fof_connections.append((node, fof))\n",
    "                \n",
    "        visited.add(node)\n",
    "    return fof_connections\n",
    "                    \n",
    "    \n",
    "def graph_edge_difference(minuend_graph, subtrahend_graph):\n",
    "    edge_difference = []\n",
    "    for edge in minuend_graph.edges():\n",
    "        if subtrahend_graph.has_edge(*edge):\n",
    "            continue\n",
    "        edge_difference.append(edge)\n",
    "    return edge_difference"
   ]
  },
  {
   "cell_type": "code",
   "execution_count": 17,
   "id": "a1620864",
   "metadata": {},
   "outputs": [],
   "source": [
    "candidate_edges = friends_of_friends_connections(dblp2005_core)\n",
    "ground_truth_edges = graph_edge_difference(dblp2006_core, dblp2005_core)"
   ]
  },
  {
   "cell_type": "markdown",
   "id": "336b3c8f",
   "metadata": {},
   "source": [
    "## Precision"
   ]
  },
  {
   "cell_type": "code",
   "execution_count": 18,
   "id": "235f3a65",
   "metadata": {},
   "outputs": [],
   "source": [
    "def precision_at_k(k_values, predictions, ground_truth, include_max_k=False):\n",
    "    if type(k_values)==int:\n",
    "        k_values = [k_values]\n",
    "    ground_truth = set(ground_truth)\n",
    "    precision_results = dict()\n",
    "    \n",
    "    # `predictions` is of the form (u,v,s) where (u,v) is the edge, and s is the score for the edge for the specific link prediction algorithm that produced those predictions\n",
    "    sorted_predictions = sorted(predictions, key=lambda pred: pred[2])\n",
    "    predictions = [(u, v) for (u,v,s) in sorted_predictions]\n",
    "    \n",
    "    k = 0\n",
    "    correct_pred_count = 0\n",
    "    for pred in predictions:\n",
    "        k += 1\n",
    "        if pred in ground_truth:\n",
    "            correct_pred_count += 1\n",
    "        \n",
    "        if k in k_values:\n",
    "            precision_results[k] = correct_pred_count/k\n",
    "    \n",
    "    if include_max_k and k>0 and k not in precision_results:\n",
    "        precision_results[k] = correct_pred_count/k\n",
    "    \n",
    "    return precision_results\n",
    "\n",
    "def precision_report(predictions, ground_truth):\n",
    "    fixed_k_vals = [10, 20, 50, 100]\n",
    "    precision_results = precision_at_k(fixed_k_vals, predictions, ground_truth, include_max_k=True)\n",
    "    k_vals = sorted(precision_results.keys())\n",
    "    if len(precision_results)==0:\n",
    "        return pd.DataFrame()\n",
    "    \n",
    "    precision_report = pd.DataFrame(columns=[f\"P@{k}\" for k in k_vals])\n",
    "    precision_report.loc[len(precision_report)] = [precision_results[k] for k in k_vals]\n",
    "    \n",
    "    return precision_report\n",
    "        \n",
    "    "
   ]
  },
  {
   "cell_type": "code",
   "execution_count": 19,
   "id": "1a3a72aa",
   "metadata": {},
   "outputs": [
    {
     "name": "stdout",
     "output_type": "stream",
     "text": [
      "P@k values for Jaccard Coefficient\n",
      "   P@10  P@20  P@50  P@100  P@1236018\n",
      "0   0.0  0.05  0.06   0.03   0.005701\n"
     ]
    }
   ],
   "source": [
    "print(\"P@k values for Jaccard Coefficient\")\n",
    "jc_pred = nx.jaccard_coefficient(dblp2005_core, candidate_edges)\n",
    "print(precision_report(jc_pred, ground_truth_edges))"
   ]
  },
  {
   "cell_type": "code",
   "execution_count": 20,
   "id": "656658b0",
   "metadata": {},
   "outputs": [
    {
     "name": "stdout",
     "output_type": "stream",
     "text": [
      "P@k values for Preferential Attachment\n",
      "   P@10  P@20  P@50  P@100  P@1236018\n",
      "0   0.0   0.0   0.0   0.03   0.005701\n"
     ]
    }
   ],
   "source": [
    "print(\"P@k values for Preferential Attachment\")\n",
    "pa_pred = nx.preferential_attachment(dblp2005_core, candidate_edges)\n",
    "print(precision_report(pa_pred, ground_truth_edges))"
   ]
  },
  {
   "cell_type": "code",
   "execution_count": 21,
   "id": "110fea79",
   "metadata": {},
   "outputs": [
    {
     "name": "stdout",
     "output_type": "stream",
     "text": [
      "P@k values for Adamic/Adar\n",
      "   P@10  P@20  P@50  P@100  P@1236018\n",
      "0   0.0   0.0   0.0    0.0   0.005701\n"
     ]
    }
   ],
   "source": [
    "print(\"P@k values for Adamic/Adar\")\n",
    "aa_pred = nx.adamic_adar_index(dblp2005_core, candidate_edges)\n",
    "print(precision_report(aa_pred, ground_truth_edges))"
   ]
  },
  {
   "cell_type": "code",
   "execution_count": 23,
   "id": "fea1d24a",
   "metadata": {},
   "outputs": [
    {
     "name": "stdout",
     "output_type": "stream",
     "text": [
      "P@k values for Common Neighbors\n",
      "   P@10  P@20  P@50  P@100  P@1236018\n",
      "0   0.0   0.0   0.0    0.0   0.005701\n"
     ]
    }
   ],
   "source": [
    "print(\"P@k values for Common Neighbors\")\n",
    "cn_pred = [(u, v, len(list(nx.common_neighbors(dblp2005_core, u, v))) * -1) for u, v in candidate_edges]\n",
    "print(precision_report(cn_pred, ground_truth_edges))"
   ]
  },
  {
   "cell_type": "code",
   "execution_count": 24,
   "id": "f3ccb11f",
   "metadata": {},
   "outputs": [
    {
     "name": "stdout",
     "output_type": "stream",
     "text": [
      "P@k values for RD: Random Predictor\n",
      "   P@10  P@20  P@50  P@100  P@1236018\n",
      "0   0.1  0.05  0.02   0.01   0.005701\n"
     ]
    }
   ],
   "source": [
    "import random\n",
    "\n",
    "# Define a random predictor\n",
    "def random_predictor(graph, edges):\n",
    "    random_predictions = [(u, v, random.random()) for (u, v) in edges]\n",
    "    return random_predictions\n",
    "\n",
    "# Calculate P@k values for RD\n",
    "rd_pred = random_predictor(dblp2005_core, candidate_edges)\n",
    "print(\"P@k values for RD: Random Predictor\")\n",
    "print(precision_report(rd_pred, ground_truth_edges))\n"
   ]
  },
  {
   "cell_type": "markdown",
   "id": "2fbfb93f",
   "metadata": {},
   "source": [
    "# Community Detection in Graphs"
   ]
  },
  {
   "cell_type": "code",
   "execution_count": 34,
   "id": "aa335cde",
   "metadata": {},
   "outputs": [
    {
     "ename": "KeyboardInterrupt",
     "evalue": "",
     "output_type": "error",
     "traceback": [
      "\u001b[1;31m---------------------------------------------------------------------------\u001b[0m",
      "\u001b[1;31mKeyboardInterrupt\u001b[0m                         Traceback (most recent call last)",
      "Input \u001b[1;32mIn [34]\u001b[0m, in \u001b[0;36m<cell line: 16>\u001b[1;34m()\u001b[0m\n\u001b[0;32m     14\u001b[0m num_communities \u001b[38;5;241m=\u001b[39m \u001b[38;5;241m10\u001b[39m\n\u001b[0;32m     16\u001b[0m \u001b[38;5;28;01mfor\u001b[39;00m i \u001b[38;5;129;01min\u001b[39;00m \u001b[38;5;28mrange\u001b[39m(num_communities):\n\u001b[1;32m---> 18\u001b[0m     max_betweenness_edge \u001b[38;5;241m=\u001b[39m \u001b[43mmost_valuable_edge_subgraph\u001b[49m\u001b[43m(\u001b[49m\u001b[43mdblp2005\u001b[49m\u001b[43m,\u001b[49m\u001b[43m \u001b[49m\u001b[43mk\u001b[49m\u001b[43m)\u001b[49m\n\u001b[0;32m     19\u001b[0m     G\u001b[38;5;241m.\u001b[39mremove_edge(\u001b[38;5;241m*\u001b[39mmax_betweenness_edge)\n\u001b[0;32m     22\u001b[0m communities \u001b[38;5;241m=\u001b[39m \u001b[38;5;28mlist\u001b[39m(nx\u001b[38;5;241m.\u001b[39mconnected_components(G))\n",
      "Input \u001b[1;32mIn [34]\u001b[0m, in \u001b[0;36mmost_valuable_edge_subgraph\u001b[1;34m(G, k)\u001b[0m\n\u001b[0;32m      4\u001b[0m \u001b[38;5;28;01mdef\u001b[39;00m \u001b[38;5;21mmost_valuable_edge_subgraph\u001b[39m(G, k):\n\u001b[0;32m      5\u001b[0m     \u001b[38;5;28;01mwhile\u001b[39;00m \u001b[38;5;28;01mTrue\u001b[39;00m:\n\u001b[1;32m----> 6\u001b[0m         sample_nodes \u001b[38;5;241m=\u001b[39m \u001b[43mrandom\u001b[49m\u001b[38;5;241;43m.\u001b[39;49m\u001b[43msample\u001b[49m\u001b[43m(\u001b[49m\u001b[43mG\u001b[49m\u001b[38;5;241;43m.\u001b[39;49m\u001b[43mnodes\u001b[49m\u001b[43m(\u001b[49m\u001b[43m)\u001b[49m\u001b[43m,\u001b[49m\u001b[43m \u001b[49m\u001b[43mk\u001b[49m\u001b[43m)\u001b[49m\n\u001b[0;32m      7\u001b[0m         subgraph \u001b[38;5;241m=\u001b[39m G\u001b[38;5;241m.\u001b[39msubgraph(sample_nodes)\n\u001b[0;32m      8\u001b[0m         \u001b[38;5;28;01mif\u001b[39;00m \u001b[38;5;28mlen\u001b[39m(subgraph) \u001b[38;5;241m>\u001b[39m\u001b[38;5;241m=\u001b[39m \u001b[38;5;241m2\u001b[39m \u001b[38;5;129;01mand\u001b[39;00m nx\u001b[38;5;241m.\u001b[39mis_connected(subgraph):\n",
      "File \u001b[1;32m~\\anaconda3\\lib\\random.py:357\u001b[0m, in \u001b[0;36mRandom.sample\u001b[1;34m(self, population, k)\u001b[0m\n\u001b[0;32m    333\u001b[0m \u001b[38;5;66;03m# Sampling without replacement entails tracking either potential\u001b[39;00m\n\u001b[0;32m    334\u001b[0m \u001b[38;5;66;03m# selections (the pool) in a list or previous selections in a set.\u001b[39;00m\n\u001b[0;32m    335\u001b[0m \n\u001b[1;32m   (...)\u001b[0m\n\u001b[0;32m    353\u001b[0m \u001b[38;5;66;03m# too many calls to _randbelow(), making them slower and\u001b[39;00m\n\u001b[0;32m    354\u001b[0m \u001b[38;5;66;03m# causing them to eat more entropy than necessary.\u001b[39;00m\n\u001b[0;32m    356\u001b[0m \u001b[38;5;28;01mif\u001b[39;00m \u001b[38;5;28misinstance\u001b[39m(population, _Set):\n\u001b[1;32m--> 357\u001b[0m     population \u001b[38;5;241m=\u001b[39m \u001b[38;5;28;43mtuple\u001b[39;49m\u001b[43m(\u001b[49m\u001b[43mpopulation\u001b[49m\u001b[43m)\u001b[49m\n\u001b[0;32m    358\u001b[0m \u001b[38;5;28;01mif\u001b[39;00m \u001b[38;5;129;01mnot\u001b[39;00m \u001b[38;5;28misinstance\u001b[39m(population, _Sequence):\n\u001b[0;32m    359\u001b[0m     \u001b[38;5;28;01mraise\u001b[39;00m \u001b[38;5;167;01mTypeError\u001b[39;00m(\u001b[38;5;124m\"\u001b[39m\u001b[38;5;124mPopulation must be a sequence or set.  For dicts, use list(d).\u001b[39m\u001b[38;5;124m\"\u001b[39m)\n",
      "File \u001b[1;32m~\\anaconda3\\lib\\site-packages\\networkx\\classes\\coreviews.py:282\u001b[0m, in \u001b[0;36m<genexpr>\u001b[1;34m(.0)\u001b[0m\n\u001b[0;32m    280\u001b[0m \u001b[38;5;28;01mif\u001b[39;00m node_ok_shorter:\n\u001b[0;32m    281\u001b[0m     \u001b[38;5;28;01mreturn\u001b[39;00m (n \u001b[38;5;28;01mfor\u001b[39;00m n \u001b[38;5;129;01min\u001b[39;00m \u001b[38;5;28mself\u001b[39m\u001b[38;5;241m.\u001b[39mNODE_OK\u001b[38;5;241m.\u001b[39mnodes \u001b[38;5;28;01mif\u001b[39;00m n \u001b[38;5;129;01min\u001b[39;00m \u001b[38;5;28mself\u001b[39m\u001b[38;5;241m.\u001b[39m_atlas)\n\u001b[1;32m--> 282\u001b[0m \u001b[38;5;28;01mreturn\u001b[39;00m (n \u001b[38;5;28;01mfor\u001b[39;00m n \u001b[38;5;129;01min\u001b[39;00m \u001b[38;5;28mself\u001b[39m\u001b[38;5;241m.\u001b[39m_atlas \u001b[38;5;28;01mif\u001b[39;00m \u001b[38;5;28;43mself\u001b[39;49m\u001b[38;5;241;43m.\u001b[39;49m\u001b[43mNODE_OK\u001b[49m\u001b[43m(\u001b[49m\u001b[43mn\u001b[49m\u001b[43m)\u001b[49m)\n",
      "\u001b[1;31mKeyboardInterrupt\u001b[0m: "
     ]
    }
   ],
   "source": [
    "import networkx as nx\n",
    "import random\n",
    "\n",
    "def most_valuable_edge_subgraph(G, k):\n",
    "    while True:\n",
    "        sample_nodes = random.sample(G.nodes(), k)\n",
    "        subgraph = G.subgraph(sample_nodes)\n",
    "        if len(subgraph) >= 2 and nx.is_connected(subgraph):\n",
    "            edge_betweenness = nx.edge_betweenness_centrality(subgraph)\n",
    "            max_betweenness_edge = max(edge_betweenness, key=edge_betweenness.get)\n",
    "            return max_betweenness_edge\n",
    "\n",
    "k = 5\n",
    "num_communities = 10\n",
    "    \n",
    "for i in range(num_communities):\n",
    "    \n",
    "    max_betweenness_edge = most_valuable_edge_subgraph(dblp2005, k)\n",
    "    G.remove_edge(*max_betweenness_edge)\n",
    "\n",
    "\n",
    "communities = list(nx.connected_components(G))\n",
    "sorted_communities = sorted(communities, key=len, reverse=True)\n",
    "\n",
    "for i, community in enumerate(sorted_communities, 1):\n",
    "    print(f\"Community {i}, Size: {len(community)}\")\n"
   ]
  },
  {
   "cell_type": "code",
   "execution_count": null,
   "id": "9377653a",
   "metadata": {},
   "outputs": [],
   "source": []
  }
 ],
 "metadata": {
  "kernelspec": {
   "display_name": "Python 3 (ipykernel)",
   "language": "python",
   "name": "python3"
  },
  "language_info": {
   "codemirror_mode": {
    "name": "ipython",
    "version": 3
   },
   "file_extension": ".py",
   "mimetype": "text/x-python",
   "name": "python",
   "nbconvert_exporter": "python",
   "pygments_lexer": "ipython3",
   "version": "3.8.8"
  }
 },
 "nbformat": 4,
 "nbformat_minor": 5
}
